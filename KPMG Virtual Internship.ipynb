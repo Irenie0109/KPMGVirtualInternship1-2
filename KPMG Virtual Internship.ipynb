{
 "cells": [
  {
   "cell_type": "code",
   "execution_count": 1,
   "metadata": {},
   "outputs": [],
   "source": [
    "import numpy as np\n",
    "import pandas as pd\n",
    "import matplotlib.pyplot as plt"
   ]
  },
  {
   "cell_type": "code",
   "execution_count": 2,
   "metadata": {},
   "outputs": [],
   "source": [
    "import os\n",
    "os.chdir('C:\\\\Users\\\\zipzi\\\\Downloads')"
   ]
  },
  {
   "cell_type": "code",
   "execution_count": 3,
   "metadata": {},
   "outputs": [],
   "source": [
    "data1=pd.read_excel('KPMG_VI_New_raw_data_update_final (1).xlsx','Transactions')"
   ]
  },
  {
   "cell_type": "code",
   "execution_count": 4,
   "metadata": {},
   "outputs": [],
   "source": [
    "data2=pd.read_excel('KPMG_VI_New_raw_data_update_final (1).xlsx','NewCustomerList')"
   ]
  },
  {
   "cell_type": "code",
   "execution_count": 5,
   "metadata": {},
   "outputs": [],
   "source": [
    "data3=pd.read_excel('KPMG_VI_New_raw_data_update_final (1).xlsx','CustomerDemographic')"
   ]
  },
  {
   "cell_type": "code",
   "execution_count": 6,
   "metadata": {},
   "outputs": [],
   "source": [
    "data4=pd.read_excel('KPMG_VI_New_raw_data_update_final (1).xlsx','CustomerAddress')"
   ]
  },
  {
   "cell_type": "markdown",
   "metadata": {},
   "source": [
    "# Customer Demographic"
   ]
  },
  {
   "cell_type": "code",
   "execution_count": 7,
   "metadata": {},
   "outputs": [
    {
     "data": {
      "text/plain": [
       "customer_id                            0.0\n",
       "first_name                             0.0\n",
       "last_name                              0.0\n",
       "gender                                 0.0\n",
       "past_3_years_bike_related_purchases    0.0\n",
       "DOB                                    0.0\n",
       "job_title                              0.0\n",
       "job_industry_category                  0.0\n",
       "wealth_segment                         0.0\n",
       "deceased_indicator                     0.0\n",
       "default                                0.0\n",
       "owns_car                               0.0\n",
       "tenure                                 0.0\n",
       "dtype: float64"
      ]
     },
     "execution_count": 7,
     "metadata": {},
     "output_type": "execute_result"
    }
   ],
   "source": [
    "data3[data3.duplicated()].sum()"
   ]
  },
  {
   "cell_type": "code",
   "execution_count": 8,
   "metadata": {},
   "outputs": [
    {
     "name": "stdout",
     "output_type": "stream",
     "text": [
      "customer_id blanks:  0\n"
     ]
    }
   ],
   "source": [
    "print('customer_id blanks: ',pd.isna(data3['customer_id']).sum())"
   ]
  },
  {
   "cell_type": "code",
   "execution_count": 9,
   "metadata": {},
   "outputs": [
    {
     "data": {
      "text/plain": [
       "4000"
      ]
     },
     "execution_count": 9,
     "metadata": {},
     "output_type": "execute_result"
    }
   ],
   "source": [
    "pd.notna(data3['customer_id'].unique()).sum()"
   ]
  },
  {
   "cell_type": "code",
   "execution_count": 10,
   "metadata": {},
   "outputs": [
    {
     "name": "stdout",
     "output_type": "stream",
     "text": [
      "first name blanks:  0\n"
     ]
    }
   ],
   "source": [
    "print('first name blanks: ',pd.isna(data3['first_name']).sum())"
   ]
  },
  {
   "cell_type": "code",
   "execution_count": 11,
   "metadata": {},
   "outputs": [
    {
     "name": "stdout",
     "output_type": "stream",
     "text": [
      "gender: ['F' 'Male' 'Female' 'U' 'Femal' 'M']\n",
      "blanks:  0\n"
     ]
    },
    {
     "data": {
      "text/plain": [
       "(array([1.000e+00, 0.000e+00, 1.872e+03, 0.000e+00, 2.037e+03, 0.000e+00,\n",
       "        8.800e+01, 0.000e+00, 1.000e+00, 1.000e+00]),\n",
       " array([0. , 0.5, 1. , 1.5, 2. , 2.5, 3. , 3.5, 4. , 4.5, 5. ]),\n",
       " <BarContainer object of 10 artists>)"
      ]
     },
     "execution_count": 11,
     "metadata": {},
     "output_type": "execute_result"
    },
    {
     "data": {
      "image/png": "[encoded data removed]",
      "text/plain": [
       "<Figure size 432x288 with 1 Axes>"
      ]
     },
     "metadata": {
      "needs_background": "light"
     },
     "output_type": "display_data"
    }
   ],
   "source": [
    "print('gender:',data3['gender'].unique())\n",
    "print('blanks: ',pd.isna(data3['gender']).sum())\n",
    "plt.hist(data3['gender'][pd.notna(data3['gender'])],color='salmon')"
   ]
  },
  {
   "cell_type": "code",
   "execution_count": 12,
   "metadata": {},
   "outputs": [
    {
     "data": {
      "text/plain": [
       "count    4000.000000\n",
       "mean       48.890000\n",
       "std        28.715005\n",
       "min         0.000000\n",
       "25%        24.000000\n",
       "50%        48.000000\n",
       "75%        73.000000\n",
       "max        99.000000\n",
       "Name: past_3_years_bike_related_purchases, dtype: float64"
      ]
     },
     "execution_count": 12,
     "metadata": {},
     "output_type": "execute_result"
    }
   ],
   "source": [
    "data3['past_3_years_bike_related_purchases'].describe()"
   ]
  },
  {
   "cell_type": "code",
   "execution_count": 13,
   "metadata": {},
   "outputs": [
    {
     "name": "stdout",
     "output_type": "stream",
     "text": [
      "past_3_years_related_purchasess blanks:  0\n"
     ]
    }
   ],
   "source": [
    "print('past_3_years_related_purchasess blanks: ',pd.isna(data3['past_3_years_bike_related_purchases']).sum())"
   ]
  },
  {
   "cell_type": "code",
   "execution_count": 14,
   "metadata": {},
   "outputs": [
    {
     "data": {
      "text/plain": [
       "count                             3913\n",
       "mean     1977-07-12 23:56:41.277792736\n",
       "min                1843-12-21 00:00:00\n",
       "25%                1968-01-22 00:00:00\n",
       "50%                1977-07-22 00:00:00\n",
       "75%                1987-02-28 00:00:00\n",
       "max                2002-03-11 00:00:00\n",
       "Name: DOB, dtype: object"
      ]
     },
     "execution_count": 14,
     "metadata": {},
     "output_type": "execute_result"
    }
   ],
   "source": [
    "data3['DOB'].describe(datetime_is_numeric=True)"
   ]
  },
  {
   "cell_type": "code",
   "execution_count": 15,
   "metadata": {},
   "outputs": [
    {
     "name": "stdout",
     "output_type": "stream",
     "text": [
      "DOB blanks:  87\n"
     ]
    }
   ],
   "source": [
    "print('DOB blanks: ',pd.isna(data3['DOB']).sum())"
   ]
  },
  {
   "cell_type": "code",
   "execution_count": 16,
   "metadata": {},
   "outputs": [
    {
     "data": {
      "text/plain": [
       "<matplotlib.collections.PathCollection at 0x26c71b037f0>"
      ]
     },
     "execution_count": 16,
     "metadata": {},
     "output_type": "execute_result"
    },
    {
     "data": {
      "image/png": "[encoded data removed]",
      "text/plain": [
       "<Figure size 432x288 with 1 Axes>"
      ]
     },
     "metadata": {
      "needs_background": "light"
     },
     "output_type": "display_data"
    }
   ],
   "source": [
    "plt.scatter([d.year for d in data3['DOB']],[d.month for d in data3['DOB']],color='salmon')"
   ]
  },
  {
   "cell_type": "code",
   "execution_count": 17,
   "metadata": {},
   "outputs": [],
   "source": [
    "from datetime import datetime\n",
    "data3['age']= (datetime.now()-data3['DOB'])//365"
   ]
  },
  {
   "cell_type": "code",
   "execution_count": 18,
   "metadata": {},
   "outputs": [
    {
     "data": {
      "text/plain": [
       "count                           3913\n",
       "mean      44 days 18:59:49.022100304\n",
       "std       12 days 19:17:57.825070499\n",
       "min       20 days 02:45:20.532450416\n",
       "25%       35 days 03:44:31.217381923\n",
       "50%       44 days 18:24:18.066696991\n",
       "75%       54 days 06:30:13.135190142\n",
       "max      178 days 10:34:49.299573704\n",
       "Name: age, dtype: object"
      ]
     },
     "execution_count": 18,
     "metadata": {},
     "output_type": "execute_result"
    }
   ],
   "source": [
    "data3['age'].describe()"
   ]
  },
  {
   "cell_type": "code",
   "execution_count": 19,
   "metadata": {},
   "outputs": [
    {
     "data": {
      "text/plain": [
       "<matplotlib.collections.PathCollection at 0x26c71be8d00>"
      ]
     },
     "execution_count": 19,
     "metadata": {},
     "output_type": "execute_result"
    },
    {
     "data": {
      "image/png": "[encoded data removed]",
      "text/plain": [
       "<Figure size 432x288 with 1 Axes>"
      ]
     },
     "metadata": {
      "needs_background": "light"
     },
     "output_type": "display_data"
    }
   ],
   "source": [
    "plt.scatter([d.year for d in data3['DOB']],data3['age'].dt.days,color='salmon')"
   ]
  },
  {
   "cell_type": "code",
   "execution_count": 20,
   "metadata": {},
   "outputs": [
    {
     "name": "stdout",
     "output_type": "stream",
     "text": [
      "job_title:  ['Executive Secretary' 'Administrative Officer' 'Recruiting Manager' nan\n",
      " 'Senior Editor' 'Media Manager I' 'Business Systems Development Analyst'\n",
      " 'Senior Quality Engineer' 'Nuclear Power Engineer' 'Developer I'\n",
      " 'Account Executive' 'Junior Executive' 'Media Manager IV'\n",
      " 'Sales Associate' 'Professor' 'Geological Engineer' 'Project Manager'\n",
      " 'Safety Technician I' 'Research Assistant I' 'Accounting Assistant III'\n",
      " 'Editor' 'Research Nurse' 'Safety Technician III' 'Staff Accountant III'\n",
      " 'Legal Assistant' 'Product Engineer' 'Information Systems Manager'\n",
      " 'VP Quality Control' 'Social Worker' 'Senior Cost Accountant'\n",
      " 'Assistant Media Planner' 'Payment Adjustment Coordinator' 'Food Chemist'\n",
      " 'Accountant III' 'Director of Sales' 'Senior Financial Analyst'\n",
      " 'Registered Nurse' 'Biostatistician II' 'Computer Systems Analyst II'\n",
      " 'Software Test Engineer II' 'Paralegal' 'VP Sales'\n",
      " 'Chief Design Engineer' 'Office Assistant III'\n",
      " 'Physical Therapy Assistant' 'Help Desk Operator' 'Web Developer II'\n",
      " 'Research Associate' 'Teacher' 'VP Product Management' 'Statistician II'\n",
      " 'Automation Specialist IV' 'Data Coordiator' 'Software Test Engineer III'\n",
      " 'Internal Auditor' 'Analyst Programmer' 'Occupational Therapist'\n",
      " 'Speech Pathologist' 'Quality Control Specialist' 'Civil Engineer'\n",
      " 'Software Engineer III' 'Community Outreach Specialist'\n",
      " 'Safety Technician IV' 'VP Accounting' 'General Manager'\n",
      " 'Nurse Practicioner' 'Automation Specialist II' 'Marketing Assistant'\n",
      " 'Marketing Manager' 'Staff Scientist' 'Assistant Professor'\n",
      " 'Budget/Accounting Analyst IV' 'Associate Professor' 'Graphic Designer'\n",
      " 'Administrative Assistant II' 'Compensation Analyst'\n",
      " 'Systems Administrator III' 'Financial Advisor' 'Chemical Engineer'\n",
      " 'Web Designer I' 'Senior Developer' 'Office Assistant II' 'Recruiter'\n",
      " 'Operator' 'Programmer Analyst III' 'Quality Engineer'\n",
      " 'Environmental Tech' 'Analog Circuit Design manager' 'Cost Accountant'\n",
      " 'Librarian' 'Structural Analysis Engineer' 'Pharmacist'\n",
      " 'Assistant Manager' 'Accountant I' 'Web Designer III' 'Geologist III'\n",
      " 'Software Test Engineer I' 'Structural Engineer' 'Safety Technician II'\n",
      " 'Web Developer III' 'Programmer Analyst II' 'Design Engineer'\n",
      " 'Statistician I' 'VP Marketing' 'Desktop Support Technician' 'Actuary'\n",
      " 'Database Administrator III' 'Electrical Engineer' 'Tax Accountant'\n",
      " 'Clinical Specialist' 'Database Administrator IV'\n",
      " 'Systems Administrator II' 'Account Coordinator' 'Programmer III'\n",
      " 'Administrative Assistant III' 'Nurse' 'Technical Writer'\n",
      " 'Staff Accountant II' 'Dental Hygienist' 'Sales Representative'\n",
      " 'Budget/Accounting Analyst III' 'Computer Systems Analyst IV'\n",
      " 'Geologist I' 'Financial Analyst' 'Accounting Assistant II'\n",
      " 'Senior Sales Associate' 'Database Administrator II' 'Engineer I'\n",
      " 'Budget/Accounting Analyst I' 'Developer IV' 'Database Administrator I'\n",
      " 'Environmental Specialist' 'Computer Systems Analyst I'\n",
      " 'Account Representative IV' 'Statistician IV' 'Human Resources Manager'\n",
      " 'GIS Technical Architect' 'Programmer IV' 'Accounting Assistant IV'\n",
      " 'Software Engineer IV' 'Programmer II' 'Engineer III'\n",
      " 'Software Consultant' 'Biostatistician IV' 'Help Desk Technician'\n",
      " 'Automation Specialist I' 'Developer III' 'Human Resources Assistant I'\n",
      " 'Geologist IV' 'Media Manager II' 'Statistician III' 'Engineer II'\n",
      " 'Health Coach II' 'Developer II' 'Systems Administrator I'\n",
      " 'Web Developer I' 'Software Engineer II' 'Accounting Assistant I'\n",
      " 'Research Assistant II' 'Programmer Analyst IV' 'Health Coach I'\n",
      " 'Accountant II' 'Automation Specialist III' 'Administrative Assistant I'\n",
      " 'Health Coach IV' 'Media Manager III' 'Account Representative III'\n",
      " 'Web Designer IV' 'Budget/Accounting Analyst II' 'Web Developer IV'\n",
      " 'Programmer I' 'Biostatistician III' 'Software Test Engineer IV'\n",
      " 'Research Assistant IV' 'Account Representative I' 'Accountant IV'\n",
      " 'Biostatistician I' 'Human Resources Assistant IV'\n",
      " 'Administrative Assistant IV' 'Office Assistant I'\n",
      " 'Human Resources Assistant II' 'Mechanical Systems Engineer'\n",
      " 'Engineer IV' 'Health Coach III' 'Office Assistant IV'\n",
      " 'Software Engineer I' 'Human Resources Assistant III'\n",
      " 'Staff Accountant I' 'Computer Systems Analyst III' 'Geologist II'\n",
      " 'Web Designer II' 'Staff Accountant IV' 'Account Representative II'\n",
      " 'Programmer Analyst I' 'Systems Administrator IV'\n",
      " 'Research Assistant III']\n",
      "blanks:  506\n"
     ]
    }
   ],
   "source": [
    "print('job_title: ',data3['job_title'].unique())\n",
    "print('blanks: ',pd.isna(data3['job_title']).sum())"
   ]
  },
  {
   "cell_type": "code",
   "execution_count": 21,
   "metadata": {},
   "outputs": [
    {
     "name": "stdout",
     "output_type": "stream",
     "text": [
      "job_industry_category:  ['Health' 'Financial Services' 'Property' 'IT' nan 'Retail' 'Argiculture'\n",
      " 'Manufacturing' 'Telecommunications' 'Entertainment']\n",
      "blanks:  656\n"
     ]
    }
   ],
   "source": [
    "print('job_industry_category: ',data3['job_industry_category'].unique())\n",
    "print('blanks: ',pd.isna(data3['job_industry_category']).sum())"
   ]
  },
  {
   "cell_type": "code",
   "execution_count": 22,
   "metadata": {},
   "outputs": [
    {
     "name": "stdout",
     "output_type": "stream",
     "text": [
      "wealth_segment:  ['Mass Customer' 'Affluent Customer' 'High Net Worth']\n",
      "blanks:  0\n"
     ]
    },
    {
     "data": {
      "text/plain": [
       "(array([2000.,    0.,    0.,    0.,    0.,  979.,    0.,    0.,    0.,\n",
       "        1021.]),\n",
       " array([0. , 0.2, 0.4, 0.6, 0.8, 1. , 1.2, 1.4, 1.6, 1.8, 2. ]),\n",
       " <BarContainer object of 10 artists>)"
      ]
     },
     "execution_count": 22,
     "metadata": {},
     "output_type": "execute_result"
    },
    {
     "data": {
      "image/png": "[encoded data removed]",
      "text/plain": [
       "<Figure size 432x288 with 1 Axes>"
      ]
     },
     "metadata": {
      "needs_background": "light"
     },
     "output_type": "display_data"
    }
   ],
   "source": [
    "print('wealth_segment: ',data3['wealth_segment'].unique())\n",
    "print('blanks: ',pd.isna(data3['wealth_segment']).sum())\n",
    "plt.hist(data3['wealth_segment'][pd.notna(data3['wealth_segment'])],color='salmon')"
   ]
  },
  {
   "cell_type": "code",
   "execution_count": 23,
   "metadata": {},
   "outputs": [
    {
     "name": "stdout",
     "output_type": "stream",
     "text": [
      "deceased_indicator:  ['N' 'Y']\n",
      "blanks:  0\n"
     ]
    },
    {
     "data": {
      "text/plain": [
       "(array([3.998e+03, 0.000e+00, 0.000e+00, 0.000e+00, 0.000e+00, 0.000e+00,\n",
       "        0.000e+00, 0.000e+00, 0.000e+00, 2.000e+00]),\n",
       " array([0. , 0.1, 0.2, 0.3, 0.4, 0.5, 0.6, 0.7, 0.8, 0.9, 1. ]),\n",
       " <BarContainer object of 10 artists>)"
      ]
     },
     "execution_count": 23,
     "metadata": {},
     "output_type": "execute_result"
    },
    {
     "data": {
      "image/png": "[encoded data removed]",
      "text/plain": [
       "<Figure size 432x288 with 1 Axes>"
      ]
     },
     "metadata": {
      "needs_background": "light"
     },
     "output_type": "display_data"
    }
   ],
   "source": [
    "print('deceased_indicator: ',data3['deceased_indicator'].unique())\n",
    "print('blanks: ',pd.isna(data3['deceased_indicator']).sum())\n",
    "plt.hist(data3['deceased_indicator'][pd.notna(data3['deceased_indicator'])],color='salmon')"
   ]
  },
  {
   "cell_type": "code",
   "execution_count": 24,
   "metadata": {},
   "outputs": [
    {
     "data": {
      "text/plain": [
       "2"
      ]
     },
     "execution_count": 24,
     "metadata": {},
     "output_type": "execute_result"
    }
   ],
   "source": [
    "data3['deceased_indicator'][data3['deceased_indicator']=='Y'].count()"
   ]
  },
  {
   "cell_type": "code",
   "execution_count": 25,
   "metadata": {},
   "outputs": [
    {
     "name": "stdout",
     "output_type": "stream",
     "text": [
      "owns_car:  ['Yes' 'No']\n",
      "blanks:  0\n"
     ]
    },
    {
     "data": {
      "text/plain": [
       "(array([2024.,    0.,    0.,    0.,    0.,    0.,    0.,    0.,    0.,\n",
       "        1976.]),\n",
       " array([0. , 0.1, 0.2, 0.3, 0.4, 0.5, 0.6, 0.7, 0.8, 0.9, 1. ]),\n",
       " <BarContainer object of 10 artists>)"
      ]
     },
     "execution_count": 25,
     "metadata": {},
     "output_type": "execute_result"
    },
    {
     "data": {
      "image/png": "[encoded data removed]",
      "text/plain": [
       "<Figure size 432x288 with 1 Axes>"
      ]
     },
     "metadata": {
      "needs_background": "light"
     },
     "output_type": "display_data"
    }
   ],
   "source": [
    "print('owns_car: ',data3['owns_car'].unique())\n",
    "print('blanks: ',pd.isna(data3['owns_car']).sum())\n",
    "plt.hist(data3['owns_car'][pd.notna(data3['owns_car'])],color='salmon')"
   ]
  },
  {
   "cell_type": "code",
   "execution_count": 26,
   "metadata": {},
   "outputs": [
    {
     "data": {
      "text/plain": [
       "count    3913.000000\n",
       "mean       10.657041\n",
       "std         5.660146\n",
       "min         1.000000\n",
       "25%         6.000000\n",
       "50%        11.000000\n",
       "75%        15.000000\n",
       "max        22.000000\n",
       "Name: tenure, dtype: float64"
      ]
     },
     "execution_count": 26,
     "metadata": {},
     "output_type": "execute_result"
    }
   ],
   "source": [
    "data3['tenure'].describe()"
   ]
  },
  {
   "cell_type": "code",
   "execution_count": 27,
   "metadata": {},
   "outputs": [
    {
     "name": "stdout",
     "output_type": "stream",
     "text": [
      "tenure blanks:  87\n"
     ]
    }
   ],
   "source": [
    "print('tenure blanks: ',pd.isna(data3['tenure']).sum())"
   ]
  },
  {
   "cell_type": "markdown",
   "metadata": {},
   "source": [
    "# Customer Address"
   ]
  },
  {
   "cell_type": "code",
   "execution_count": 28,
   "metadata": {},
   "outputs": [
    {
     "data": {
      "text/html": [
       "<div>\n",
       "<style scoped>\n",
       "    .dataframe tbody tr th:only-of-type {\n",
       "        vertical-align: middle;\n",
       "    }\n",
       "\n",
       "    .dataframe tbody tr th {\n",
       "        vertical-align: top;\n",
       "    }\n",
       "\n",
       "    .dataframe thead th {\n",
       "        text-align: right;\n",
       "    }\n",
       "</style>\n",
       "<table border=\"1\" class=\"dataframe\">\n",
       "  <thead>\n",
       "    <tr style=\"text-align: right;\">\n",
       "      <th></th>\n",
       "      <th>customer_id</th>\n",
       "      <th>address</th>\n",
       "      <th>postcode</th>\n",
       "      <th>state</th>\n",
       "      <th>country</th>\n",
       "      <th>property_valuation</th>\n",
       "    </tr>\n",
       "  </thead>\n",
       "  <tbody>\n",
       "    <tr>\n",
       "      <th>0</th>\n",
       "      <td>1</td>\n",
       "      <td>060 Morning Avenue</td>\n",
       "      <td>2016</td>\n",
       "      <td>New South Wales</td>\n",
       "      <td>Australia</td>\n",
       "      <td>10</td>\n",
       "    </tr>\n",
       "    <tr>\n",
       "      <th>1</th>\n",
       "      <td>2</td>\n",
       "      <td>6 Meadow Vale Court</td>\n",
       "      <td>2153</td>\n",
       "      <td>New South Wales</td>\n",
       "      <td>Australia</td>\n",
       "      <td>10</td>\n",
       "    </tr>\n",
       "    <tr>\n",
       "      <th>2</th>\n",
       "      <td>4</td>\n",
       "      <td>0 Holy Cross Court</td>\n",
       "      <td>4211</td>\n",
       "      <td>QLD</td>\n",
       "      <td>Australia</td>\n",
       "      <td>9</td>\n",
       "    </tr>\n",
       "    <tr>\n",
       "      <th>3</th>\n",
       "      <td>5</td>\n",
       "      <td>17979 Del Mar Point</td>\n",
       "      <td>2448</td>\n",
       "      <td>New South Wales</td>\n",
       "      <td>Australia</td>\n",
       "      <td>4</td>\n",
       "    </tr>\n",
       "    <tr>\n",
       "      <th>4</th>\n",
       "      <td>6</td>\n",
       "      <td>9 Oakridge Court</td>\n",
       "      <td>3216</td>\n",
       "      <td>VIC</td>\n",
       "      <td>Australia</td>\n",
       "      <td>9</td>\n",
       "    </tr>\n",
       "  </tbody>\n",
       "</table>\n",
       "</div>"
      ],
      "text/plain": [
       "   customer_id              address  postcode            state    country  \\\n",
       "0            1   060 Morning Avenue      2016  New South Wales  Australia   \n",
       "1            2  6 Meadow Vale Court      2153  New South Wales  Australia   \n",
       "2            4   0 Holy Cross Court      4211              QLD  Australia   \n",
       "3            5  17979 Del Mar Point      2448  New South Wales  Australia   \n",
       "4            6     9 Oakridge Court      3216              VIC  Australia   \n",
       "\n",
       "   property_valuation  \n",
       "0                  10  \n",
       "1                  10  \n",
       "2                   9  \n",
       "3                   4  \n",
       "4                   9  "
      ]
     },
     "execution_count": 28,
     "metadata": {},
     "output_type": "execute_result"
    }
   ],
   "source": [
    "data4.head()"
   ]
  },
  {
   "cell_type": "code",
   "execution_count": 29,
   "metadata": {},
   "outputs": [
    {
     "data": {
      "text/plain": [
       "(3999, 6)"
      ]
     },
     "execution_count": 29,
     "metadata": {},
     "output_type": "execute_result"
    }
   ],
   "source": [
    "data4.shape"
   ]
  },
  {
   "cell_type": "code",
   "execution_count": 30,
   "metadata": {},
   "outputs": [
    {
     "data": {
      "text/plain": [
       "customer_id           0.0\n",
       "address               0.0\n",
       "postcode              0.0\n",
       "state                 0.0\n",
       "country               0.0\n",
       "property_valuation    0.0\n",
       "dtype: float64"
      ]
     },
     "execution_count": 30,
     "metadata": {},
     "output_type": "execute_result"
    }
   ],
   "source": [
    "data4[data4.duplicated()].sum()"
   ]
  },
  {
   "cell_type": "code",
   "execution_count": 31,
   "metadata": {},
   "outputs": [
    {
     "name": "stdout",
     "output_type": "stream",
     "text": [
      "customer_id blanks:  0\n"
     ]
    }
   ],
   "source": [
    "print('customer_id blanks: ',pd.isna(data4['customer_id']).sum())"
   ]
  },
  {
   "cell_type": "code",
   "execution_count": 32,
   "metadata": {},
   "outputs": [
    {
     "data": {
      "text/plain": [
       "3999"
      ]
     },
     "execution_count": 32,
     "metadata": {},
     "output_type": "execute_result"
    }
   ],
   "source": [
    "pd.notna(data4['customer_id'].unique()).sum()"
   ]
  },
  {
   "cell_type": "code",
   "execution_count": 33,
   "metadata": {},
   "outputs": [
    {
     "name": "stdout",
     "output_type": "stream",
     "text": [
      "customer_id not in demographic dataset:  4\n"
     ]
    }
   ],
   "source": [
    "print('customer_id not in demographic dataset: ',\n",
    "      sum([(1 if (i not in data3['customer_id']) else 0) for i in data4['customer_id']]))"
   ]
  },
  {
   "cell_type": "code",
   "execution_count": 34,
   "metadata": {},
   "outputs": [
    {
     "name": "stdout",
     "output_type": "stream",
     "text": [
      "address blanks:  0\n"
     ]
    }
   ],
   "source": [
    "print('address blanks: ',pd.isna(data4['address']).sum())"
   ]
  },
  {
   "cell_type": "code",
   "execution_count": 35,
   "metadata": {},
   "outputs": [
    {
     "name": "stdout",
     "output_type": "stream",
     "text": [
      "postcode blanks:  0\n"
     ]
    }
   ],
   "source": [
    "print('postcode blanks: ',pd.isna(data4['postcode']).sum())"
   ]
  },
  {
   "cell_type": "code",
   "execution_count": 36,
   "metadata": {},
   "outputs": [
    {
     "name": "stdout",
     "output_type": "stream",
     "text": [
      "state:  ['New South Wales' 'QLD' 'VIC' 'NSW' 'Victoria']\n",
      "blanks:  0\n"
     ]
    }
   ],
   "source": [
    "print('state: ',data4['state'].unique())\n",
    "print('blanks: ',pd.isna(data4['state']).sum())"
   ]
  },
  {
   "cell_type": "code",
   "execution_count": 37,
   "metadata": {},
   "outputs": [
    {
     "data": {
      "text/plain": [
       "(array([  86.,    0.,  838.,    0.,    0.,  939.,    0., 2054.,    0.,\n",
       "          82.]),\n",
       " array([0. , 0.4, 0.8, 1.2, 1.6, 2. , 2.4, 2.8, 3.2, 3.6, 4. ]),\n",
       " <BarContainer object of 10 artists>)"
      ]
     },
     "execution_count": 37,
     "metadata": {},
     "output_type": "execute_result"
    },
    {
     "data": {
      "image/png": "[encoded data removed]",
      "text/plain": [
       "<Figure size 432x288 with 1 Axes>"
      ]
     },
     "metadata": {
      "needs_background": "light"
     },
     "output_type": "display_data"
    }
   ],
   "source": [
    "plt.hist(data4['state'][pd.notna(data4['state'])],color='salmon')"
   ]
  },
  {
   "cell_type": "code",
   "execution_count": 38,
   "metadata": {},
   "outputs": [
    {
     "name": "stdout",
     "output_type": "stream",
     "text": [
      "country:  ['Australia']\n",
      "blanks:  0\n"
     ]
    }
   ],
   "source": [
    "print('country: ',data4['country'].unique())\n",
    "print('blanks: ',pd.isna(data4['country']).sum())"
   ]
  },
  {
   "cell_type": "code",
   "execution_count": 39,
   "metadata": {},
   "outputs": [
    {
     "data": {
      "text/plain": [
       "count    3999.000000\n",
       "mean        7.514379\n",
       "std         2.824663\n",
       "min         1.000000\n",
       "25%         6.000000\n",
       "50%         8.000000\n",
       "75%        10.000000\n",
       "max        12.000000\n",
       "Name: property_valuation, dtype: float64"
      ]
     },
     "execution_count": 39,
     "metadata": {},
     "output_type": "execute_result"
    }
   ],
   "source": [
    "data4['property_valuation'].describe()"
   ]
  },
  {
   "cell_type": "code",
   "execution_count": 40,
   "metadata": {},
   "outputs": [
    {
     "name": "stdout",
     "output_type": "stream",
     "text": [
      "property_valuation blanks:  0\n"
     ]
    }
   ],
   "source": [
    "print('property_valuation blanks: ',pd.isna(data4['property_valuation']).sum())"
   ]
  },
  {
   "cell_type": "code",
   "execution_count": 41,
   "metadata": {},
   "outputs": [
    {
     "data": {
      "text/plain": [
       "(array([297., 186., 214., 225., 238., 493., 646., 647., 577., 476.]),\n",
       " array([ 1. ,  2.1,  3.2,  4.3,  5.4,  6.5,  7.6,  8.7,  9.8, 10.9, 12. ]),\n",
       " <BarContainer object of 10 artists>)"
      ]
     },
     "execution_count": 41,
     "metadata": {},
     "output_type": "execute_result"
    },
    {
     "data": {
      "image/png": "[encoded data removed]",
      "text/plain": [
       "<Figure size 432x288 with 1 Axes>"
      ]
     },
     "metadata": {
      "needs_background": "light"
     },
     "output_type": "display_data"
    }
   ],
   "source": [
    "plt.hist(data4['property_valuation'][pd.notna(data4['property_valuation'])],color='salmon')"
   ]
  },
  {
   "cell_type": "markdown",
   "metadata": {},
   "source": [
    "# Transactions"
   ]
  },
  {
   "cell_type": "code",
   "execution_count": 42,
   "metadata": {},
   "outputs": [
    {
     "data": {
      "text/html": [
       "<div>\n",
       "<style scoped>\n",
       "    .dataframe tbody tr th:only-of-type {\n",
       "        vertical-align: middle;\n",
       "    }\n",
       "\n",
       "    .dataframe tbody tr th {\n",
       "        vertical-align: top;\n",
       "    }\n",
       "\n",
       "    .dataframe thead th {\n",
       "        text-align: right;\n",
       "    }\n",
       "</style>\n",
       "<table border=\"1\" class=\"dataframe\">\n",
       "  <thead>\n",
       "    <tr style=\"text-align: right;\">\n",
       "      <th></th>\n",
       "      <th>transaction_id</th>\n",
       "      <th>product_id</th>\n",
       "      <th>customer_id</th>\n",
       "      <th>transaction_date</th>\n",
       "      <th>online_order</th>\n",
       "      <th>order_status</th>\n",
       "      <th>brand</th>\n",
       "      <th>product_line</th>\n",
       "      <th>product_class</th>\n",
       "      <th>product_size</th>\n",
       "      <th>list_price</th>\n",
       "      <th>standard_cost</th>\n",
       "      <th>product_first_sold_date</th>\n",
       "    </tr>\n",
       "  </thead>\n",
       "  <tbody>\n",
       "    <tr>\n",
       "      <th>0</th>\n",
       "      <td>1</td>\n",
       "      <td>2</td>\n",
       "      <td>2950</td>\n",
       "      <td>2017-02-25</td>\n",
       "      <td>0.0</td>\n",
       "      <td>Approved</td>\n",
       "      <td>Solex</td>\n",
       "      <td>Standard</td>\n",
       "      <td>medium</td>\n",
       "      <td>medium</td>\n",
       "      <td>71.49</td>\n",
       "      <td>53.62</td>\n",
       "      <td>41245.0</td>\n",
       "    </tr>\n",
       "    <tr>\n",
       "      <th>1</th>\n",
       "      <td>2</td>\n",
       "      <td>3</td>\n",
       "      <td>3120</td>\n",
       "      <td>2017-05-21</td>\n",
       "      <td>1.0</td>\n",
       "      <td>Approved</td>\n",
       "      <td>Trek Bicycles</td>\n",
       "      <td>Standard</td>\n",
       "      <td>medium</td>\n",
       "      <td>large</td>\n",
       "      <td>2091.47</td>\n",
       "      <td>388.92</td>\n",
       "      <td>41701.0</td>\n",
       "    </tr>\n",
       "    <tr>\n",
       "      <th>2</th>\n",
       "      <td>3</td>\n",
       "      <td>37</td>\n",
       "      <td>402</td>\n",
       "      <td>2017-10-16</td>\n",
       "      <td>0.0</td>\n",
       "      <td>Approved</td>\n",
       "      <td>OHM Cycles</td>\n",
       "      <td>Standard</td>\n",
       "      <td>low</td>\n",
       "      <td>medium</td>\n",
       "      <td>1793.43</td>\n",
       "      <td>248.82</td>\n",
       "      <td>36361.0</td>\n",
       "    </tr>\n",
       "    <tr>\n",
       "      <th>3</th>\n",
       "      <td>4</td>\n",
       "      <td>88</td>\n",
       "      <td>3135</td>\n",
       "      <td>2017-08-31</td>\n",
       "      <td>0.0</td>\n",
       "      <td>Approved</td>\n",
       "      <td>Norco Bicycles</td>\n",
       "      <td>Standard</td>\n",
       "      <td>medium</td>\n",
       "      <td>medium</td>\n",
       "      <td>1198.46</td>\n",
       "      <td>381.10</td>\n",
       "      <td>36145.0</td>\n",
       "    </tr>\n",
       "    <tr>\n",
       "      <th>4</th>\n",
       "      <td>5</td>\n",
       "      <td>78</td>\n",
       "      <td>787</td>\n",
       "      <td>2017-10-01</td>\n",
       "      <td>1.0</td>\n",
       "      <td>Approved</td>\n",
       "      <td>Giant Bicycles</td>\n",
       "      <td>Standard</td>\n",
       "      <td>medium</td>\n",
       "      <td>large</td>\n",
       "      <td>1765.30</td>\n",
       "      <td>709.48</td>\n",
       "      <td>42226.0</td>\n",
       "    </tr>\n",
       "  </tbody>\n",
       "</table>\n",
       "</div>"
      ],
      "text/plain": [
       "   transaction_id  product_id  customer_id transaction_date  online_order  \\\n",
       "0               1           2         2950       2017-02-25           0.0   \n",
       "1               2           3         3120       2017-05-21           1.0   \n",
       "2               3          37          402       2017-10-16           0.0   \n",
       "3               4          88         3135       2017-08-31           0.0   \n",
       "4               5          78          787       2017-10-01           1.0   \n",
       "\n",
       "  order_status           brand product_line product_class product_size  \\\n",
       "0     Approved           Solex     Standard        medium       medium   \n",
       "1     Approved   Trek Bicycles     Standard        medium        large   \n",
       "2     Approved      OHM Cycles     Standard           low       medium   \n",
       "3     Approved  Norco Bicycles     Standard        medium       medium   \n",
       "4     Approved  Giant Bicycles     Standard        medium        large   \n",
       "\n",
       "   list_price  standard_cost  product_first_sold_date  \n",
       "0       71.49          53.62                  41245.0  \n",
       "1     2091.47         388.92                  41701.0  \n",
       "2     1793.43         248.82                  36361.0  \n",
       "3     1198.46         381.10                  36145.0  \n",
       "4     1765.30         709.48                  42226.0  "
      ]
     },
     "execution_count": 42,
     "metadata": {},
     "output_type": "execute_result"
    }
   ],
   "source": [
    "data1.head()"
   ]
  },
  {
   "cell_type": "code",
   "execution_count": 43,
   "metadata": {},
   "outputs": [
    {
     "data": {
      "text/plain": [
       "(20000, 13)"
      ]
     },
     "execution_count": 43,
     "metadata": {},
     "output_type": "execute_result"
    }
   ],
   "source": [
    "data1.shape"
   ]
  },
  {
   "cell_type": "code",
   "execution_count": 44,
   "metadata": {},
   "outputs": [
    {
     "data": {
      "text/plain": [
       "transaction_id             0.0\n",
       "product_id                 0.0\n",
       "customer_id                0.0\n",
       "transaction_date           0.0\n",
       "online_order               0.0\n",
       "order_status               0.0\n",
       "brand                      0.0\n",
       "product_line               0.0\n",
       "product_class              0.0\n",
       "product_size               0.0\n",
       "list_price                 0.0\n",
       "standard_cost              0.0\n",
       "product_first_sold_date    0.0\n",
       "dtype: float64"
      ]
     },
     "execution_count": 44,
     "metadata": {},
     "output_type": "execute_result"
    }
   ],
   "source": [
    "data1[data1.duplicated()].sum()"
   ]
  },
  {
   "cell_type": "code",
   "execution_count": 45,
   "metadata": {},
   "outputs": [
    {
     "data": {
      "text/plain": [
       "count    20000.000000\n",
       "mean      1107.829449\n",
       "std        582.825242\n",
       "min         12.010000\n",
       "25%        575.270000\n",
       "50%       1163.890000\n",
       "75%       1635.300000\n",
       "max       2091.470000\n",
       "Name: list_price, dtype: float64"
      ]
     },
     "execution_count": 45,
     "metadata": {},
     "output_type": "execute_result"
    }
   ],
   "source": [
    "data1['list_price'].describe()"
   ]
  },
  {
   "cell_type": "code",
   "execution_count": 46,
   "metadata": {},
   "outputs": [
    {
     "name": "stdout",
     "output_type": "stream",
     "text": [
      "list_price blanks:  0\n"
     ]
    }
   ],
   "source": [
    "print('list_price blanks: ',pd.isna(data1['list_price']).sum())"
   ]
  },
  {
   "cell_type": "code",
   "execution_count": 47,
   "metadata": {},
   "outputs": [
    {
     "data": {
      "text/plain": [
       "count    19803.000000\n",
       "mean       556.046951\n",
       "std        405.955660\n",
       "min          7.210000\n",
       "25%        215.140000\n",
       "50%        507.580000\n",
       "75%        795.100000\n",
       "max       1759.850000\n",
       "Name: standard_cost, dtype: float64"
      ]
     },
     "execution_count": 47,
     "metadata": {},
     "output_type": "execute_result"
    }
   ],
   "source": [
    "data1['standard_cost'].describe()"
   ]
  },
  {
   "cell_type": "code",
   "execution_count": 48,
   "metadata": {},
   "outputs": [
    {
     "name": "stdout",
     "output_type": "stream",
     "text": [
      "standard_cost blanks:  197\n"
     ]
    }
   ],
   "source": [
    "print('standard_cost blanks: ',pd.isna(data1['standard_cost']).sum())"
   ]
  },
  {
   "cell_type": "code",
   "execution_count": 49,
   "metadata": {},
   "outputs": [
    {
     "data": {
      "text/plain": [
       "count    19803.000000\n",
       "mean       551.950915\n",
       "std        493.412849\n",
       "min          4.800000\n",
       "25%        133.780000\n",
       "50%        445.210000\n",
       "75%        830.240000\n",
       "max       1702.550000\n",
       "Name: profit, dtype: float64"
      ]
     },
     "execution_count": 49,
     "metadata": {},
     "output_type": "execute_result"
    }
   ],
   "source": [
    "data1['profit']=data1['list_price']-data1['standard_cost']\n",
    "data1['profit'].describe()"
   ]
  },
  {
   "cell_type": "code",
   "execution_count": 50,
   "metadata": {},
   "outputs": [
    {
     "name": "stdout",
     "output_type": "stream",
     "text": [
      "transaction_id blanks:  0\n"
     ]
    }
   ],
   "source": [
    "print('transaction_id blanks: ',pd.isna(data1['transaction_id']).sum())"
   ]
  },
  {
   "cell_type": "code",
   "execution_count": 51,
   "metadata": {},
   "outputs": [
    {
     "name": "stdout",
     "output_type": "stream",
     "text": [
      "product_id blanks:  0\n"
     ]
    }
   ],
   "source": [
    "print('product_id blanks: ',pd.isna(data1['product_id']).sum())"
   ]
  },
  {
   "cell_type": "code",
   "execution_count": 52,
   "metadata": {},
   "outputs": [
    {
     "name": "stdout",
     "output_type": "stream",
     "text": [
      "customer_id blanks:  0\n"
     ]
    }
   ],
   "source": [
    "print('customer_id blanks: ',pd.isna(data1['customer_id']).sum())"
   ]
  },
  {
   "cell_type": "code",
   "execution_count": 53,
   "metadata": {},
   "outputs": [
    {
     "data": {
      "text/plain": [
       "3494"
      ]
     },
     "execution_count": 53,
     "metadata": {},
     "output_type": "execute_result"
    }
   ],
   "source": [
    "pd.notna(data1['customer_id'].unique()).sum()"
   ]
  },
  {
   "cell_type": "code",
   "execution_count": 54,
   "metadata": {},
   "outputs": [
    {
     "name": "stdout",
     "output_type": "stream",
     "text": [
      "customer_id not in demographics dataset:  3\n",
      "customer_id not in address dataset:  3\n"
     ]
    }
   ],
   "source": [
    "print('customer_id not in demographics dataset: ',\n",
    "      sum([(1 if (i not in data3['customer_id'])else 0) for i in data1['customer_id']]))\n",
    "print('customer_id not in address dataset: ',\n",
    "     sum([(1 if (i not in data4['customer_id'])else 0) for i in data1['customer_id']]))"
   ]
  },
  {
   "cell_type": "code",
   "execution_count": 55,
   "metadata": {},
   "outputs": [
    {
     "data": {
      "text/plain": [
       "count                            20000\n",
       "mean     2017-07-01 14:08:05.280010752\n",
       "min                2017-01-01 00:00:00\n",
       "25%                2017-04-01 00:00:00\n",
       "50%                2017-07-03 00:00:00\n",
       "75%                2017-10-02 00:00:00\n",
       "max                2017-12-30 00:00:00\n",
       "Name: transaction_date, dtype: object"
      ]
     },
     "execution_count": 55,
     "metadata": {},
     "output_type": "execute_result"
    }
   ],
   "source": [
    "data1['transaction_date'].describe(datetime_is_numeric=True)"
   ]
  },
  {
   "cell_type": "code",
   "execution_count": 56,
   "metadata": {},
   "outputs": [
    {
     "name": "stdout",
     "output_type": "stream",
     "text": [
      "transation blanks:  0\n"
     ]
    }
   ],
   "source": [
    "print('transation blanks: ',pd.isna(data1['transaction_date']).sum())"
   ]
  },
  {
   "cell_type": "code",
   "execution_count": 57,
   "metadata": {},
   "outputs": [
    {
     "name": "stdout",
     "output_type": "stream",
     "text": [
      "online_order:  [ 0.  1. nan]\n",
      "online_order blanks:  360\n"
     ]
    },
    {
     "data": {
      "text/plain": [
       "(array([9811.,    0.,    0.,    0.,    0.,    0.,    0.,    0.,    0.,\n",
       "        9829.]),\n",
       " array([0. , 0.1, 0.2, 0.3, 0.4, 0.5, 0.6, 0.7, 0.8, 0.9, 1. ]),\n",
       " <BarContainer object of 10 artists>)"
      ]
     },
     "execution_count": 57,
     "metadata": {},
     "output_type": "execute_result"
    },
    {
     "data": {
      "image/png": "[encoded data removed]",
      "text/plain": [
       "<Figure size 432x288 with 1 Axes>"
      ]
     },
     "metadata": {
      "needs_background": "light"
     },
     "output_type": "display_data"
    }
   ],
   "source": [
    "print('online_order: ',data1['online_order'].unique())\n",
    "print('online_order blanks: ',pd.isna(data1['online_order']).sum())\n",
    "plt.hist(data1['online_order'][pd.notna(data1['online_order'])],color='salmon')"
   ]
  },
  {
   "cell_type": "code",
   "execution_count": 58,
   "metadata": {},
   "outputs": [
    {
     "name": "stdout",
     "output_type": "stream",
     "text": [
      "order_status:  ['Approved' 'Cancelled']\n",
      "order_Status blanks:  0\n"
     ]
    },
    {
     "data": {
      "text/plain": [
       "(array([19821.,     0.,     0.,     0.,     0.,     0.,     0.,     0.,\n",
       "            0.,   179.]),\n",
       " array([0. , 0.1, 0.2, 0.3, 0.4, 0.5, 0.6, 0.7, 0.8, 0.9, 1. ]),\n",
       " <BarContainer object of 10 artists>)"
      ]
     },
     "execution_count": 58,
     "metadata": {},
     "output_type": "execute_result"
    },
    {
     "data": {
      "image/png": "[encoded data removed]",
      "text/plain": [
       "<Figure size 432x288 with 1 Axes>"
      ]
     },
     "metadata": {
      "needs_background": "light"
     },
     "output_type": "display_data"
    }
   ],
   "source": [
    "print('order_status: ',data1['order_status'].unique())\n",
    "print('order_Status blanks: ',pd.isna(data1['order_status']).sum())\n",
    "plt.hist(data1['order_status'][pd.notna(data1['order_status'])],color='salmon')"
   ]
  },
  {
   "cell_type": "code",
   "execution_count": 59,
   "metadata": {},
   "outputs": [
    {
     "data": {
      "text/plain": [
       "179"
      ]
     },
     "execution_count": 59,
     "metadata": {},
     "output_type": "execute_result"
    }
   ],
   "source": [
    "data1['order_status'][data1['order_status']==\"Cancelled\"].count()"
   ]
  },
  {
   "cell_type": "code",
   "execution_count": 60,
   "metadata": {},
   "outputs": [
    {
     "name": "stdout",
     "output_type": "stream",
     "text": [
      "brand: ['Solex' 'Trek Bicycles' 'OHM Cycles' 'Norco Bicycles' 'Giant Bicycles'\n",
      " 'WeareA2B' nan]\n",
      "brand blanks:  197\n"
     ]
    },
    {
     "data": {
      "text/plain": [
       "(array([4253.,    0., 2990.,    0., 3043.,    0., 2910.,    0., 3312.,\n",
       "        3295.]),\n",
       " array([0. , 0.5, 1. , 1.5, 2. , 2.5, 3. , 3.5, 4. , 4.5, 5. ]),\n",
       " <BarContainer object of 10 artists>)"
      ]
     },
     "execution_count": 60,
     "metadata": {},
     "output_type": "execute_result"
    },
    {
     "data": {
      "image/png": "[encoded data removed]",
      "text/plain": [
       "<Figure size 432x288 with 1 Axes>"
      ]
     },
     "metadata": {
      "needs_background": "light"
     },
     "output_type": "display_data"
    }
   ],
   "source": [
    "print('brand:',data1['brand'].unique())\n",
    "print('brand blanks: ',pd.isna(data1['brand']).sum())\n",
    "plt.hist(data1['brand'][pd.notna(data1['brand'])],color='salmon')"
   ]
  },
  {
   "cell_type": "code",
   "execution_count": 61,
   "metadata": {},
   "outputs": [
    {
     "name": "stdout",
     "output_type": "stream",
     "text": [
      "product_lines: ['Standard' 'Road' 'Mountain' 'Touring' nan]\n",
      "blanks:  <bound method Series.sum of 0        False\n",
      "1        False\n",
      "2        False\n",
      "3        False\n",
      "4        False\n",
      "         ...  \n",
      "19995    False\n",
      "19996    False\n",
      "19997    False\n",
      "19998    False\n",
      "19999    False\n",
      "Name: product_line, Length: 20000, dtype: bool>\n"
     ]
    },
    {
     "data": {
      "text/plain": [
       "(array([14176.,     0.,     0.,  3970.,     0.,     0.,   423.,     0.,\n",
       "            0.,  1234.]),\n",
       " array([0. , 0.3, 0.6, 0.9, 1.2, 1.5, 1.8, 2.1, 2.4, 2.7, 3. ]),\n",
       " <BarContainer object of 10 artists>)"
      ]
     },
     "execution_count": 61,
     "metadata": {},
     "output_type": "execute_result"
    },
    {
     "data": {
      "image/png": "[encoded data removed]",
      "text/plain": [
       "<Figure size 432x288 with 1 Axes>"
      ]
     },
     "metadata": {
      "needs_background": "light"
     },
     "output_type": "display_data"
    }
   ],
   "source": [
    "print('product_lines:',data1['product_line'].unique())\n",
    "print('blanks: ',pd.isna(data1['product_line']).sum)\n",
    "plt.hist(data1['product_line'][pd.notna(data1['product_line'])],color='salmon')"
   ]
  },
  {
   "cell_type": "code",
   "execution_count": 62,
   "metadata": {},
   "outputs": [
    {
     "name": "stdout",
     "output_type": "stream",
     "text": [
      "product_class: ['medium' 'low' 'high' nan]\n",
      "blanks:  197\n"
     ]
    },
    {
     "data": {
      "text/plain": [
       "(array([13826.,     0.,     0.,     0.,     0.,  2964.,     0.,     0.,\n",
       "            0.,  3013.]),\n",
       " array([0. , 0.2, 0.4, 0.6, 0.8, 1. , 1.2, 1.4, 1.6, 1.8, 2. ]),\n",
       " <BarContainer object of 10 artists>)"
      ]
     },
     "execution_count": 62,
     "metadata": {},
     "output_type": "execute_result"
    },
    {
     "data": {
      "image/png": "[encoded data removed]",
      "text/plain": [
       "<Figure size 432x288 with 1 Axes>"
      ]
     },
     "metadata": {
      "needs_background": "light"
     },
     "output_type": "display_data"
    }
   ],
   "source": [
    "print('product_class:',data1['product_class'].unique())\n",
    "print('blanks: ',pd.isna(data1['product_class']).sum())\n",
    "plt.hist(data1['product_class'][pd.notna(data1['product_class'])],color='salmon')"
   ]
  },
  {
   "cell_type": "code",
   "execution_count": 63,
   "metadata": {},
   "outputs": [
    {
     "name": "stdout",
     "output_type": "stream",
     "text": [
      "product_size: ['medium' 'large' 'small' nan]\n",
      "blanks: 197\n"
     ]
    },
    {
     "data": {
      "text/plain": [
       "(array([12990.,     0.,     0.,     0.,     0.,  3976.,     0.,     0.,\n",
       "            0.,  2837.]),\n",
       " array([0. , 0.2, 0.4, 0.6, 0.8, 1. , 1.2, 1.4, 1.6, 1.8, 2. ]),\n",
       " <BarContainer object of 10 artists>)"
      ]
     },
     "execution_count": 63,
     "metadata": {},
     "output_type": "execute_result"
    },
    {
     "data": {
      "image/png": "[encoded data removed]",
      "text/plain": [
       "<Figure size 432x288 with 1 Axes>"
      ]
     },
     "metadata": {
      "needs_background": "light"
     },
     "output_type": "display_data"
    }
   ],
   "source": [
    "print('product_size:',data1['product_size'].unique())\n",
    "print('blanks:',pd.isna(data1['product_size']).sum())\n",
    "plt.hist(data1['product_size'][pd.notna(data1['product_size'])],color='salmon')"
   ]
  },
  {
   "cell_type": "code",
   "execution_count": 64,
   "metadata": {},
   "outputs": [
    {
     "name": "stdout",
     "output_type": "stream",
     "text": [
      "product_first_sold_date blanks:  197\n"
     ]
    }
   ],
   "source": [
    "print('product_first_sold_date blanks: ',pd.isna(data1['product_first_sold_date']).sum())\n"
   ]
  },
  {
   "cell_type": "code",
   "execution_count": 65,
   "metadata": {},
   "outputs": [
    {
     "data": {
      "text/plain": [
       "<matplotlib.collections.PathCollection at 0x26c710b9670>"
      ]
     },
     "execution_count": 65,
     "metadata": {},
     "output_type": "execute_result"
    },
    {
     "data": {
      "image/png": "[encoded data removed]",
      "text/plain": [
       "<Figure size 432x288 with 1 Axes>"
      ]
     },
     "metadata": {
      "needs_background": "light"
     },
     "output_type": "display_data"
    }
   ],
   "source": [
    "plt.scatter(data1['brand'][pd.notna(data1['brand'])],data1['profit'][pd.notna(data1['brand'])],color='salmon')"
   ]
  },
  {
   "cell_type": "markdown",
   "metadata": {},
   "source": [
    "_______________________________ End of Module 1 _______________________"
   ]
  },
  {
   "cell_type": "code",
   "execution_count": 66,
   "metadata": {},
   "outputs": [],
   "source": [
    "import seaborn as sns\n",
    "import xlrd"
   ]
  },
  {
   "cell_type": "code",
   "execution_count": 67,
   "metadata": {},
   "outputs": [
    {
     "data": {
      "text/html": [
       "<div>\n",
       "<style scoped>\n",
       "    .dataframe tbody tr th:only-of-type {\n",
       "        vertical-align: middle;\n",
       "    }\n",
       "\n",
       "    .dataframe tbody tr th {\n",
       "        vertical-align: top;\n",
       "    }\n",
       "\n",
       "    .dataframe thead th {\n",
       "        text-align: right;\n",
       "    }\n",
       "</style>\n",
       "<table border=\"1\" class=\"dataframe\">\n",
       "  <thead>\n",
       "    <tr style=\"text-align: right;\">\n",
       "      <th></th>\n",
       "      <th>customer_id</th>\n",
       "      <th>first_name</th>\n",
       "      <th>last_name</th>\n",
       "      <th>gender</th>\n",
       "      <th>past_3_years_bike_related_purchases</th>\n",
       "      <th>DOB</th>\n",
       "      <th>job_title</th>\n",
       "      <th>job_industry_category</th>\n",
       "      <th>wealth_segment</th>\n",
       "      <th>deceased_indicator</th>\n",
       "      <th>default</th>\n",
       "      <th>owns_car</th>\n",
       "      <th>tenure</th>\n",
       "      <th>age</th>\n",
       "    </tr>\n",
       "  </thead>\n",
       "  <tbody>\n",
       "    <tr>\n",
       "      <th>0</th>\n",
       "      <td>1</td>\n",
       "      <td>Laraine</td>\n",
       "      <td>Medendorp</td>\n",
       "      <td>F</td>\n",
       "      <td>93</td>\n",
       "      <td>1953-10-12</td>\n",
       "      <td>Executive Secretary</td>\n",
       "      <td>Health</td>\n",
       "      <td>Mass Customer</td>\n",
       "      <td>N</td>\n",
       "      <td>\"'</td>\n",
       "      <td>Yes</td>\n",
       "      <td>11.0</td>\n",
       "      <td>68 days 13:24:27.929710690</td>\n",
       "    </tr>\n",
       "    <tr>\n",
       "      <th>1</th>\n",
       "      <td>2</td>\n",
       "      <td>Eli</td>\n",
       "      <td>Bockman</td>\n",
       "      <td>Male</td>\n",
       "      <td>81</td>\n",
       "      <td>1980-12-16</td>\n",
       "      <td>Administrative Officer</td>\n",
       "      <td>Financial Services</td>\n",
       "      <td>Mass Customer</td>\n",
       "      <td>N</td>\n",
       "      <td>&lt;script&gt;alert('hi')&lt;/script&gt;</td>\n",
       "      <td>Yes</td>\n",
       "      <td>16.0</td>\n",
       "      <td>41 days 08:40:24.642039457</td>\n",
       "    </tr>\n",
       "    <tr>\n",
       "      <th>2</th>\n",
       "      <td>3</td>\n",
       "      <td>Arlin</td>\n",
       "      <td>Dearle</td>\n",
       "      <td>Male</td>\n",
       "      <td>61</td>\n",
       "      <td>1954-01-20</td>\n",
       "      <td>Recruiting Manager</td>\n",
       "      <td>Property</td>\n",
       "      <td>Mass Customer</td>\n",
       "      <td>N</td>\n",
       "      <td>2018-02-01 00:00:00</td>\n",
       "      <td>Yes</td>\n",
       "      <td>15.0</td>\n",
       "      <td>68 days 06:49:56.696833978</td>\n",
       "    </tr>\n",
       "    <tr>\n",
       "      <th>3</th>\n",
       "      <td>4</td>\n",
       "      <td>Talbot</td>\n",
       "      <td>NaN</td>\n",
       "      <td>Male</td>\n",
       "      <td>33</td>\n",
       "      <td>1961-10-03</td>\n",
       "      <td>NaN</td>\n",
       "      <td>IT</td>\n",
       "      <td>Mass Customer</td>\n",
       "      <td>N</td>\n",
       "      <td>() { _; } &gt;_[$($())] { touch /tmp/blns.shellsh...</td>\n",
       "      <td>No</td>\n",
       "      <td>7.0</td>\n",
       "      <td>60 days 13:52:04.916012060</td>\n",
       "    </tr>\n",
       "    <tr>\n",
       "      <th>4</th>\n",
       "      <td>5</td>\n",
       "      <td>Sheila-kathryn</td>\n",
       "      <td>Calton</td>\n",
       "      <td>Female</td>\n",
       "      <td>56</td>\n",
       "      <td>1977-05-13</td>\n",
       "      <td>Senior Editor</td>\n",
       "      <td>NaN</td>\n",
       "      <td>Affluent Customer</td>\n",
       "      <td>N</td>\n",
       "      <td>NIL</td>\n",
       "      <td>Yes</td>\n",
       "      <td>8.0</td>\n",
       "      <td>44 days 23:00:27.929710690</td>\n",
       "    </tr>\n",
       "  </tbody>\n",
       "</table>\n",
       "</div>"
      ],
      "text/plain": [
       "   customer_id      first_name  last_name  gender  \\\n",
       "0            1         Laraine  Medendorp       F   \n",
       "1            2             Eli    Bockman    Male   \n",
       "2            3           Arlin     Dearle    Male   \n",
       "3            4          Talbot        NaN    Male   \n",
       "4            5  Sheila-kathryn     Calton  Female   \n",
       "\n",
       "   past_3_years_bike_related_purchases        DOB               job_title  \\\n",
       "0                                   93 1953-10-12     Executive Secretary   \n",
       "1                                   81 1980-12-16  Administrative Officer   \n",
       "2                                   61 1954-01-20      Recruiting Manager   \n",
       "3                                   33 1961-10-03                     NaN   \n",
       "4                                   56 1977-05-13           Senior Editor   \n",
       "\n",
       "  job_industry_category     wealth_segment deceased_indicator  \\\n",
       "0                Health      Mass Customer                  N   \n",
       "1    Financial Services      Mass Customer                  N   \n",
       "2              Property      Mass Customer                  N   \n",
       "3                    IT      Mass Customer                  N   \n",
       "4                   NaN  Affluent Customer                  N   \n",
       "\n",
       "                                             default owns_car  tenure  \\\n",
       "0                                                 \"'      Yes    11.0   \n",
       "1                       <script>alert('hi')</script>      Yes    16.0   \n",
       "2                                2018-02-01 00:00:00      Yes    15.0   \n",
       "3  () { _; } >_[$($())] { touch /tmp/blns.shellsh...       No     7.0   \n",
       "4                                                NIL      Yes     8.0   \n",
       "\n",
       "                         age  \n",
       "0 68 days 13:24:27.929710690  \n",
       "1 41 days 08:40:24.642039457  \n",
       "2 68 days 06:49:56.696833978  \n",
       "3 60 days 13:52:04.916012060  \n",
       "4 44 days 23:00:27.929710690  "
      ]
     },
     "execution_count": 67,
     "metadata": {},
     "output_type": "execute_result"
    }
   ],
   "source": [
    "data3.head()"
   ]
  },
  {
   "cell_type": "code",
   "execution_count": 68,
   "metadata": {},
   "outputs": [
    {
     "data": {
      "text/html": [
       "<div>\n",
       "<style scoped>\n",
       "    .dataframe tbody tr th:only-of-type {\n",
       "        vertical-align: middle;\n",
       "    }\n",
       "\n",
       "    .dataframe tbody tr th {\n",
       "        vertical-align: top;\n",
       "    }\n",
       "\n",
       "    .dataframe thead th {\n",
       "        text-align: right;\n",
       "    }\n",
       "</style>\n",
       "<table border=\"1\" class=\"dataframe\">\n",
       "  <thead>\n",
       "    <tr style=\"text-align: right;\">\n",
       "      <th></th>\n",
       "      <th>customer_id</th>\n",
       "      <th>gender</th>\n",
       "      <th>past_3_years_bike_related_purchases</th>\n",
       "      <th>DOB</th>\n",
       "      <th>job_industry_category</th>\n",
       "      <th>wealth_segment</th>\n",
       "      <th>owns_car</th>\n",
       "      <th>tenure</th>\n",
       "      <th>age</th>\n",
       "    </tr>\n",
       "  </thead>\n",
       "  <tbody>\n",
       "    <tr>\n",
       "      <th>0</th>\n",
       "      <td>1</td>\n",
       "      <td>Female</td>\n",
       "      <td>93</td>\n",
       "      <td>1953-10-12</td>\n",
       "      <td>Health</td>\n",
       "      <td>Mass Customer</td>\n",
       "      <td>1</td>\n",
       "      <td>11.0</td>\n",
       "      <td>68 days 13:24:27.929710690</td>\n",
       "    </tr>\n",
       "    <tr>\n",
       "      <th>1</th>\n",
       "      <td>2</td>\n",
       "      <td>Male</td>\n",
       "      <td>81</td>\n",
       "      <td>1980-12-16</td>\n",
       "      <td>Financial Services</td>\n",
       "      <td>Mass Customer</td>\n",
       "      <td>1</td>\n",
       "      <td>16.0</td>\n",
       "      <td>41 days 08:40:24.642039457</td>\n",
       "    </tr>\n",
       "    <tr>\n",
       "      <th>2</th>\n",
       "      <td>3</td>\n",
       "      <td>Male</td>\n",
       "      <td>61</td>\n",
       "      <td>1954-01-20</td>\n",
       "      <td>Property</td>\n",
       "      <td>Mass Customer</td>\n",
       "      <td>1</td>\n",
       "      <td>15.0</td>\n",
       "      <td>68 days 06:49:56.696833978</td>\n",
       "    </tr>\n",
       "    <tr>\n",
       "      <th>3</th>\n",
       "      <td>4</td>\n",
       "      <td>Male</td>\n",
       "      <td>33</td>\n",
       "      <td>1961-10-03</td>\n",
       "      <td>IT</td>\n",
       "      <td>Mass Customer</td>\n",
       "      <td>0</td>\n",
       "      <td>7.0</td>\n",
       "      <td>60 days 13:52:04.916012060</td>\n",
       "    </tr>\n",
       "    <tr>\n",
       "      <th>5</th>\n",
       "      <td>6</td>\n",
       "      <td>Male</td>\n",
       "      <td>35</td>\n",
       "      <td>1966-09-16</td>\n",
       "      <td>Retail</td>\n",
       "      <td>High Net Worth</td>\n",
       "      <td>1</td>\n",
       "      <td>13.0</td>\n",
       "      <td>55 days 14:55:12.313272334</td>\n",
       "    </tr>\n",
       "  </tbody>\n",
       "</table>\n",
       "</div>"
      ],
      "text/plain": [
       "   customer_id  gender  past_3_years_bike_related_purchases        DOB  \\\n",
       "0            1  Female                                   93 1953-10-12   \n",
       "1            2    Male                                   81 1980-12-16   \n",
       "2            3    Male                                   61 1954-01-20   \n",
       "3            4    Male                                   33 1961-10-03   \n",
       "5            6    Male                                   35 1966-09-16   \n",
       "\n",
       "  job_industry_category  wealth_segment  owns_car  tenure  \\\n",
       "0                Health   Mass Customer         1    11.0   \n",
       "1    Financial Services   Mass Customer         1    16.0   \n",
       "2              Property   Mass Customer         1    15.0   \n",
       "3                    IT   Mass Customer         0     7.0   \n",
       "5                Retail  High Net Worth         1    13.0   \n",
       "\n",
       "                         age  \n",
       "0 68 days 13:24:27.929710690  \n",
       "1 41 days 08:40:24.642039457  \n",
       "2 68 days 06:49:56.696833978  \n",
       "3 60 days 13:52:04.916012060  \n",
       "5 55 days 14:55:12.313272334  "
      ]
     },
     "execution_count": 68,
     "metadata": {},
     "output_type": "execute_result"
    }
   ],
   "source": [
    "data3=data3.drop(['first_name','last_name','default','job_title'],axis=1)\n",
    "data3['gender'].replace(['F','Femal'],'Female',inplace=True)\n",
    "data3['gender'].replace('M','Male',inplace=True)\n",
    "data3['deceased_indicator'].replace(['N'],0,inplace=True)\n",
    "data3['deceased_indicator'].replace(['Y'],1,inplace=True)\n",
    "data3['owns_car'].replace('Yes',1,inplace=True)\n",
    "data3['owns_car'].replace('No',0,inplace=True)\n",
    "data3=data3[data3['DOB']!= data3.DOB.min()]\n",
    "data3[data3['deceased_indicator']==0]\n",
    "data3=data3.drop(['deceased_indicator'],axis=1)\n",
    "data3_clean=data3.dropna()\n",
    "data3_clean.head()"
   ]
  },
  {
   "cell_type": "code",
   "execution_count": 69,
   "metadata": {},
   "outputs": [],
   "source": [
    "import datetime as dt"
   ]
  },
  {
   "cell_type": "code",
   "execution_count": 70,
   "metadata": {},
   "outputs": [
    {
     "name": "stderr",
     "output_type": "stream",
     "text": [
      "<ipython-input-70-98eea3f972ce>:1: SettingWithCopyWarning: \n",
      "A value is trying to be set on a copy of a slice from a DataFrame.\n",
      "Try using .loc[row_indexer,col_indexer] = value instead\n",
      "\n",
      "See the caveats in the documentation: https://pandas.pydata.org/pandas-docs/stable/user_guide/indexing.html#returning-a-view-versus-a-copy\n",
      "  data3_clean['age']=(dt.datetime.now()-data3_clean['DOB'])/np.timedelta64(1,'Y')\n",
      "<ipython-input-70-98eea3f972ce>:2: SettingWithCopyWarning: \n",
      "A value is trying to be set on a copy of a slice from a DataFrame.\n",
      "Try using .loc[row_indexer,col_indexer] = value instead\n",
      "\n",
      "See the caveats in the documentation: https://pandas.pydata.org/pandas-docs/stable/user_guide/indexing.html#returning-a-view-versus-a-copy\n",
      "  data3_clean['age_class']=((round(data3_clean['age']/10))*10).astype(int)\n"
     ]
    },
    {
     "data": {
      "text/html": [
       "<div>\n",
       "<style scoped>\n",
       "    .dataframe tbody tr th:only-of-type {\n",
       "        vertical-align: middle;\n",
       "    }\n",
       "\n",
       "    .dataframe tbody tr th {\n",
       "        vertical-align: top;\n",
       "    }\n",
       "\n",
       "    .dataframe thead th {\n",
       "        text-align: right;\n",
       "    }\n",
       "</style>\n",
       "<table border=\"1\" class=\"dataframe\">\n",
       "  <thead>\n",
       "    <tr style=\"text-align: right;\">\n",
       "      <th></th>\n",
       "      <th>customer_id</th>\n",
       "      <th>gender</th>\n",
       "      <th>past_3_years_bike_related_purchases</th>\n",
       "      <th>DOB</th>\n",
       "      <th>job_industry_category</th>\n",
       "      <th>wealth_segment</th>\n",
       "      <th>owns_car</th>\n",
       "      <th>tenure</th>\n",
       "      <th>age</th>\n",
       "      <th>age_class</th>\n",
       "    </tr>\n",
       "  </thead>\n",
       "  <tbody>\n",
       "    <tr>\n",
       "      <th>0</th>\n",
       "      <td>1</td>\n",
       "      <td>Female</td>\n",
       "      <td>93</td>\n",
       "      <td>1953-10-12</td>\n",
       "      <td>Health</td>\n",
       "      <td>Mass Customer</td>\n",
       "      <td>1</td>\n",
       "      <td>11.0</td>\n",
       "      <td>68.513138</td>\n",
       "      <td>70</td>\n",
       "    </tr>\n",
       "    <tr>\n",
       "      <th>1</th>\n",
       "      <td>2</td>\n",
       "      <td>Male</td>\n",
       "      <td>81</td>\n",
       "      <td>1980-12-16</td>\n",
       "      <td>Financial Services</td>\n",
       "      <td>Mass Customer</td>\n",
       "      <td>1</td>\n",
       "      <td>16.0</td>\n",
       "      <td>41.333935</td>\n",
       "      <td>40</td>\n",
       "    </tr>\n",
       "    <tr>\n",
       "      <th>2</th>\n",
       "      <td>3</td>\n",
       "      <td>Male</td>\n",
       "      <td>61</td>\n",
       "      <td>1954-01-20</td>\n",
       "      <td>Property</td>\n",
       "      <td>Mass Customer</td>\n",
       "      <td>1</td>\n",
       "      <td>15.0</td>\n",
       "      <td>68.239347</td>\n",
       "      <td>70</td>\n",
       "    </tr>\n",
       "    <tr>\n",
       "      <th>3</th>\n",
       "      <td>4</td>\n",
       "      <td>Male</td>\n",
       "      <td>33</td>\n",
       "      <td>1961-10-03</td>\n",
       "      <td>IT</td>\n",
       "      <td>Mass Customer</td>\n",
       "      <td>0</td>\n",
       "      <td>7.0</td>\n",
       "      <td>60.537615</td>\n",
       "      <td>60</td>\n",
       "    </tr>\n",
       "    <tr>\n",
       "      <th>5</th>\n",
       "      <td>6</td>\n",
       "      <td>Male</td>\n",
       "      <td>35</td>\n",
       "      <td>1966-09-16</td>\n",
       "      <td>Retail</td>\n",
       "      <td>High Net Worth</td>\n",
       "      <td>1</td>\n",
       "      <td>13.0</td>\n",
       "      <td>55.584741</td>\n",
       "      <td>60</td>\n",
       "    </tr>\n",
       "  </tbody>\n",
       "</table>\n",
       "</div>"
      ],
      "text/plain": [
       "   customer_id  gender  past_3_years_bike_related_purchases        DOB  \\\n",
       "0            1  Female                                   93 1953-10-12   \n",
       "1            2    Male                                   81 1980-12-16   \n",
       "2            3    Male                                   61 1954-01-20   \n",
       "3            4    Male                                   33 1961-10-03   \n",
       "5            6    Male                                   35 1966-09-16   \n",
       "\n",
       "  job_industry_category  wealth_segment  owns_car  tenure        age  \\\n",
       "0                Health   Mass Customer         1    11.0  68.513138   \n",
       "1    Financial Services   Mass Customer         1    16.0  41.333935   \n",
       "2              Property   Mass Customer         1    15.0  68.239347   \n",
       "3                    IT   Mass Customer         0     7.0  60.537615   \n",
       "5                Retail  High Net Worth         1    13.0  55.584741   \n",
       "\n",
       "   age_class  \n",
       "0         70  \n",
       "1         40  \n",
       "2         70  \n",
       "3         60  \n",
       "5         60  "
      ]
     },
     "execution_count": 70,
     "metadata": {},
     "output_type": "execute_result"
    }
   ],
   "source": [
    "data3_clean['age']=(dt.datetime.now()-data3_clean['DOB'])/np.timedelta64(1,'Y')\n",
    "data3_clean['age_class']=((round(data3_clean['age']/10))*10).astype(int)\n",
    "data3_clean.head()"
   ]
  },
  {
   "cell_type": "code",
   "execution_count": 71,
   "metadata": {},
   "outputs": [
    {
     "data": {
      "text/html": [
       "<div>\n",
       "<style scoped>\n",
       "    .dataframe tbody tr th:only-of-type {\n",
       "        vertical-align: middle;\n",
       "    }\n",
       "\n",
       "    .dataframe tbody tr th {\n",
       "        vertical-align: top;\n",
       "    }\n",
       "\n",
       "    .dataframe thead th {\n",
       "        text-align: right;\n",
       "    }\n",
       "</style>\n",
       "<table border=\"1\" class=\"dataframe\">\n",
       "  <thead>\n",
       "    <tr style=\"text-align: right;\">\n",
       "      <th></th>\n",
       "      <th>customer_id</th>\n",
       "      <th>address</th>\n",
       "      <th>postcode</th>\n",
       "      <th>state</th>\n",
       "      <th>country</th>\n",
       "      <th>property_valuation</th>\n",
       "    </tr>\n",
       "  </thead>\n",
       "  <tbody>\n",
       "    <tr>\n",
       "      <th>0</th>\n",
       "      <td>1</td>\n",
       "      <td>060 Morning Avenue</td>\n",
       "      <td>2016</td>\n",
       "      <td>New South Wales</td>\n",
       "      <td>Australia</td>\n",
       "      <td>10</td>\n",
       "    </tr>\n",
       "    <tr>\n",
       "      <th>1</th>\n",
       "      <td>2</td>\n",
       "      <td>6 Meadow Vale Court</td>\n",
       "      <td>2153</td>\n",
       "      <td>New South Wales</td>\n",
       "      <td>Australia</td>\n",
       "      <td>10</td>\n",
       "    </tr>\n",
       "    <tr>\n",
       "      <th>2</th>\n",
       "      <td>4</td>\n",
       "      <td>0 Holy Cross Court</td>\n",
       "      <td>4211</td>\n",
       "      <td>QLD</td>\n",
       "      <td>Australia</td>\n",
       "      <td>9</td>\n",
       "    </tr>\n",
       "    <tr>\n",
       "      <th>3</th>\n",
       "      <td>5</td>\n",
       "      <td>17979 Del Mar Point</td>\n",
       "      <td>2448</td>\n",
       "      <td>New South Wales</td>\n",
       "      <td>Australia</td>\n",
       "      <td>4</td>\n",
       "    </tr>\n",
       "    <tr>\n",
       "      <th>4</th>\n",
       "      <td>6</td>\n",
       "      <td>9 Oakridge Court</td>\n",
       "      <td>3216</td>\n",
       "      <td>VIC</td>\n",
       "      <td>Australia</td>\n",
       "      <td>9</td>\n",
       "    </tr>\n",
       "  </tbody>\n",
       "</table>\n",
       "</div>"
      ],
      "text/plain": [
       "   customer_id              address  postcode            state    country  \\\n",
       "0            1   060 Morning Avenue      2016  New South Wales  Australia   \n",
       "1            2  6 Meadow Vale Court      2153  New South Wales  Australia   \n",
       "2            4   0 Holy Cross Court      4211              QLD  Australia   \n",
       "3            5  17979 Del Mar Point      2448  New South Wales  Australia   \n",
       "4            6     9 Oakridge Court      3216              VIC  Australia   \n",
       "\n",
       "   property_valuation  \n",
       "0                  10  \n",
       "1                  10  \n",
       "2                   9  \n",
       "3                   4  \n",
       "4                   9  "
      ]
     },
     "execution_count": 71,
     "metadata": {},
     "output_type": "execute_result"
    }
   ],
   "source": [
    "data4.head()"
   ]
  },
  {
   "cell_type": "code",
   "execution_count": 72,
   "metadata": {
    "scrolled": true
   },
   "outputs": [
    {
     "data": {
      "text/html": [
       "<div>\n",
       "<style scoped>\n",
       "    .dataframe tbody tr th:only-of-type {\n",
       "        vertical-align: middle;\n",
       "    }\n",
       "\n",
       "    .dataframe tbody tr th {\n",
       "        vertical-align: top;\n",
       "    }\n",
       "\n",
       "    .dataframe thead th {\n",
       "        text-align: right;\n",
       "    }\n",
       "</style>\n",
       "<table border=\"1\" class=\"dataframe\">\n",
       "  <thead>\n",
       "    <tr style=\"text-align: right;\">\n",
       "      <th></th>\n",
       "      <th>customer_id</th>\n",
       "      <th>address</th>\n",
       "      <th>postcode</th>\n",
       "      <th>state</th>\n",
       "      <th>country</th>\n",
       "      <th>property_valuation</th>\n",
       "    </tr>\n",
       "  </thead>\n",
       "  <tbody>\n",
       "    <tr>\n",
       "      <th>0</th>\n",
       "      <td>1</td>\n",
       "      <td>060 Morning Avenue</td>\n",
       "      <td>2016</td>\n",
       "      <td>NSW</td>\n",
       "      <td>Australia</td>\n",
       "      <td>10</td>\n",
       "    </tr>\n",
       "    <tr>\n",
       "      <th>1</th>\n",
       "      <td>2</td>\n",
       "      <td>6 Meadow Vale Court</td>\n",
       "      <td>2153</td>\n",
       "      <td>NSW</td>\n",
       "      <td>Australia</td>\n",
       "      <td>10</td>\n",
       "    </tr>\n",
       "    <tr>\n",
       "      <th>2</th>\n",
       "      <td>4</td>\n",
       "      <td>0 Holy Cross Court</td>\n",
       "      <td>4211</td>\n",
       "      <td>QLD</td>\n",
       "      <td>Australia</td>\n",
       "      <td>9</td>\n",
       "    </tr>\n",
       "    <tr>\n",
       "      <th>3</th>\n",
       "      <td>5</td>\n",
       "      <td>17979 Del Mar Point</td>\n",
       "      <td>2448</td>\n",
       "      <td>NSW</td>\n",
       "      <td>Australia</td>\n",
       "      <td>4</td>\n",
       "    </tr>\n",
       "    <tr>\n",
       "      <th>4</th>\n",
       "      <td>6</td>\n",
       "      <td>9 Oakridge Court</td>\n",
       "      <td>3216</td>\n",
       "      <td>VIC</td>\n",
       "      <td>Australia</td>\n",
       "      <td>9</td>\n",
       "    </tr>\n",
       "  </tbody>\n",
       "</table>\n",
       "</div>"
      ],
      "text/plain": [
       "   customer_id              address  postcode state    country  \\\n",
       "0            1   060 Morning Avenue      2016   NSW  Australia   \n",
       "1            2  6 Meadow Vale Court      2153   NSW  Australia   \n",
       "2            4   0 Holy Cross Court      4211   QLD  Australia   \n",
       "3            5  17979 Del Mar Point      2448   NSW  Australia   \n",
       "4            6     9 Oakridge Court      3216   VIC  Australia   \n",
       "\n",
       "   property_valuation  \n",
       "0                  10  \n",
       "1                  10  \n",
       "2                   9  \n",
       "3                   4  \n",
       "4                   9  "
      ]
     },
     "execution_count": 72,
     "metadata": {},
     "output_type": "execute_result"
    }
   ],
   "source": [
    "data4['state'].replace('New South Wales','NSW',inplace=True)\n",
    "data4['state'].replace('Victoria','VIC',inplace=True)\n",
    "data4_clean=data4.dropna()\n",
    "data4_clean.head()"
   ]
  },
  {
   "cell_type": "code",
   "execution_count": 73,
   "metadata": {},
   "outputs": [
    {
     "data": {
      "text/html": [
       "<div>\n",
       "<style scoped>\n",
       "    .dataframe tbody tr th:only-of-type {\n",
       "        vertical-align: middle;\n",
       "    }\n",
       "\n",
       "    .dataframe tbody tr th {\n",
       "        vertical-align: top;\n",
       "    }\n",
       "\n",
       "    .dataframe thead th {\n",
       "        text-align: right;\n",
       "    }\n",
       "</style>\n",
       "<table border=\"1\" class=\"dataframe\">\n",
       "  <thead>\n",
       "    <tr style=\"text-align: right;\">\n",
       "      <th></th>\n",
       "      <th>customer_id_x</th>\n",
       "      <th>gender</th>\n",
       "      <th>past_3_years_bike_related_purchases</th>\n",
       "      <th>DOB</th>\n",
       "      <th>job_industry_category</th>\n",
       "      <th>wealth_segment</th>\n",
       "      <th>owns_car</th>\n",
       "      <th>tenure</th>\n",
       "      <th>age</th>\n",
       "      <th>age_class</th>\n",
       "      <th>customer_id_y</th>\n",
       "      <th>address</th>\n",
       "      <th>postcode</th>\n",
       "      <th>state</th>\n",
       "      <th>country</th>\n",
       "      <th>property_valuation</th>\n",
       "    </tr>\n",
       "  </thead>\n",
       "  <tbody>\n",
       "    <tr>\n",
       "      <th>0</th>\n",
       "      <td>1</td>\n",
       "      <td>Female</td>\n",
       "      <td>93</td>\n",
       "      <td>1953-10-12</td>\n",
       "      <td>Health</td>\n",
       "      <td>Mass Customer</td>\n",
       "      <td>1</td>\n",
       "      <td>11.0</td>\n",
       "      <td>68.513138</td>\n",
       "      <td>70</td>\n",
       "      <td>1</td>\n",
       "      <td>060 Morning Avenue</td>\n",
       "      <td>2016</td>\n",
       "      <td>NSW</td>\n",
       "      <td>Australia</td>\n",
       "      <td>10</td>\n",
       "    </tr>\n",
       "    <tr>\n",
       "      <th>1</th>\n",
       "      <td>2</td>\n",
       "      <td>Male</td>\n",
       "      <td>81</td>\n",
       "      <td>1980-12-16</td>\n",
       "      <td>Financial Services</td>\n",
       "      <td>Mass Customer</td>\n",
       "      <td>1</td>\n",
       "      <td>16.0</td>\n",
       "      <td>41.333935</td>\n",
       "      <td>40</td>\n",
       "      <td>2</td>\n",
       "      <td>6 Meadow Vale Court</td>\n",
       "      <td>2153</td>\n",
       "      <td>NSW</td>\n",
       "      <td>Australia</td>\n",
       "      <td>10</td>\n",
       "    </tr>\n",
       "    <tr>\n",
       "      <th>2</th>\n",
       "      <td>3</td>\n",
       "      <td>Male</td>\n",
       "      <td>61</td>\n",
       "      <td>1954-01-20</td>\n",
       "      <td>Property</td>\n",
       "      <td>Mass Customer</td>\n",
       "      <td>1</td>\n",
       "      <td>15.0</td>\n",
       "      <td>68.239347</td>\n",
       "      <td>70</td>\n",
       "      <td>4</td>\n",
       "      <td>0 Holy Cross Court</td>\n",
       "      <td>4211</td>\n",
       "      <td>QLD</td>\n",
       "      <td>Australia</td>\n",
       "      <td>9</td>\n",
       "    </tr>\n",
       "    <tr>\n",
       "      <th>3</th>\n",
       "      <td>4</td>\n",
       "      <td>Male</td>\n",
       "      <td>33</td>\n",
       "      <td>1961-10-03</td>\n",
       "      <td>IT</td>\n",
       "      <td>Mass Customer</td>\n",
       "      <td>0</td>\n",
       "      <td>7.0</td>\n",
       "      <td>60.537615</td>\n",
       "      <td>60</td>\n",
       "      <td>5</td>\n",
       "      <td>17979 Del Mar Point</td>\n",
       "      <td>2448</td>\n",
       "      <td>NSW</td>\n",
       "      <td>Australia</td>\n",
       "      <td>4</td>\n",
       "    </tr>\n",
       "    <tr>\n",
       "      <th>5</th>\n",
       "      <td>6</td>\n",
       "      <td>Male</td>\n",
       "      <td>35</td>\n",
       "      <td>1966-09-16</td>\n",
       "      <td>Retail</td>\n",
       "      <td>High Net Worth</td>\n",
       "      <td>1</td>\n",
       "      <td>13.0</td>\n",
       "      <td>55.584741</td>\n",
       "      <td>60</td>\n",
       "      <td>7</td>\n",
       "      <td>4 Delaware Trail</td>\n",
       "      <td>2210</td>\n",
       "      <td>NSW</td>\n",
       "      <td>Australia</td>\n",
       "      <td>9</td>\n",
       "    </tr>\n",
       "  </tbody>\n",
       "</table>\n",
       "</div>"
      ],
      "text/plain": [
       "   customer_id_x  gender  past_3_years_bike_related_purchases        DOB  \\\n",
       "0              1  Female                                   93 1953-10-12   \n",
       "1              2    Male                                   81 1980-12-16   \n",
       "2              3    Male                                   61 1954-01-20   \n",
       "3              4    Male                                   33 1961-10-03   \n",
       "5              6    Male                                   35 1966-09-16   \n",
       "\n",
       "  job_industry_category  wealth_segment  owns_car  tenure        age  \\\n",
       "0                Health   Mass Customer         1    11.0  68.513138   \n",
       "1    Financial Services   Mass Customer         1    16.0  41.333935   \n",
       "2              Property   Mass Customer         1    15.0  68.239347   \n",
       "3                    IT   Mass Customer         0     7.0  60.537615   \n",
       "5                Retail  High Net Worth         1    13.0  55.584741   \n",
       "\n",
       "   age_class  customer_id_y              address  postcode state    country  \\\n",
       "0         70              1   060 Morning Avenue      2016   NSW  Australia   \n",
       "1         40              2  6 Meadow Vale Court      2153   NSW  Australia   \n",
       "2         70              4   0 Holy Cross Court      4211   QLD  Australia   \n",
       "3         60              5  17979 Del Mar Point      2448   NSW  Australia   \n",
       "5         60              7     4 Delaware Trail      2210   NSW  Australia   \n",
       "\n",
       "   property_valuation  \n",
       "0                  10  \n",
       "1                  10  \n",
       "2                   9  \n",
       "3                   4  \n",
       "5                   9  "
      ]
     },
     "execution_count": 73,
     "metadata": {},
     "output_type": "execute_result"
    }
   ],
   "source": [
    "demo_addr=pd.merge(data3_clean,data4_clean,left_index=True,right_index=True)\n",
    "demo_addr=demo_addr.dropna()\n",
    "demo_addr.head()"
   ]
  },
  {
   "cell_type": "code",
   "execution_count": 74,
   "metadata": {},
   "outputs": [
    {
     "data": {
      "text/html": [
       "<div>\n",
       "<style scoped>\n",
       "    .dataframe tbody tr th:only-of-type {\n",
       "        vertical-align: middle;\n",
       "    }\n",
       "\n",
       "    .dataframe tbody tr th {\n",
       "        vertical-align: top;\n",
       "    }\n",
       "\n",
       "    .dataframe thead th {\n",
       "        text-align: right;\n",
       "    }\n",
       "</style>\n",
       "<table border=\"1\" class=\"dataframe\">\n",
       "  <thead>\n",
       "    <tr style=\"text-align: right;\">\n",
       "      <th></th>\n",
       "      <th>transaction_id</th>\n",
       "      <th>product_id</th>\n",
       "      <th>customer_id</th>\n",
       "      <th>transaction_date</th>\n",
       "      <th>online_order</th>\n",
       "      <th>order_status</th>\n",
       "      <th>brand</th>\n",
       "      <th>product_line</th>\n",
       "      <th>product_class</th>\n",
       "      <th>product_size</th>\n",
       "      <th>list_price</th>\n",
       "      <th>standard_cost</th>\n",
       "      <th>product_first_sold_date</th>\n",
       "      <th>profit</th>\n",
       "    </tr>\n",
       "  </thead>\n",
       "  <tbody>\n",
       "    <tr>\n",
       "      <th>0</th>\n",
       "      <td>1</td>\n",
       "      <td>2</td>\n",
       "      <td>2950</td>\n",
       "      <td>2017-02-25</td>\n",
       "      <td>0.0</td>\n",
       "      <td>Approved</td>\n",
       "      <td>Solex</td>\n",
       "      <td>Standard</td>\n",
       "      <td>medium</td>\n",
       "      <td>medium</td>\n",
       "      <td>71.49</td>\n",
       "      <td>53.62</td>\n",
       "      <td>41245.0</td>\n",
       "      <td>17.87</td>\n",
       "    </tr>\n",
       "    <tr>\n",
       "      <th>1</th>\n",
       "      <td>2</td>\n",
       "      <td>3</td>\n",
       "      <td>3120</td>\n",
       "      <td>2017-05-21</td>\n",
       "      <td>1.0</td>\n",
       "      <td>Approved</td>\n",
       "      <td>Trek Bicycles</td>\n",
       "      <td>Standard</td>\n",
       "      <td>medium</td>\n",
       "      <td>large</td>\n",
       "      <td>2091.47</td>\n",
       "      <td>388.92</td>\n",
       "      <td>41701.0</td>\n",
       "      <td>1702.55</td>\n",
       "    </tr>\n",
       "    <tr>\n",
       "      <th>2</th>\n",
       "      <td>3</td>\n",
       "      <td>37</td>\n",
       "      <td>402</td>\n",
       "      <td>2017-10-16</td>\n",
       "      <td>0.0</td>\n",
       "      <td>Approved</td>\n",
       "      <td>OHM Cycles</td>\n",
       "      <td>Standard</td>\n",
       "      <td>low</td>\n",
       "      <td>medium</td>\n",
       "      <td>1793.43</td>\n",
       "      <td>248.82</td>\n",
       "      <td>36361.0</td>\n",
       "      <td>1544.61</td>\n",
       "    </tr>\n",
       "    <tr>\n",
       "      <th>3</th>\n",
       "      <td>4</td>\n",
       "      <td>88</td>\n",
       "      <td>3135</td>\n",
       "      <td>2017-08-31</td>\n",
       "      <td>0.0</td>\n",
       "      <td>Approved</td>\n",
       "      <td>Norco Bicycles</td>\n",
       "      <td>Standard</td>\n",
       "      <td>medium</td>\n",
       "      <td>medium</td>\n",
       "      <td>1198.46</td>\n",
       "      <td>381.10</td>\n",
       "      <td>36145.0</td>\n",
       "      <td>817.36</td>\n",
       "    </tr>\n",
       "    <tr>\n",
       "      <th>4</th>\n",
       "      <td>5</td>\n",
       "      <td>78</td>\n",
       "      <td>787</td>\n",
       "      <td>2017-10-01</td>\n",
       "      <td>1.0</td>\n",
       "      <td>Approved</td>\n",
       "      <td>Giant Bicycles</td>\n",
       "      <td>Standard</td>\n",
       "      <td>medium</td>\n",
       "      <td>large</td>\n",
       "      <td>1765.30</td>\n",
       "      <td>709.48</td>\n",
       "      <td>42226.0</td>\n",
       "      <td>1055.82</td>\n",
       "    </tr>\n",
       "  </tbody>\n",
       "</table>\n",
       "</div>"
      ],
      "text/plain": [
       "   transaction_id  product_id  customer_id transaction_date  online_order  \\\n",
       "0               1           2         2950       2017-02-25           0.0   \n",
       "1               2           3         3120       2017-05-21           1.0   \n",
       "2               3          37          402       2017-10-16           0.0   \n",
       "3               4          88         3135       2017-08-31           0.0   \n",
       "4               5          78          787       2017-10-01           1.0   \n",
       "\n",
       "  order_status           brand product_line product_class product_size  \\\n",
       "0     Approved           Solex     Standard        medium       medium   \n",
       "1     Approved   Trek Bicycles     Standard        medium        large   \n",
       "2     Approved      OHM Cycles     Standard           low       medium   \n",
       "3     Approved  Norco Bicycles     Standard        medium       medium   \n",
       "4     Approved  Giant Bicycles     Standard        medium        large   \n",
       "\n",
       "   list_price  standard_cost  product_first_sold_date   profit  \n",
       "0       71.49          53.62                  41245.0    17.87  \n",
       "1     2091.47         388.92                  41701.0  1702.55  \n",
       "2     1793.43         248.82                  36361.0  1544.61  \n",
       "3     1198.46         381.10                  36145.0   817.36  \n",
       "4     1765.30         709.48                  42226.0  1055.82  "
      ]
     },
     "execution_count": 74,
     "metadata": {},
     "output_type": "execute_result"
    }
   ],
   "source": [
    "data1.head()"
   ]
  },
  {
   "cell_type": "code",
   "execution_count": 75,
   "metadata": {},
   "outputs": [
    {
     "data": {
      "text/plain": [
       "transaction_id               0\n",
       "product_id                   0\n",
       "customer_id                  0\n",
       "transaction_date             0\n",
       "online_order               360\n",
       "order_status                 0\n",
       "brand                      197\n",
       "product_line               197\n",
       "product_class              197\n",
       "product_size               197\n",
       "list_price                   0\n",
       "standard_cost              197\n",
       "product_first_sold_date    197\n",
       "profit                     197\n",
       "dtype: int64"
      ]
     },
     "execution_count": 75,
     "metadata": {},
     "output_type": "execute_result"
    }
   ],
   "source": [
    "data1.isna().sum()"
   ]
  },
  {
   "cell_type": "code",
   "execution_count": 76,
   "metadata": {},
   "outputs": [
    {
     "data": {
      "text/plain": [
       "(20000, 14)"
      ]
     },
     "execution_count": 76,
     "metadata": {},
     "output_type": "execute_result"
    }
   ],
   "source": [
    "data1.shape"
   ]
  },
  {
   "cell_type": "code",
   "execution_count": 77,
   "metadata": {},
   "outputs": [
    {
     "data": {
      "text/plain": [
       "(19445, 14)"
      ]
     },
     "execution_count": 77,
     "metadata": {},
     "output_type": "execute_result"
    }
   ],
   "source": [
    "data1_clean=data1.dropna()\n",
    "data1_clean.shape"
   ]
  },
  {
   "cell_type": "code",
   "execution_count": 78,
   "metadata": {},
   "outputs": [
    {
     "name": "stderr",
     "output_type": "stream",
     "text": [
      "<ipython-input-78-b25b77dd0616>:2: SettingWithCopyWarning: \n",
      "A value is trying to be set on a copy of a slice from a DataFrame.\n",
      "Try using .loc[row_indexer,col_indexer] = value instead\n",
      "\n",
      "See the caveats in the documentation: https://pandas.pydata.org/pandas-docs/stable/user_guide/indexing.html#returning-a-view-versus-a-copy\n",
      "  data1_clean['recency']=most_recent_purchase-data1_clean['transaction_date']\n",
      "<ipython-input-78-b25b77dd0616>:3: SettingWithCopyWarning: \n",
      "A value is trying to be set on a copy of a slice from a DataFrame.\n",
      "Try using .loc[row_indexer,col_indexer] = value instead\n",
      "\n",
      "See the caveats in the documentation: https://pandas.pydata.org/pandas-docs/stable/user_guide/indexing.html#returning-a-view-versus-a-copy\n",
      "  data1_clean['recency']/=np.timedelta64(1,'D')\n"
     ]
    },
    {
     "data": {
      "text/html": [
       "<div>\n",
       "<style scoped>\n",
       "    .dataframe tbody tr th:only-of-type {\n",
       "        vertical-align: middle;\n",
       "    }\n",
       "\n",
       "    .dataframe tbody tr th {\n",
       "        vertical-align: top;\n",
       "    }\n",
       "\n",
       "    .dataframe thead th {\n",
       "        text-align: right;\n",
       "    }\n",
       "</style>\n",
       "<table border=\"1\" class=\"dataframe\">\n",
       "  <thead>\n",
       "    <tr style=\"text-align: right;\">\n",
       "      <th></th>\n",
       "      <th>transaction_id</th>\n",
       "      <th>product_id</th>\n",
       "      <th>customer_id</th>\n",
       "      <th>transaction_date</th>\n",
       "      <th>online_order</th>\n",
       "      <th>order_status</th>\n",
       "      <th>brand</th>\n",
       "      <th>product_line</th>\n",
       "      <th>product_class</th>\n",
       "      <th>product_size</th>\n",
       "      <th>list_price</th>\n",
       "      <th>standard_cost</th>\n",
       "      <th>product_first_sold_date</th>\n",
       "      <th>profit</th>\n",
       "      <th>recency</th>\n",
       "    </tr>\n",
       "  </thead>\n",
       "  <tbody>\n",
       "    <tr>\n",
       "      <th>0</th>\n",
       "      <td>1</td>\n",
       "      <td>2</td>\n",
       "      <td>2950</td>\n",
       "      <td>2017-02-25</td>\n",
       "      <td>0.0</td>\n",
       "      <td>Approved</td>\n",
       "      <td>Solex</td>\n",
       "      <td>Standard</td>\n",
       "      <td>medium</td>\n",
       "      <td>medium</td>\n",
       "      <td>71.49</td>\n",
       "      <td>53.62</td>\n",
       "      <td>41245.0</td>\n",
       "      <td>17.87</td>\n",
       "      <td>308.0</td>\n",
       "    </tr>\n",
       "    <tr>\n",
       "      <th>1</th>\n",
       "      <td>2</td>\n",
       "      <td>3</td>\n",
       "      <td>3120</td>\n",
       "      <td>2017-05-21</td>\n",
       "      <td>1.0</td>\n",
       "      <td>Approved</td>\n",
       "      <td>Trek Bicycles</td>\n",
       "      <td>Standard</td>\n",
       "      <td>medium</td>\n",
       "      <td>large</td>\n",
       "      <td>2091.47</td>\n",
       "      <td>388.92</td>\n",
       "      <td>41701.0</td>\n",
       "      <td>1702.55</td>\n",
       "      <td>223.0</td>\n",
       "    </tr>\n",
       "    <tr>\n",
       "      <th>2</th>\n",
       "      <td>3</td>\n",
       "      <td>37</td>\n",
       "      <td>402</td>\n",
       "      <td>2017-10-16</td>\n",
       "      <td>0.0</td>\n",
       "      <td>Approved</td>\n",
       "      <td>OHM Cycles</td>\n",
       "      <td>Standard</td>\n",
       "      <td>low</td>\n",
       "      <td>medium</td>\n",
       "      <td>1793.43</td>\n",
       "      <td>248.82</td>\n",
       "      <td>36361.0</td>\n",
       "      <td>1544.61</td>\n",
       "      <td>75.0</td>\n",
       "    </tr>\n",
       "    <tr>\n",
       "      <th>3</th>\n",
       "      <td>4</td>\n",
       "      <td>88</td>\n",
       "      <td>3135</td>\n",
       "      <td>2017-08-31</td>\n",
       "      <td>0.0</td>\n",
       "      <td>Approved</td>\n",
       "      <td>Norco Bicycles</td>\n",
       "      <td>Standard</td>\n",
       "      <td>medium</td>\n",
       "      <td>medium</td>\n",
       "      <td>1198.46</td>\n",
       "      <td>381.10</td>\n",
       "      <td>36145.0</td>\n",
       "      <td>817.36</td>\n",
       "      <td>121.0</td>\n",
       "    </tr>\n",
       "    <tr>\n",
       "      <th>4</th>\n",
       "      <td>5</td>\n",
       "      <td>78</td>\n",
       "      <td>787</td>\n",
       "      <td>2017-10-01</td>\n",
       "      <td>1.0</td>\n",
       "      <td>Approved</td>\n",
       "      <td>Giant Bicycles</td>\n",
       "      <td>Standard</td>\n",
       "      <td>medium</td>\n",
       "      <td>large</td>\n",
       "      <td>1765.30</td>\n",
       "      <td>709.48</td>\n",
       "      <td>42226.0</td>\n",
       "      <td>1055.82</td>\n",
       "      <td>90.0</td>\n",
       "    </tr>\n",
       "  </tbody>\n",
       "</table>\n",
       "</div>"
      ],
      "text/plain": [
       "   transaction_id  product_id  customer_id transaction_date  online_order  \\\n",
       "0               1           2         2950       2017-02-25           0.0   \n",
       "1               2           3         3120       2017-05-21           1.0   \n",
       "2               3          37          402       2017-10-16           0.0   \n",
       "3               4          88         3135       2017-08-31           0.0   \n",
       "4               5          78          787       2017-10-01           1.0   \n",
       "\n",
       "  order_status           brand product_line product_class product_size  \\\n",
       "0     Approved           Solex     Standard        medium       medium   \n",
       "1     Approved   Trek Bicycles     Standard        medium        large   \n",
       "2     Approved      OHM Cycles     Standard           low       medium   \n",
       "3     Approved  Norco Bicycles     Standard        medium       medium   \n",
       "4     Approved  Giant Bicycles     Standard        medium        large   \n",
       "\n",
       "   list_price  standard_cost  product_first_sold_date   profit  recency  \n",
       "0       71.49          53.62                  41245.0    17.87    308.0  \n",
       "1     2091.47         388.92                  41701.0  1702.55    223.0  \n",
       "2     1793.43         248.82                  36361.0  1544.61     75.0  \n",
       "3     1198.46         381.10                  36145.0   817.36    121.0  \n",
       "4     1765.30         709.48                  42226.0  1055.82     90.0  "
      ]
     },
     "execution_count": 78,
     "metadata": {},
     "output_type": "execute_result"
    }
   ],
   "source": [
    "most_recent_purchase=data1_clean['transaction_date'].max()\n",
    "data1_clean['recency']=most_recent_purchase-data1_clean['transaction_date']\n",
    "data1_clean['recency']/=np.timedelta64(1,'D')\n",
    "data1_clean.head()"
   ]
  },
  {
   "cell_type": "code",
   "execution_count": 79,
   "metadata": {},
   "outputs": [
    {
     "data": {
      "text/plain": [
       "(0, 15)"
      ]
     },
     "execution_count": 79,
     "metadata": {},
     "output_type": "execute_result"
    }
   ],
   "source": [
    "data1_clean[data1_clean['recency']>365].shape"
   ]
  },
  {
   "cell_type": "code",
   "execution_count": 80,
   "metadata": {},
   "outputs": [],
   "source": [
    "rfmtable=data1_clean.groupby('customer_id').agg({'recency':lambda x:x.min(),\n",
    "                                                'customer_id': lambda x:len(x),\n",
    "                                                'profit':lambda x: x.sum()})\n",
    "rfmtable.rename(columns={\n",
    "    'recency':'recency',\n",
    "    'customer_id':'frequency',\n",
    "    'profit':'monetary_value'\n",
    "},inplace=True)"
   ]
  },
  {
   "cell_type": "code",
   "execution_count": 81,
   "metadata": {},
   "outputs": [
    {
     "data": {
      "text/html": [
       "<div>\n",
       "<style scoped>\n",
       "    .dataframe tbody tr th:only-of-type {\n",
       "        vertical-align: middle;\n",
       "    }\n",
       "\n",
       "    .dataframe tbody tr th {\n",
       "        vertical-align: top;\n",
       "    }\n",
       "\n",
       "    .dataframe thead th {\n",
       "        text-align: right;\n",
       "    }\n",
       "</style>\n",
       "<table border=\"1\" class=\"dataframe\">\n",
       "  <thead>\n",
       "    <tr style=\"text-align: right;\">\n",
       "      <th></th>\n",
       "      <th>recency</th>\n",
       "      <th>frequency</th>\n",
       "      <th>monetary_value</th>\n",
       "    </tr>\n",
       "    <tr>\n",
       "      <th>customer_id</th>\n",
       "      <th></th>\n",
       "      <th></th>\n",
       "      <th></th>\n",
       "    </tr>\n",
       "  </thead>\n",
       "  <tbody>\n",
       "    <tr>\n",
       "      <th>1</th>\n",
       "      <td>7.0</td>\n",
       "      <td>11</td>\n",
       "      <td>3018.09</td>\n",
       "    </tr>\n",
       "    <tr>\n",
       "      <th>2</th>\n",
       "      <td>128.0</td>\n",
       "      <td>3</td>\n",
       "      <td>2226.26</td>\n",
       "    </tr>\n",
       "    <tr>\n",
       "      <th>3</th>\n",
       "      <td>102.0</td>\n",
       "      <td>7</td>\n",
       "      <td>3290.21</td>\n",
       "    </tr>\n",
       "    <tr>\n",
       "      <th>4</th>\n",
       "      <td>195.0</td>\n",
       "      <td>2</td>\n",
       "      <td>220.57</td>\n",
       "    </tr>\n",
       "    <tr>\n",
       "      <th>5</th>\n",
       "      <td>16.0</td>\n",
       "      <td>6</td>\n",
       "      <td>2394.94</td>\n",
       "    </tr>\n",
       "  </tbody>\n",
       "</table>\n",
       "</div>"
      ],
      "text/plain": [
       "             recency  frequency  monetary_value\n",
       "customer_id                                    \n",
       "1                7.0         11         3018.09\n",
       "2              128.0          3         2226.26\n",
       "3              102.0          7         3290.21\n",
       "4              195.0          2          220.57\n",
       "5               16.0          6         2394.94"
      ]
     },
     "execution_count": 81,
     "metadata": {},
     "output_type": "execute_result"
    }
   ],
   "source": [
    "rfmtable.head()"
   ]
  },
  {
   "cell_type": "code",
   "execution_count": 82,
   "metadata": {},
   "outputs": [
    {
     "data": {
      "text/plain": [
       "(3492, 3)"
      ]
     },
     "execution_count": 82,
     "metadata": {},
     "output_type": "execute_result"
    }
   ],
   "source": [
    "rfmtable.shape"
   ]
  },
  {
   "cell_type": "code",
   "execution_count": 83,
   "metadata": {},
   "outputs": [
    {
     "data": {
      "text/html": [
       "<div>\n",
       "<style scoped>\n",
       "    .dataframe tbody tr th:only-of-type {\n",
       "        vertical-align: middle;\n",
       "    }\n",
       "\n",
       "    .dataframe tbody tr th {\n",
       "        vertical-align: top;\n",
       "    }\n",
       "\n",
       "    .dataframe thead th {\n",
       "        text-align: right;\n",
       "    }\n",
       "</style>\n",
       "<table border=\"1\" class=\"dataframe\">\n",
       "  <thead>\n",
       "    <tr style=\"text-align: right;\">\n",
       "      <th></th>\n",
       "      <th>recency</th>\n",
       "      <th>frequency</th>\n",
       "      <th>monetary_value</th>\n",
       "    </tr>\n",
       "  </thead>\n",
       "  <tbody>\n",
       "    <tr>\n",
       "      <th>0.25</th>\n",
       "      <td>18.0</td>\n",
       "      <td>4.0</td>\n",
       "      <td>1797.43</td>\n",
       "    </tr>\n",
       "    <tr>\n",
       "      <th>0.50</th>\n",
       "      <td>45.0</td>\n",
       "      <td>5.0</td>\n",
       "      <td>2798.99</td>\n",
       "    </tr>\n",
       "    <tr>\n",
       "      <th>0.75</th>\n",
       "      <td>88.0</td>\n",
       "      <td>7.0</td>\n",
       "      <td>4122.44</td>\n",
       "    </tr>\n",
       "  </tbody>\n",
       "</table>\n",
       "</div>"
      ],
      "text/plain": [
       "      recency  frequency  monetary_value\n",
       "0.25     18.0        4.0         1797.43\n",
       "0.50     45.0        5.0         2798.99\n",
       "0.75     88.0        7.0         4122.44"
      ]
     },
     "execution_count": 83,
     "metadata": {},
     "output_type": "execute_result"
    }
   ],
   "source": [
    "quartiles=rfmtable.quantile(q=[0.25,0.5,0.75])\n",
    "quartiles"
   ]
  },
  {
   "cell_type": "code",
   "execution_count": 84,
   "metadata": {},
   "outputs": [],
   "source": [
    "def ROencoder(x,p,d):\n",
    "    if x <= d[p][0.25]:\n",
    "        return 1\n",
    "    elif x<=d[p][0.5]:\n",
    "        return 2\n",
    "    elif x<=d[p][0.75]:\n",
    "        return 3\n",
    "    else:\n",
    "        return 4\n",
    "def FMOencoder (x,p,d):\n",
    "    if x<=d[p][0.25]:\n",
    "        return 4\n",
    "    elif x<=d[p][0.5]:\n",
    "        return 3\n",
    "    elif x<=d[p][0.75]:\n",
    "        return 2\n",
    "    else:\n",
    "        return 1"
   ]
  },
  {
   "cell_type": "code",
   "execution_count": 85,
   "metadata": {},
   "outputs": [
    {
     "data": {
      "text/html": [
       "<div>\n",
       "<style scoped>\n",
       "    .dataframe tbody tr th:only-of-type {\n",
       "        vertical-align: middle;\n",
       "    }\n",
       "\n",
       "    .dataframe tbody tr th {\n",
       "        vertical-align: top;\n",
       "    }\n",
       "\n",
       "    .dataframe thead th {\n",
       "        text-align: right;\n",
       "    }\n",
       "</style>\n",
       "<table border=\"1\" class=\"dataframe\">\n",
       "  <thead>\n",
       "    <tr style=\"text-align: right;\">\n",
       "      <th></th>\n",
       "      <th>recency</th>\n",
       "      <th>frequency</th>\n",
       "      <th>monetary_value</th>\n",
       "      <th>r_score</th>\n",
       "      <th>f_score</th>\n",
       "      <th>m_score</th>\n",
       "    </tr>\n",
       "    <tr>\n",
       "      <th>customer_id</th>\n",
       "      <th></th>\n",
       "      <th></th>\n",
       "      <th></th>\n",
       "      <th></th>\n",
       "      <th></th>\n",
       "      <th></th>\n",
       "    </tr>\n",
       "  </thead>\n",
       "  <tbody>\n",
       "    <tr>\n",
       "      <th>1</th>\n",
       "      <td>7.0</td>\n",
       "      <td>11</td>\n",
       "      <td>3018.09</td>\n",
       "      <td>1</td>\n",
       "      <td>1</td>\n",
       "      <td>2</td>\n",
       "    </tr>\n",
       "    <tr>\n",
       "      <th>2</th>\n",
       "      <td>128.0</td>\n",
       "      <td>3</td>\n",
       "      <td>2226.26</td>\n",
       "      <td>4</td>\n",
       "      <td>4</td>\n",
       "      <td>3</td>\n",
       "    </tr>\n",
       "    <tr>\n",
       "      <th>3</th>\n",
       "      <td>102.0</td>\n",
       "      <td>7</td>\n",
       "      <td>3290.21</td>\n",
       "      <td>4</td>\n",
       "      <td>2</td>\n",
       "      <td>2</td>\n",
       "    </tr>\n",
       "    <tr>\n",
       "      <th>4</th>\n",
       "      <td>195.0</td>\n",
       "      <td>2</td>\n",
       "      <td>220.57</td>\n",
       "      <td>4</td>\n",
       "      <td>4</td>\n",
       "      <td>4</td>\n",
       "    </tr>\n",
       "    <tr>\n",
       "      <th>5</th>\n",
       "      <td>16.0</td>\n",
       "      <td>6</td>\n",
       "      <td>2394.94</td>\n",
       "      <td>1</td>\n",
       "      <td>2</td>\n",
       "      <td>3</td>\n",
       "    </tr>\n",
       "  </tbody>\n",
       "</table>\n",
       "</div>"
      ],
      "text/plain": [
       "             recency  frequency  monetary_value  r_score  f_score  m_score\n",
       "customer_id                                                               \n",
       "1                7.0         11         3018.09        1        1        2\n",
       "2              128.0          3         2226.26        4        4        3\n",
       "3              102.0          7         3290.21        4        2        2\n",
       "4              195.0          2          220.57        4        4        4\n",
       "5               16.0          6         2394.94        1        2        3"
      ]
     },
     "execution_count": 85,
     "metadata": {},
     "output_type": "execute_result"
    }
   ],
   "source": [
    "rfmseg=rfmtable\n",
    "rfmseg['r_score']=rfmseg['recency'].apply(ROencoder,args=('recency',quartiles))\n",
    "rfmseg['f_score']=rfmseg['frequency'].apply(FMOencoder,args=('frequency',quartiles))\n",
    "rfmseg['m_score']=rfmseg['monetary_value'].apply(FMOencoder,args=('monetary_value',quartiles))\n",
    "rfmseg.head()"
   ]
  },
  {
   "cell_type": "code",
   "execution_count": 86,
   "metadata": {},
   "outputs": [
    {
     "data": {
      "text/html": [
       "<div>\n",
       "<style scoped>\n",
       "    .dataframe tbody tr th:only-of-type {\n",
       "        vertical-align: middle;\n",
       "    }\n",
       "\n",
       "    .dataframe tbody tr th {\n",
       "        vertical-align: top;\n",
       "    }\n",
       "\n",
       "    .dataframe thead th {\n",
       "        text-align: right;\n",
       "    }\n",
       "</style>\n",
       "<table border=\"1\" class=\"dataframe\">\n",
       "  <thead>\n",
       "    <tr style=\"text-align: right;\">\n",
       "      <th></th>\n",
       "      <th>recency</th>\n",
       "      <th>frequency</th>\n",
       "      <th>monetary_value</th>\n",
       "      <th>r_score</th>\n",
       "      <th>f_score</th>\n",
       "      <th>m_score</th>\n",
       "      <th>rfm_class</th>\n",
       "      <th>total_score</th>\n",
       "    </tr>\n",
       "    <tr>\n",
       "      <th>customer_id</th>\n",
       "      <th></th>\n",
       "      <th></th>\n",
       "      <th></th>\n",
       "      <th></th>\n",
       "      <th></th>\n",
       "      <th></th>\n",
       "      <th></th>\n",
       "      <th></th>\n",
       "    </tr>\n",
       "  </thead>\n",
       "  <tbody>\n",
       "    <tr>\n",
       "      <th>1</th>\n",
       "      <td>7.0</td>\n",
       "      <td>11</td>\n",
       "      <td>3018.09</td>\n",
       "      <td>1</td>\n",
       "      <td>1</td>\n",
       "      <td>2</td>\n",
       "      <td>112</td>\n",
       "      <td>4</td>\n",
       "    </tr>\n",
       "    <tr>\n",
       "      <th>2</th>\n",
       "      <td>128.0</td>\n",
       "      <td>3</td>\n",
       "      <td>2226.26</td>\n",
       "      <td>4</td>\n",
       "      <td>4</td>\n",
       "      <td>3</td>\n",
       "      <td>443</td>\n",
       "      <td>11</td>\n",
       "    </tr>\n",
       "    <tr>\n",
       "      <th>3</th>\n",
       "      <td>102.0</td>\n",
       "      <td>7</td>\n",
       "      <td>3290.21</td>\n",
       "      <td>4</td>\n",
       "      <td>2</td>\n",
       "      <td>2</td>\n",
       "      <td>422</td>\n",
       "      <td>8</td>\n",
       "    </tr>\n",
       "    <tr>\n",
       "      <th>4</th>\n",
       "      <td>195.0</td>\n",
       "      <td>2</td>\n",
       "      <td>220.57</td>\n",
       "      <td>4</td>\n",
       "      <td>4</td>\n",
       "      <td>4</td>\n",
       "      <td>444</td>\n",
       "      <td>12</td>\n",
       "    </tr>\n",
       "    <tr>\n",
       "      <th>5</th>\n",
       "      <td>16.0</td>\n",
       "      <td>6</td>\n",
       "      <td>2394.94</td>\n",
       "      <td>1</td>\n",
       "      <td>2</td>\n",
       "      <td>3</td>\n",
       "      <td>123</td>\n",
       "      <td>6</td>\n",
       "    </tr>\n",
       "  </tbody>\n",
       "</table>\n",
       "</div>"
      ],
      "text/plain": [
       "             recency  frequency  monetary_value  r_score  f_score  m_score  \\\n",
       "customer_id                                                                  \n",
       "1                7.0         11         3018.09        1        1        2   \n",
       "2              128.0          3         2226.26        4        4        3   \n",
       "3              102.0          7         3290.21        4        2        2   \n",
       "4              195.0          2          220.57        4        4        4   \n",
       "5               16.0          6         2394.94        1        2        3   \n",
       "\n",
       "             rfm_class  total_score  \n",
       "customer_id                          \n",
       "1                  112            4  \n",
       "2                  443           11  \n",
       "3                  422            8  \n",
       "4                  444           12  \n",
       "5                  123            6  "
      ]
     },
     "execution_count": 86,
     "metadata": {},
     "output_type": "execute_result"
    }
   ],
   "source": [
    "rfmseg['rfm_class']=100*rfmseg['r_score']+10*rfmseg['f_score']+rfmseg['m_score']\n",
    "rfmseg['total_score']=rfmseg['r_score']+rfmseg['f_score']+rfmseg['m_score']\n",
    "rfmseg.head()"
   ]
  },
  {
   "cell_type": "code",
   "execution_count": 87,
   "metadata": {},
   "outputs": [
    {
     "data": {
      "text/plain": [
       "(111, 144.0, 244.0, 344.0, 444)"
      ]
     },
     "execution_count": 87,
     "metadata": {},
     "output_type": "execute_result"
    }
   ],
   "source": [
    "rfm_quartiles=(rfmseg['rfm_class'].min(),rfmseg['rfm_class'].quantile(q=0.25),\n",
    "              rfmseg['rfm_class'].median(),rfmseg['rfm_class'].quantile(q=0.75),\n",
    "              rfmseg['rfm_class'].max())\n",
    "rfm_quartiles"
   ]
  },
  {
   "cell_type": "code",
   "execution_count": 88,
   "metadata": {},
   "outputs": [
    {
     "data": {
      "text/html": [
       "<div>\n",
       "<style scoped>\n",
       "    .dataframe tbody tr th:only-of-type {\n",
       "        vertical-align: middle;\n",
       "    }\n",
       "\n",
       "    .dataframe tbody tr th {\n",
       "        vertical-align: top;\n",
       "    }\n",
       "\n",
       "    .dataframe thead th {\n",
       "        text-align: right;\n",
       "    }\n",
       "</style>\n",
       "<table border=\"1\" class=\"dataframe\">\n",
       "  <thead>\n",
       "    <tr style=\"text-align: right;\">\n",
       "      <th></th>\n",
       "      <th>recency</th>\n",
       "      <th>frequency</th>\n",
       "      <th>monetary_value</th>\n",
       "      <th>r_score</th>\n",
       "      <th>f_score</th>\n",
       "      <th>m_score</th>\n",
       "      <th>rfm_class</th>\n",
       "      <th>total_score</th>\n",
       "      <th>customer_title</th>\n",
       "    </tr>\n",
       "    <tr>\n",
       "      <th>customer_id</th>\n",
       "      <th></th>\n",
       "      <th></th>\n",
       "      <th></th>\n",
       "      <th></th>\n",
       "      <th></th>\n",
       "      <th></th>\n",
       "      <th></th>\n",
       "      <th></th>\n",
       "      <th></th>\n",
       "    </tr>\n",
       "  </thead>\n",
       "  <tbody>\n",
       "    <tr>\n",
       "      <th>1</th>\n",
       "      <td>7.0</td>\n",
       "      <td>11</td>\n",
       "      <td>3018.090000</td>\n",
       "      <td>1</td>\n",
       "      <td>1</td>\n",
       "      <td>2</td>\n",
       "      <td>112</td>\n",
       "      <td>4</td>\n",
       "      <td>gold</td>\n",
       "    </tr>\n",
       "    <tr>\n",
       "      <th>2</th>\n",
       "      <td>128.0</td>\n",
       "      <td>3</td>\n",
       "      <td>2226.260000</td>\n",
       "      <td>4</td>\n",
       "      <td>4</td>\n",
       "      <td>3</td>\n",
       "      <td>443</td>\n",
       "      <td>11</td>\n",
       "      <td>None</td>\n",
       "    </tr>\n",
       "    <tr>\n",
       "      <th>3</th>\n",
       "      <td>102.0</td>\n",
       "      <td>7</td>\n",
       "      <td>3290.210000</td>\n",
       "      <td>4</td>\n",
       "      <td>2</td>\n",
       "      <td>2</td>\n",
       "      <td>422</td>\n",
       "      <td>8</td>\n",
       "      <td>None</td>\n",
       "    </tr>\n",
       "    <tr>\n",
       "      <th>4</th>\n",
       "      <td>195.0</td>\n",
       "      <td>2</td>\n",
       "      <td>220.570000</td>\n",
       "      <td>4</td>\n",
       "      <td>4</td>\n",
       "      <td>4</td>\n",
       "      <td>444</td>\n",
       "      <td>12</td>\n",
       "      <td>None</td>\n",
       "    </tr>\n",
       "    <tr>\n",
       "      <th>5</th>\n",
       "      <td>16.0</td>\n",
       "      <td>6</td>\n",
       "      <td>2394.940000</td>\n",
       "      <td>1</td>\n",
       "      <td>2</td>\n",
       "      <td>3</td>\n",
       "      <td>123</td>\n",
       "      <td>6</td>\n",
       "      <td>gold</td>\n",
       "    </tr>\n",
       "    <tr>\n",
       "      <th>...</th>\n",
       "      <td>...</td>\n",
       "      <td>...</td>\n",
       "      <td>...</td>\n",
       "      <td>...</td>\n",
       "      <td>...</td>\n",
       "      <td>...</td>\n",
       "      <td>...</td>\n",
       "      <td>...</td>\n",
       "      <td>...</td>\n",
       "    </tr>\n",
       "    <tr>\n",
       "      <th>3497</th>\n",
       "      <td>52.0</td>\n",
       "      <td>3</td>\n",
       "      <td>1648.320000</td>\n",
       "      <td>3</td>\n",
       "      <td>4</td>\n",
       "      <td>4</td>\n",
       "      <td>344</td>\n",
       "      <td>11</td>\n",
       "      <td>bronze</td>\n",
       "    </tr>\n",
       "    <tr>\n",
       "      <th>3498</th>\n",
       "      <td>127.0</td>\n",
       "      <td>6</td>\n",
       "      <td>3147.330000</td>\n",
       "      <td>4</td>\n",
       "      <td>2</td>\n",
       "      <td>2</td>\n",
       "      <td>422</td>\n",
       "      <td>8</td>\n",
       "      <td>None</td>\n",
       "    </tr>\n",
       "    <tr>\n",
       "      <th>3499</th>\n",
       "      <td>51.0</td>\n",
       "      <td>7</td>\n",
       "      <td>4955.250000</td>\n",
       "      <td>3</td>\n",
       "      <td>2</td>\n",
       "      <td>1</td>\n",
       "      <td>321</td>\n",
       "      <td>6</td>\n",
       "      <td>bronze</td>\n",
       "    </tr>\n",
       "    <tr>\n",
       "      <th>3500</th>\n",
       "      <td>144.0</td>\n",
       "      <td>6</td>\n",
       "      <td>1785.860000</td>\n",
       "      <td>4</td>\n",
       "      <td>2</td>\n",
       "      <td>4</td>\n",
       "      <td>424</td>\n",
       "      <td>10</td>\n",
       "      <td>None</td>\n",
       "    </tr>\n",
       "    <tr>\n",
       "      <th>5034</th>\n",
       "      <td>84.0</td>\n",
       "      <td>3</td>\n",
       "      <td>269.484972</td>\n",
       "      <td>3</td>\n",
       "      <td>4</td>\n",
       "      <td>4</td>\n",
       "      <td>344</td>\n",
       "      <td>11</td>\n",
       "      <td>bronze</td>\n",
       "    </tr>\n",
       "  </tbody>\n",
       "</table>\n",
       "<p>3492 rows × 9 columns</p>\n",
       "</div>"
      ],
      "text/plain": [
       "             recency  frequency  monetary_value  r_score  f_score  m_score  \\\n",
       "customer_id                                                                  \n",
       "1                7.0         11     3018.090000        1        1        2   \n",
       "2              128.0          3     2226.260000        4        4        3   \n",
       "3              102.0          7     3290.210000        4        2        2   \n",
       "4              195.0          2      220.570000        4        4        4   \n",
       "5               16.0          6     2394.940000        1        2        3   \n",
       "...              ...        ...             ...      ...      ...      ...   \n",
       "3497            52.0          3     1648.320000        3        4        4   \n",
       "3498           127.0          6     3147.330000        4        2        2   \n",
       "3499            51.0          7     4955.250000        3        2        1   \n",
       "3500           144.0          6     1785.860000        4        2        4   \n",
       "5034            84.0          3      269.484972        3        4        4   \n",
       "\n",
       "             rfm_class  total_score customer_title  \n",
       "customer_id                                         \n",
       "1                  112            4           gold  \n",
       "2                  443           11           None  \n",
       "3                  422            8           None  \n",
       "4                  444           12           None  \n",
       "5                  123            6           gold  \n",
       "...                ...          ...            ...  \n",
       "3497               344           11         bronze  \n",
       "3498               422            8           None  \n",
       "3499               321            6         bronze  \n",
       "3500               424           10           None  \n",
       "5034               344           11         bronze  \n",
       "\n",
       "[3492 rows x 9 columns]"
      ]
     },
     "execution_count": 88,
     "metadata": {},
     "output_type": "execute_result"
    }
   ],
   "source": [
    "def RFMclassencoder (x,p,d):\n",
    "    if x<=d[0]:\n",
    "        return 'platium'\n",
    "    elif x<=d[1]:\n",
    "        return 'gold'\n",
    "    elif x<=d[2]:\n",
    "        return 'silver'\n",
    "    elif x<=d[3]:\n",
    "        return 'bronze'\n",
    "rfmseg['customer_title']=rfmseg['rfm_class'].apply(RFMclassencoder,args=('rfm_class',rfm_quartiles))\n",
    "rfmseg\n",
    "    "
   ]
  },
  {
   "cell_type": "code",
   "execution_count": 89,
   "metadata": {},
   "outputs": [
    {
     "data": {
      "text/plain": [
       "Index(['recency', 'frequency', 'monetary_value', 'r_score', 'f_score',\n",
       "       'm_score', 'rfm_class', 'total_score', 'customer_title',\n",
       "       'customer_id_x', 'gender', 'past_3_years_bike_related_purchases', 'DOB',\n",
       "       'job_industry_category', 'wealth_segment', 'owns_car', 'tenure', 'age',\n",
       "       'age_class', 'customer_id_y', 'address', 'postcode', 'state', 'country',\n",
       "       'property_valuation'],\n",
       "      dtype='object')"
      ]
     },
     "execution_count": 89,
     "metadata": {},
     "output_type": "execute_result"
    }
   ],
   "source": [
    "addr_demo=pd.merge(rfmseg,demo_addr,left_index=True,right_index=True)\n",
    "addr_demo.columns"
   ]
  },
  {
   "cell_type": "code",
   "execution_count": 90,
   "metadata": {},
   "outputs": [
    {
     "data": {
      "text/plain": [
       "(2853, 25)"
      ]
     },
     "execution_count": 90,
     "metadata": {},
     "output_type": "execute_result"
    }
   ],
   "source": [
    "addr_demo.shape"
   ]
  },
  {
   "cell_type": "code",
   "execution_count": 91,
   "metadata": {},
   "outputs": [
    {
     "data": {
      "text/plain": [
       "<AxesSubplot:xlabel='r_score'>"
      ]
     },
     "execution_count": 91,
     "metadata": {},
     "output_type": "execute_result"
    },
    {
     "data": {
      "image/png": "[encoded data removed]",
      "text/plain": [
       "<Figure size 432x288 with 1 Axes>"
      ]
     },
     "metadata": {
      "needs_background": "light"
     },
     "output_type": "display_data"
    }
   ],
   "source": [
    "addr_demo.groupby('r_score').agg('recency').count().to_frame().plot(kind='bar',color='salmon')"
   ]
  },
  {
   "cell_type": "code",
   "execution_count": 92,
   "metadata": {},
   "outputs": [
    {
     "data": {
      "image/png": "[encoded data removed]",
      "text/plain": [
       "<Figure size 432x288 with 1 Axes>"
      ]
     },
     "metadata": {
      "needs_background": "light"
     },
     "output_type": "display_data"
    },
    {
     "data": {
      "image/png": "[encoded data removed]",
      "text/plain": [
       "<Figure size 432x288 with 1 Axes>"
      ]
     },
     "metadata": {
      "needs_background": "light"
     },
     "output_type": "display_data"
    },
    {
     "data": {
      "image/png": "[encoded data removed]",
      "text/plain": [
       "<Figure size 432x288 with 1 Axes>"
      ]
     },
     "metadata": {
      "needs_background": "light"
     },
     "output_type": "display_data"
    }
   ],
   "source": [
    "addr_demo.groupby('total_score').agg('recency').mean().to_frame().plot(kind='bar',color='salmon')\n",
    "addr_demo.groupby('total_score').agg('frequency').mean().to_frame().plot(kind='bar',color='salmon')\n",
    "addr_demo.groupby('total_score').agg('monetary_value').mean().to_frame().plot(kind='bar',color='salmon')\n",
    "plt.show()"
   ]
  },
  {
   "cell_type": "code",
   "execution_count": 93,
   "metadata": {},
   "outputs": [
    {
     "data": {
      "image/png": "[encoded data removed]",
      "text/plain": [
       "<Figure size 432x288 with 1 Axes>"
      ]
     },
     "metadata": {
      "needs_background": "light"
     },
     "output_type": "display_data"
    }
   ],
   "source": [
    "customer_title_df=addr_demo.groupby('customer_title').agg({\n",
    "    'rfm_class':lambda x: len(x)\n",
    "})\n",
    "customer_title_df.rename(columns={'rfm_class':'count'},inplace=True)\n",
    "customer_title_df.sort_values('count').plot(kind='bar',color='salmon')\n",
    "for i,v in enumerate(customer_title_df.sort_values('count')['count']):\n",
    "    plt.text(i-.15,v+50,int(v),color='black')\n",
    "axes=plt.gca()\n",
    "axes.set_ylim([0,1800])\n",
    "plt.title('Customer Title')\n",
    "plt.show()"
   ]
  },
  {
   "cell_type": "code",
   "execution_count": 94,
   "metadata": {},
   "outputs": [
    {
     "data": {
      "image/png": "[encoded data removed]",
      "text/plain": [
       "<Figure size 432x288 with 1 Axes>"
      ]
     },
     "metadata": {
      "needs_background": "light"
     },
     "output_type": "display_data"
    }
   ],
   "source": [
    "plt.scatter(addr_demo['recency'],addr_demo['monetary_value'],color='salmon')\n",
    "plt.title('Recency vs Avg Profit')\n",
    "plt.show()"
   ]
  },
  {
   "cell_type": "code",
   "execution_count": 95,
   "metadata": {},
   "outputs": [
    {
     "data": {
      "image/png": "[encoded data removed]",
      "text/plain": [
       "<Figure size 432x288 with 1 Axes>"
      ]
     },
     "metadata": {
      "needs_background": "light"
     },
     "output_type": "display_data"
    }
   ],
   "source": [
    "plt.scatter(addr_demo['recency'],addr_demo['frequency'],color='black')\n",
    "plt.title('Recency vs Frequency')\n",
    "plt.show()"
   ]
  },
  {
   "cell_type": "code",
   "execution_count": 96,
   "metadata": {},
   "outputs": [
    {
     "data": {
      "image/png": "[encoded data removed]",
      "text/plain": [
       "<Figure size 432x288 with 1 Axes>"
      ]
     },
     "metadata": {
      "needs_background": "light"
     },
     "output_type": "display_data"
    }
   ],
   "source": [
    "plt.scatter(addr_demo['frequency'],addr_demo['monetary_value'],color='pink')\n",
    "plt.title('Frequency vs Avg Profit')\n",
    "plt.show()"
   ]
  },
  {
   "cell_type": "code",
   "execution_count": 97,
   "metadata": {},
   "outputs": [
    {
     "data": {
      "image/png": "[encoded data removed]",
      "text/plain": [
       "<Figure size 432x288 with 1 Axes>"
      ]
     },
     "metadata": {
      "needs_background": "light"
     },
     "output_type": "display_data"
    }
   ],
   "source": [
    "addr_demo.groupby('age_class')['wealth_segment']\\\n",
    ".value_counts()\\\n",
    ".unstack(level=1)\\\n",
    ".plot.bar(stacked=True,color=['crimson','lightcoral','lightpink'])\n",
    "for i,v in enumerate (addr_demo.groupby('age_class')\\\n",
    "                      .agg({'wealth_segment':lambda x:len(x)})['wealth_segment']):\n",
    "    plt.text(i-.25,v+50,int(v),color='black')\n",
    "axes=plt.gca()\n",
    "axes.set_ylim([0,1000])\n",
    "plt.title('Wealth Segment with Age Distribution')\n",
    "plt.show()"
   ]
  },
  {
   "cell_type": "code",
   "execution_count": 98,
   "metadata": {},
   "outputs": [
    {
     "data": {
      "image/png": "[encoded data removed]",
      "text/plain": [
       "<Figure size 432x288 with 1 Axes>"
      ]
     },
     "metadata": {
      "needs_background": "light"
     },
     "output_type": "display_data"
    }
   ],
   "source": [
    "addr_demo.groupby('age_class')['gender'].value_counts().unstack(level=1).plot.bar(stacked=True,color=['lightpink','lightcoral','crimson'])\n",
    "for i,v in enumerate(addr_demo.groupby('age_class').agg({'gender':lambda x:len(x)})['gender']):\n",
    "    plt.text(i-.25,v+50,int(v),color='black')\n",
    "axes=plt.gca()\n",
    "axes.set_ylim([0,1000])\n",
    "plt.title('Gender with Age Distribution')\n",
    "plt.show()"
   ]
  },
  {
   "cell_type": "code",
   "execution_count": 99,
   "metadata": {},
   "outputs": [
    {
     "data": {
      "text/plain": [
       "1         gold\n",
       "2         None\n",
       "3         None\n",
       "5         gold\n",
       "6       bronze\n",
       "         ...  \n",
       "3496      None\n",
       "3497    bronze\n",
       "3498      None\n",
       "3499    bronze\n",
       "3500      None\n",
       "Name: customer_title, Length: 2853, dtype: object"
      ]
     },
     "execution_count": 99,
     "metadata": {},
     "output_type": "execute_result"
    }
   ],
   "source": [
    "addr_demo['customer_title']"
   ]
  },
  {
   "cell_type": "code",
   "execution_count": 100,
   "metadata": {},
   "outputs": [
    {
     "data": {
      "image/png": "[encoded data removed]",
      "text/plain": [
       "<Figure size 432x288 with 1 Axes>"
      ]
     },
     "metadata": {
      "needs_background": "light"
     },
     "output_type": "display_data"
    }
   ],
   "source": [
    "addr_demo.groupby('age_class')['customer_title'].value_counts().unstack(level=1).plot.bar(stacked=True,color=['lightpink','lightcoral','crimson','salmon'])\n",
    "for i,v in enumerate(addr_demo.groupby('age_class').agg({'customer_title':lambda x:len(x)})['customer_title']):\n",
    "    plt.text(i-.25,v+50,int(v),color='black')\n",
    "axes=plt.gca()\n",
    "axes.set_ylim([0,1000])\n",
    "plt.title('Customer Title with Age Distribution')\n",
    "plt.show()"
   ]
  },
  {
   "cell_type": "code",
   "execution_count": 101,
   "metadata": {},
   "outputs": [
    {
     "data": {
      "text/plain": [
       "array(['Male', 'Female'], dtype=object)"
      ]
     },
     "execution_count": 101,
     "metadata": {},
     "output_type": "execute_result"
    }
   ],
   "source": [
    "addr_demo['gender'].unique()"
   ]
  },
  {
   "cell_type": "code",
   "execution_count": 102,
   "metadata": {},
   "outputs": [
    {
     "data": {
      "image/png": "[encoded data removed]",
      "text/plain": [
       "<Figure size 432x288 with 1 Axes>"
      ]
     },
     "metadata": {
      "needs_background": "light"
     },
     "output_type": "display_data"
    }
   ],
   "source": [
    "addr_demo.groupby('wealth_segment')['gender'].value_counts().unstack(level=1).plot.bar(stacked=False,color=['lightpink','lightcoral','crimson','salmon'])\n",
    "for i,v in enumerate(addr_demo.groupby('wealth_segment').agg({'gender':lambda x:len(x)})['gender']):\n",
    "    plt.text(i-.25,v//2+50,int(v),color='black')\n",
    "axes=plt.gca()\n",
    "axes.set_ylim([0,1000])\n",
    "plt.title('Wealth Segment by Gender')\n",
    "plt.legend(['Female','Male'],loc='upper left')\n",
    "plt.show()"
   ]
  },
  {
   "cell_type": "code",
   "execution_count": 103,
   "metadata": {},
   "outputs": [
    {
     "data": {
      "image/png": "[encoded data removed]",
      "text/plain": [
       "<Figure size 432x288 with 1 Axes>"
      ]
     },
     "metadata": {
      "needs_background": "light"
     },
     "output_type": "display_data"
    }
   ],
   "source": [
    "addr_demo.groupby('state')['owns_car'].value_counts().unstack(level=1).plot.bar(stacked=False,color=['lightpink','lightcoral','crimson','salmon'])\n",
    "for i,v in enumerate(addr_demo.groupby('state').agg({'owns_car':lambda x: len(x)})['owns_car']):\n",
    "    plt.text(i-.25,v//2+50,int(v),color='black')\n",
    "axes=plt.gca()\n",
    "axes.set_ylim([0,1000])\n",
    "plt.title('Owned Car by State')\n",
    "plt.legend(['No','Yes'],loc='upper right')\n",
    "plt.show()"
   ]
  },
  {
   "cell_type": "code",
   "execution_count": 104,
   "metadata": {},
   "outputs": [
    {
     "data": {
      "image/png": "[encoded data removed]",
      "text/plain": [
       "<Figure size 432x288 with 1 Axes>"
      ]
     },
     "metadata": {
      "needs_background": "light"
     },
     "output_type": "display_data"
    }
   ],
   "source": [
    "addr_demo.groupby('job_industry_category')['owns_car'].value_counts().unstack(level=1).plot.bar(stacked=False,color=['black','lightcoral'])\n",
    "for i,v in enumerate(addr_demo.groupby('job_industry_category').agg({'owns_car':lambda x:len(x)})['owns_car']):\n",
    "    plt.text(i-.25,v//2+30,int(v),color='black')\n",
    "axes=plt.gca()\n",
    "axes.set_ylim([0,1000])\n",
    "plt.title('Owned Car by Job Industry Category')\n",
    "plt.legend(['No','Yes'],loc='upper right')\n",
    "plt.show()"
   ]
  },
  {
   "cell_type": "code",
   "execution_count": 105,
   "metadata": {},
   "outputs": [
    {
     "data": {
      "image/png": "[encoded data removed]",
      "text/plain": [
       "<Figure size 432x288 with 1 Axes>"
      ]
     },
     "metadata": {
      "needs_background": "light"
     },
     "output_type": "display_data"
    }
   ],
   "source": [
    "addr_demo.groupby('customer_title')['state'].value_counts().unstack(level=1).plot.bar(stacked=True,color=['black','coral','pink'])\n",
    "for i,v in enumerate(addr_demo.groupby('customer_title').agg({'state':lambda x:len(x)})['state']):\n",
    "    plt.text(i-.25,v+30,int(v),color='black')\n",
    "axes=plt.gca()\n",
    "axes.set_ylim([0,1000])\n",
    "plt.title('Customer Tittle with State')\n",
    "plt.show()"
   ]
  },
  {
   "cell_type": "code",
   "execution_count": 106,
   "metadata": {},
   "outputs": [
    {
     "data": {
      "image/png": "[encoded data removed]",
      "text/plain": [
       "<Figure size 432x288 with 1 Axes>"
      ]
     },
     "metadata": {
      "needs_background": "light"
     },
     "output_type": "display_data"
    }
   ],
   "source": [
    "addr_demo.groupby('job_industry_category')['m_score'].value_counts().unstack(level=1).plot.bar(stacked=True,color=['lightyellow','coral','brown','lightblue'])\n",
    "for i,v in enumerate(addr_demo.groupby('job_industry_category').agg({'m_score':lambda x: len(x)})['m_score']):\n",
    "    plt.text(i-.25,v+30,int(v),color='black')\n",
    "axes=plt.gca()\n",
    "axes.set_ylim([0,1000])\n",
    "plt.title('Job Industry Category with Monetary Value')\n",
    "plt.show()"
   ]
  },
  {
   "cell_type": "code",
   "execution_count": 107,
   "metadata": {},
   "outputs": [
    {
     "data": {
      "image/png": "[encoded data removed]",
      "text/plain": [
       "<Figure size 432x288 with 1 Axes>"
      ]
     },
     "metadata": {
      "needs_background": "light"
     },
     "output_type": "display_data"
    }
   ],
   "source": [
    "addr_demo.groupby('age_class')['state'].value_counts().unstack(level=1).plot.bar(stacked=True,color=['black','coral','brown'])\n",
    "for i,v in enumerate(addr_demo.groupby('age_class').agg({'state':lambda x:len(x)})['state']):\n",
    "    plt.text(i-.25,v+30,int(v),color='black')\n",
    "axes=plt.gca()\n",
    "axes.set_ylim([0,1000]) \n",
    "plt.title('Age Distribution in each State')\n",
    "plt.show()"
   ]
  },
  {
   "cell_type": "code",
   "execution_count": 108,
   "metadata": {},
   "outputs": [
    {
     "data": {
      "text/html": [
       "<div>\n",
       "<style scoped>\n",
       "    .dataframe tbody tr th:only-of-type {\n",
       "        vertical-align: middle;\n",
       "    }\n",
       "\n",
       "    .dataframe tbody tr th {\n",
       "        vertical-align: top;\n",
       "    }\n",
       "\n",
       "    .dataframe thead th {\n",
       "        text-align: right;\n",
       "    }\n",
       "</style>\n",
       "<table border=\"1\" class=\"dataframe\">\n",
       "  <thead>\n",
       "    <tr style=\"text-align: right;\">\n",
       "      <th></th>\n",
       "      <th>count</th>\n",
       "    </tr>\n",
       "    <tr>\n",
       "      <th>gender</th>\n",
       "      <th></th>\n",
       "    </tr>\n",
       "  </thead>\n",
       "  <tbody>\n",
       "    <tr>\n",
       "      <th>Female</th>\n",
       "      <td>69741</td>\n",
       "    </tr>\n",
       "    <tr>\n",
       "      <th>Male</th>\n",
       "      <td>69597</td>\n",
       "    </tr>\n",
       "  </tbody>\n",
       "</table>\n",
       "</div>"
      ],
      "text/plain": [
       "        count\n",
       "gender       \n",
       "Female  69741\n",
       "Male    69597"
      ]
     },
     "execution_count": 108,
     "metadata": {},
     "output_type": "execute_result"
    }
   ],
   "source": [
    "c=addr_demo.groupby(['gender'])['past_3_years_bike_related_purchases'].sum().rename('count').to_frame()\n",
    "c"
   ]
  },
  {
   "cell_type": "code",
   "execution_count": 109,
   "metadata": {},
   "outputs": [
    {
     "data": {
      "image/png": "[encoded data removed]",
      "text/plain": [
       "<Figure size 432x288 with 1 Axes>"
      ]
     },
     "metadata": {
      "needs_background": "light"
     },
     "output_type": "display_data"
    }
   ],
   "source": [
    "labels=['Female','Male']\n",
    "plt.bar(labels,c['count'],color=['coral','lightblue'])\n",
    "for i,v in enumerate(c['count']):\n",
    "    plt.text(i-.1,v-10e3,v,color='white',fontweight='bold')\n",
    "plt.title('Recent Bike Related by Gender')\n",
    "plt.show()"
   ]
  },
  {
   "cell_type": "code",
   "execution_count": 110,
   "metadata": {},
   "outputs": [
    {
     "data": {
      "image/png": "[encoded data removed]",
      "text/plain": [
       "<Figure size 432x288 with 1 Axes>"
      ]
     },
     "metadata": {},
     "output_type": "display_data"
    }
   ],
   "source": [
    "addr_demo.job_industry_category.value_counts().plot.pie(autopct=lambda pct: str(round(pct,2))+'%')\n",
    "plt.title('Old Job Industries')\n",
    "plt.ylabel(' ')\n",
    "plt.show()"
   ]
  },
  {
   "cell_type": "code",
   "execution_count": 111,
   "metadata": {},
   "outputs": [
    {
     "data": {
      "text/html": [
       "<div>\n",
       "<style scoped>\n",
       "    .dataframe tbody tr th:only-of-type {\n",
       "        vertical-align: middle;\n",
       "    }\n",
       "\n",
       "    .dataframe tbody tr th {\n",
       "        vertical-align: top;\n",
       "    }\n",
       "\n",
       "    .dataframe thead th {\n",
       "        text-align: right;\n",
       "    }\n",
       "</style>\n",
       "<table border=\"1\" class=\"dataframe\">\n",
       "  <thead>\n",
       "    <tr style=\"text-align: right;\">\n",
       "      <th></th>\n",
       "      <th>count</th>\n",
       "    </tr>\n",
       "    <tr>\n",
       "      <th>customer_title</th>\n",
       "      <th></th>\n",
       "    </tr>\n",
       "  </thead>\n",
       "  <tbody>\n",
       "    <tr>\n",
       "      <th>bronze</th>\n",
       "      <td>703</td>\n",
       "    </tr>\n",
       "    <tr>\n",
       "      <th>gold</th>\n",
       "      <td>609</td>\n",
       "    </tr>\n",
       "    <tr>\n",
       "      <th>platium</th>\n",
       "      <td>141</td>\n",
       "    </tr>\n",
       "    <tr>\n",
       "      <th>silver</th>\n",
       "      <td>696</td>\n",
       "    </tr>\n",
       "  </tbody>\n",
       "</table>\n",
       "</div>"
      ],
      "text/plain": [
       "                count\n",
       "customer_title       \n",
       "bronze            703\n",
       "gold              609\n",
       "platium           141\n",
       "silver            696"
      ]
     },
     "execution_count": 111,
     "metadata": {},
     "output_type": "execute_result"
    }
   ],
   "source": [
    "c=addr_demo.groupby('customer_title').agg({'age':lambda x :len(x)})\n",
    "c.rename(columns={'age':'count'},inplace=True)\n",
    "c['count']=c['count'].astype(int)\n",
    "c"
   ]
  },
  {
   "cell_type": "code",
   "execution_count": 112,
   "metadata": {},
   "outputs": [
    {
     "data": {
      "text/html": [
       "<div>\n",
       "<style scoped>\n",
       "    .dataframe tbody tr th:only-of-type {\n",
       "        vertical-align: middle;\n",
       "    }\n",
       "\n",
       "    .dataframe tbody tr th {\n",
       "        vertical-align: top;\n",
       "    }\n",
       "\n",
       "    .dataframe thead th {\n",
       "        text-align: right;\n",
       "    }\n",
       "</style>\n",
       "<table border=\"1\" class=\"dataframe\">\n",
       "  <thead>\n",
       "    <tr style=\"text-align: right;\">\n",
       "      <th></th>\n",
       "      <th></th>\n",
       "      <th>count</th>\n",
       "    </tr>\n",
       "    <tr>\n",
       "      <th>state</th>\n",
       "      <th>customer_title</th>\n",
       "      <th></th>\n",
       "    </tr>\n",
       "  </thead>\n",
       "  <tbody>\n",
       "    <tr>\n",
       "      <th rowspan=\"4\" valign=\"top\">NSW</th>\n",
       "      <th>bronze</th>\n",
       "      <td>368</td>\n",
       "    </tr>\n",
       "    <tr>\n",
       "      <th>gold</th>\n",
       "      <td>318</td>\n",
       "    </tr>\n",
       "    <tr>\n",
       "      <th>platium</th>\n",
       "      <td>75</td>\n",
       "    </tr>\n",
       "    <tr>\n",
       "      <th>silver</th>\n",
       "      <td>387</td>\n",
       "    </tr>\n",
       "    <tr>\n",
       "      <th rowspan=\"4\" valign=\"top\">QLD</th>\n",
       "      <th>bronze</th>\n",
       "      <td>155</td>\n",
       "    </tr>\n",
       "    <tr>\n",
       "      <th>gold</th>\n",
       "      <td>140</td>\n",
       "    </tr>\n",
       "    <tr>\n",
       "      <th>platium</th>\n",
       "      <td>32</td>\n",
       "    </tr>\n",
       "    <tr>\n",
       "      <th>silver</th>\n",
       "      <td>133</td>\n",
       "    </tr>\n",
       "    <tr>\n",
       "      <th rowspan=\"4\" valign=\"top\">VIC</th>\n",
       "      <th>bronze</th>\n",
       "      <td>180</td>\n",
       "    </tr>\n",
       "    <tr>\n",
       "      <th>gold</th>\n",
       "      <td>151</td>\n",
       "    </tr>\n",
       "    <tr>\n",
       "      <th>platium</th>\n",
       "      <td>34</td>\n",
       "    </tr>\n",
       "    <tr>\n",
       "      <th>silver</th>\n",
       "      <td>176</td>\n",
       "    </tr>\n",
       "  </tbody>\n",
       "</table>\n",
       "</div>"
      ],
      "text/plain": [
       "                      count\n",
       "state customer_title       \n",
       "NSW   bronze            368\n",
       "      gold              318\n",
       "      platium            75\n",
       "      silver            387\n",
       "QLD   bronze            155\n",
       "      gold              140\n",
       "      platium            32\n",
       "      silver            133\n",
       "VIC   bronze            180\n",
       "      gold              151\n",
       "      platium            34\n",
       "      silver            176"
      ]
     },
     "execution_count": 112,
     "metadata": {},
     "output_type": "execute_result"
    }
   ],
   "source": [
    "c=addr_demo.groupby(['state','customer_title']).agg({'age':lambda x:len(x)})\n",
    "c.rename(columns={'age':'count'},inplace=True)\n",
    "c['count']=c['count'].astype(int)\n",
    "c"
   ]
  },
  {
   "cell_type": "code",
   "execution_count": 113,
   "metadata": {},
   "outputs": [
    {
     "data": {
      "text/html": [
       "<div>\n",
       "<style scoped>\n",
       "    .dataframe tbody tr th:only-of-type {\n",
       "        vertical-align: middle;\n",
       "    }\n",
       "\n",
       "    .dataframe tbody tr th {\n",
       "        vertical-align: top;\n",
       "    }\n",
       "\n",
       "    .dataframe thead th {\n",
       "        text-align: right;\n",
       "    }\n",
       "</style>\n",
       "<table border=\"1\" class=\"dataframe\">\n",
       "  <thead>\n",
       "    <tr style=\"text-align: right;\">\n",
       "      <th></th>\n",
       "      <th>count</th>\n",
       "    </tr>\n",
       "    <tr>\n",
       "      <th>total_score</th>\n",
       "      <th></th>\n",
       "    </tr>\n",
       "  </thead>\n",
       "  <tbody>\n",
       "    <tr>\n",
       "      <th>3</th>\n",
       "      <td>141</td>\n",
       "    </tr>\n",
       "    <tr>\n",
       "      <th>4</th>\n",
       "      <td>389</td>\n",
       "    </tr>\n",
       "    <tr>\n",
       "      <th>5</th>\n",
       "      <td>684</td>\n",
       "    </tr>\n",
       "    <tr>\n",
       "      <th>6</th>\n",
       "      <td>1041</td>\n",
       "    </tr>\n",
       "    <tr>\n",
       "      <th>7</th>\n",
       "      <td>1392</td>\n",
       "    </tr>\n",
       "    <tr>\n",
       "      <th>8</th>\n",
       "      <td>1728</td>\n",
       "    </tr>\n",
       "    <tr>\n",
       "      <th>9</th>\n",
       "      <td>2057</td>\n",
       "    </tr>\n",
       "    <tr>\n",
       "      <th>10</th>\n",
       "      <td>2336</td>\n",
       "    </tr>\n",
       "    <tr>\n",
       "      <th>11</th>\n",
       "      <td>2596</td>\n",
       "    </tr>\n",
       "    <tr>\n",
       "      <th>12</th>\n",
       "      <td>2853</td>\n",
       "    </tr>\n",
       "  </tbody>\n",
       "</table>\n",
       "</div>"
      ],
      "text/plain": [
       "             count\n",
       "total_score       \n",
       "3              141\n",
       "4              389\n",
       "5              684\n",
       "6             1041\n",
       "7             1392\n",
       "8             1728\n",
       "9             2057\n",
       "10            2336\n",
       "11            2596\n",
       "12            2853"
      ]
     },
     "execution_count": 113,
     "metadata": {},
     "output_type": "execute_result"
    }
   ],
   "source": [
    "c=addr_demo.groupby(['total_score']).agg({'age':lambda x: x.count()}).cumsum()\n",
    "c.rename(columns={'age':'count'},inplace=True)\n",
    "c['count']=c['count'].astype(int)\n",
    "c"
   ]
  },
  {
   "cell_type": "code",
   "execution_count": 114,
   "metadata": {},
   "outputs": [
    {
     "data": {
      "text/html": [
       "<div>\n",
       "<style scoped>\n",
       "    .dataframe tbody tr th:only-of-type {\n",
       "        vertical-align: middle;\n",
       "    }\n",
       "\n",
       "    .dataframe tbody tr th {\n",
       "        vertical-align: top;\n",
       "    }\n",
       "\n",
       "    .dataframe thead th {\n",
       "        text-align: right;\n",
       "    }\n",
       "</style>\n",
       "<table border=\"1\" class=\"dataframe\">\n",
       "  <thead>\n",
       "    <tr style=\"text-align: right;\">\n",
       "      <th></th>\n",
       "      <th>first_name</th>\n",
       "      <th>last_name</th>\n",
       "      <th>gender</th>\n",
       "      <th>past_3_years_bike_related_purchases</th>\n",
       "      <th>DOB</th>\n",
       "      <th>job_title</th>\n",
       "      <th>job_industry_category</th>\n",
       "      <th>wealth_segment</th>\n",
       "      <th>deceased_indicator</th>\n",
       "      <th>owns_car</th>\n",
       "      <th>...</th>\n",
       "      <th>state</th>\n",
       "      <th>country</th>\n",
       "      <th>property_valuation</th>\n",
       "      <th>Unnamed: 16</th>\n",
       "      <th>Unnamed: 17</th>\n",
       "      <th>Unnamed: 18</th>\n",
       "      <th>Unnamed: 19</th>\n",
       "      <th>Unnamed: 20</th>\n",
       "      <th>Rank</th>\n",
       "      <th>Value</th>\n",
       "    </tr>\n",
       "  </thead>\n",
       "  <tbody>\n",
       "    <tr>\n",
       "      <th>0</th>\n",
       "      <td>Chickie</td>\n",
       "      <td>Brister</td>\n",
       "      <td>Male</td>\n",
       "      <td>86</td>\n",
       "      <td>1957-07-12</td>\n",
       "      <td>General Manager</td>\n",
       "      <td>Manufacturing</td>\n",
       "      <td>Mass Customer</td>\n",
       "      <td>N</td>\n",
       "      <td>Yes</td>\n",
       "      <td>...</td>\n",
       "      <td>QLD</td>\n",
       "      <td>Australia</td>\n",
       "      <td>6</td>\n",
       "      <td>0.86</td>\n",
       "      <td>1.075</td>\n",
       "      <td>1.34375</td>\n",
       "      <td>1.142187</td>\n",
       "      <td>1</td>\n",
       "      <td>1</td>\n",
       "      <td>1.718750</td>\n",
       "    </tr>\n",
       "    <tr>\n",
       "      <th>1</th>\n",
       "      <td>Morly</td>\n",
       "      <td>Genery</td>\n",
       "      <td>Male</td>\n",
       "      <td>69</td>\n",
       "      <td>1970-03-22</td>\n",
       "      <td>Structural Engineer</td>\n",
       "      <td>Property</td>\n",
       "      <td>Mass Customer</td>\n",
       "      <td>N</td>\n",
       "      <td>No</td>\n",
       "      <td>...</td>\n",
       "      <td>NSW</td>\n",
       "      <td>Australia</td>\n",
       "      <td>11</td>\n",
       "      <td>0.58</td>\n",
       "      <td>0.580</td>\n",
       "      <td>0.72500</td>\n",
       "      <td>0.616250</td>\n",
       "      <td>1</td>\n",
       "      <td>1</td>\n",
       "      <td>1.718750</td>\n",
       "    </tr>\n",
       "    <tr>\n",
       "      <th>2</th>\n",
       "      <td>Ardelis</td>\n",
       "      <td>Forrester</td>\n",
       "      <td>Female</td>\n",
       "      <td>10</td>\n",
       "      <td>1974-08-28</td>\n",
       "      <td>Senior Cost Accountant</td>\n",
       "      <td>Financial Services</td>\n",
       "      <td>Affluent Customer</td>\n",
       "      <td>N</td>\n",
       "      <td>No</td>\n",
       "      <td>...</td>\n",
       "      <td>VIC</td>\n",
       "      <td>Australia</td>\n",
       "      <td>5</td>\n",
       "      <td>0.56</td>\n",
       "      <td>0.560</td>\n",
       "      <td>0.56000</td>\n",
       "      <td>0.560000</td>\n",
       "      <td>1</td>\n",
       "      <td>1</td>\n",
       "      <td>1.718750</td>\n",
       "    </tr>\n",
       "    <tr>\n",
       "      <th>3</th>\n",
       "      <td>Lucine</td>\n",
       "      <td>Stutt</td>\n",
       "      <td>Female</td>\n",
       "      <td>64</td>\n",
       "      <td>1979-01-28</td>\n",
       "      <td>Account Representative III</td>\n",
       "      <td>Manufacturing</td>\n",
       "      <td>Affluent Customer</td>\n",
       "      <td>N</td>\n",
       "      <td>Yes</td>\n",
       "      <td>...</td>\n",
       "      <td>QLD</td>\n",
       "      <td>Australia</td>\n",
       "      <td>1</td>\n",
       "      <td>1.08</td>\n",
       "      <td>1.350</td>\n",
       "      <td>1.35000</td>\n",
       "      <td>1.350000</td>\n",
       "      <td>4</td>\n",
       "      <td>4</td>\n",
       "      <td>1.703125</td>\n",
       "    </tr>\n",
       "    <tr>\n",
       "      <th>4</th>\n",
       "      <td>Melinda</td>\n",
       "      <td>Hadlee</td>\n",
       "      <td>Female</td>\n",
       "      <td>34</td>\n",
       "      <td>1965-09-21</td>\n",
       "      <td>Financial Analyst</td>\n",
       "      <td>Financial Services</td>\n",
       "      <td>Affluent Customer</td>\n",
       "      <td>N</td>\n",
       "      <td>No</td>\n",
       "      <td>...</td>\n",
       "      <td>NSW</td>\n",
       "      <td>Australia</td>\n",
       "      <td>9</td>\n",
       "      <td>0.86</td>\n",
       "      <td>0.860</td>\n",
       "      <td>1.07500</td>\n",
       "      <td>1.075000</td>\n",
       "      <td>4</td>\n",
       "      <td>4</td>\n",
       "      <td>1.703125</td>\n",
       "    </tr>\n",
       "  </tbody>\n",
       "</table>\n",
       "<p>5 rows × 23 columns</p>\n",
       "</div>"
      ],
      "text/plain": [
       "  first_name  last_name  gender  past_3_years_bike_related_purchases  \\\n",
       "0    Chickie    Brister    Male                                   86   \n",
       "1      Morly     Genery    Male                                   69   \n",
       "2    Ardelis  Forrester  Female                                   10   \n",
       "3     Lucine      Stutt  Female                                   64   \n",
       "4    Melinda     Hadlee  Female                                   34   \n",
       "\n",
       "         DOB                   job_title job_industry_category  \\\n",
       "0 1957-07-12             General Manager         Manufacturing   \n",
       "1 1970-03-22         Structural Engineer              Property   \n",
       "2 1974-08-28      Senior Cost Accountant    Financial Services   \n",
       "3 1979-01-28  Account Representative III         Manufacturing   \n",
       "4 1965-09-21           Financial Analyst    Financial Services   \n",
       "\n",
       "      wealth_segment deceased_indicator owns_car  ...  state    country  \\\n",
       "0      Mass Customer                  N      Yes  ...    QLD  Australia   \n",
       "1      Mass Customer                  N       No  ...    NSW  Australia   \n",
       "2  Affluent Customer                  N       No  ...    VIC  Australia   \n",
       "3  Affluent Customer                  N      Yes  ...    QLD  Australia   \n",
       "4  Affluent Customer                  N       No  ...    NSW  Australia   \n",
       "\n",
       "   property_valuation Unnamed: 16 Unnamed: 17  Unnamed: 18  Unnamed: 19  \\\n",
       "0                   6        0.86       1.075      1.34375     1.142187   \n",
       "1                  11        0.58       0.580      0.72500     0.616250   \n",
       "2                   5        0.56       0.560      0.56000     0.560000   \n",
       "3                   1        1.08       1.350      1.35000     1.350000   \n",
       "4                   9        0.86       0.860      1.07500     1.075000   \n",
       "\n",
       "   Unnamed: 20  Rank     Value  \n",
       "0            1     1  1.718750  \n",
       "1            1     1  1.718750  \n",
       "2            1     1  1.718750  \n",
       "3            4     4  1.703125  \n",
       "4            4     4  1.703125  \n",
       "\n",
       "[5 rows x 23 columns]"
      ]
     },
     "execution_count": 114,
     "metadata": {},
     "output_type": "execute_result"
    }
   ],
   "source": [
    "data2.head()"
   ]
  },
  {
   "cell_type": "code",
   "execution_count": 115,
   "metadata": {},
   "outputs": [
    {
     "data": {
      "text/plain": [
       "first_name                               0\n",
       "last_name                               29\n",
       "gender                                   0\n",
       "past_3_years_bike_related_purchases      0\n",
       "DOB                                     17\n",
       "job_title                              106\n",
       "job_industry_category                  165\n",
       "wealth_segment                           0\n",
       "deceased_indicator                       0\n",
       "owns_car                                 0\n",
       "tenure                                   0\n",
       "address                                  0\n",
       "postcode                                 0\n",
       "state                                    0\n",
       "country                                  0\n",
       "property_valuation                       0\n",
       "Unnamed: 16                              0\n",
       "Unnamed: 17                              0\n",
       "Unnamed: 18                              0\n",
       "Unnamed: 19                              0\n",
       "Unnamed: 20                              0\n",
       "Rank                                     0\n",
       "Value                                    0\n",
       "dtype: int64"
      ]
     },
     "execution_count": 115,
     "metadata": {},
     "output_type": "execute_result"
    }
   ],
   "source": [
    "data2.isna().sum()"
   ]
  },
  {
   "cell_type": "code",
   "execution_count": 116,
   "metadata": {},
   "outputs": [
    {
     "data": {
      "text/plain": [
       "first_name                             0.0\n",
       "last_name                              0.0\n",
       "gender                                 0.0\n",
       "past_3_years_bike_related_purchases    0.0\n",
       "DOB                                    0.0\n",
       "job_title                              0.0\n",
       "job_industry_category                  0.0\n",
       "wealth_segment                         0.0\n",
       "deceased_indicator                     0.0\n",
       "owns_car                               0.0\n",
       "tenure                                 0.0\n",
       "address                                0.0\n",
       "postcode                               0.0\n",
       "state                                  0.0\n",
       "country                                0.0\n",
       "property_valuation                     0.0\n",
       "Unnamed: 16                            0.0\n",
       "Unnamed: 17                            0.0\n",
       "Unnamed: 18                            0.0\n",
       "Unnamed: 19                            0.0\n",
       "Unnamed: 20                            0.0\n",
       "Rank                                   0.0\n",
       "Value                                  0.0\n",
       "dtype: float64"
      ]
     },
     "execution_count": 116,
     "metadata": {},
     "output_type": "execute_result"
    }
   ],
   "source": [
    "data2[data2.duplicated()].sum()"
   ]
  },
  {
   "cell_type": "code",
   "execution_count": 117,
   "metadata": {},
   "outputs": [
    {
     "data": {
      "text/plain": [
       "(1000, 23)"
      ]
     },
     "execution_count": 117,
     "metadata": {},
     "output_type": "execute_result"
    }
   ],
   "source": [
    "data2.shape"
   ]
  },
  {
   "cell_type": "code",
   "execution_count": 118,
   "metadata": {},
   "outputs": [
    {
     "data": {
      "text/html": [
       "<div>\n",
       "<style scoped>\n",
       "    .dataframe tbody tr th:only-of-type {\n",
       "        vertical-align: middle;\n",
       "    }\n",
       "\n",
       "    .dataframe tbody tr th {\n",
       "        vertical-align: top;\n",
       "    }\n",
       "\n",
       "    .dataframe thead th {\n",
       "        text-align: right;\n",
       "    }\n",
       "</style>\n",
       "<table border=\"1\" class=\"dataframe\">\n",
       "  <thead>\n",
       "    <tr style=\"text-align: right;\">\n",
       "      <th></th>\n",
       "      <th>first_name</th>\n",
       "      <th>last_name</th>\n",
       "      <th>gender</th>\n",
       "      <th>past_3_years_bike_related_purchases</th>\n",
       "      <th>DOB</th>\n",
       "      <th>job_title</th>\n",
       "      <th>job_industry_category</th>\n",
       "      <th>wealth_segment</th>\n",
       "      <th>deceased_indicator</th>\n",
       "      <th>owns_car</th>\n",
       "      <th>...</th>\n",
       "      <th>state</th>\n",
       "      <th>country</th>\n",
       "      <th>property_valuation</th>\n",
       "      <th>Unnamed: 16</th>\n",
       "      <th>Unnamed: 17</th>\n",
       "      <th>Unnamed: 18</th>\n",
       "      <th>Unnamed: 19</th>\n",
       "      <th>Unnamed: 20</th>\n",
       "      <th>Rank</th>\n",
       "      <th>Value</th>\n",
       "    </tr>\n",
       "  </thead>\n",
       "  <tbody>\n",
       "    <tr>\n",
       "      <th>0</th>\n",
       "      <td>Chickie</td>\n",
       "      <td>Brister</td>\n",
       "      <td>Male</td>\n",
       "      <td>86</td>\n",
       "      <td>1957-07-12</td>\n",
       "      <td>General Manager</td>\n",
       "      <td>Manufacturing</td>\n",
       "      <td>Mass Customer</td>\n",
       "      <td>N</td>\n",
       "      <td>Yes</td>\n",
       "      <td>...</td>\n",
       "      <td>QLD</td>\n",
       "      <td>Australia</td>\n",
       "      <td>6</td>\n",
       "      <td>0.86</td>\n",
       "      <td>1.0750</td>\n",
       "      <td>1.343750</td>\n",
       "      <td>1.142187</td>\n",
       "      <td>1</td>\n",
       "      <td>1</td>\n",
       "      <td>1.718750</td>\n",
       "    </tr>\n",
       "    <tr>\n",
       "      <th>1</th>\n",
       "      <td>Morly</td>\n",
       "      <td>Genery</td>\n",
       "      <td>Male</td>\n",
       "      <td>69</td>\n",
       "      <td>1970-03-22</td>\n",
       "      <td>Structural Engineer</td>\n",
       "      <td>Property</td>\n",
       "      <td>Mass Customer</td>\n",
       "      <td>N</td>\n",
       "      <td>No</td>\n",
       "      <td>...</td>\n",
       "      <td>NSW</td>\n",
       "      <td>Australia</td>\n",
       "      <td>11</td>\n",
       "      <td>0.58</td>\n",
       "      <td>0.5800</td>\n",
       "      <td>0.725000</td>\n",
       "      <td>0.616250</td>\n",
       "      <td>1</td>\n",
       "      <td>1</td>\n",
       "      <td>1.718750</td>\n",
       "    </tr>\n",
       "    <tr>\n",
       "      <th>2</th>\n",
       "      <td>Ardelis</td>\n",
       "      <td>Forrester</td>\n",
       "      <td>Female</td>\n",
       "      <td>10</td>\n",
       "      <td>1974-08-28</td>\n",
       "      <td>Senior Cost Accountant</td>\n",
       "      <td>Financial Services</td>\n",
       "      <td>Affluent Customer</td>\n",
       "      <td>N</td>\n",
       "      <td>No</td>\n",
       "      <td>...</td>\n",
       "      <td>VIC</td>\n",
       "      <td>Australia</td>\n",
       "      <td>5</td>\n",
       "      <td>0.56</td>\n",
       "      <td>0.5600</td>\n",
       "      <td>0.560000</td>\n",
       "      <td>0.560000</td>\n",
       "      <td>1</td>\n",
       "      <td>1</td>\n",
       "      <td>1.718750</td>\n",
       "    </tr>\n",
       "    <tr>\n",
       "      <th>3</th>\n",
       "      <td>Lucine</td>\n",
       "      <td>Stutt</td>\n",
       "      <td>Female</td>\n",
       "      <td>64</td>\n",
       "      <td>1979-01-28</td>\n",
       "      <td>Account Representative III</td>\n",
       "      <td>Manufacturing</td>\n",
       "      <td>Affluent Customer</td>\n",
       "      <td>N</td>\n",
       "      <td>Yes</td>\n",
       "      <td>...</td>\n",
       "      <td>QLD</td>\n",
       "      <td>Australia</td>\n",
       "      <td>1</td>\n",
       "      <td>1.08</td>\n",
       "      <td>1.3500</td>\n",
       "      <td>1.350000</td>\n",
       "      <td>1.350000</td>\n",
       "      <td>4</td>\n",
       "      <td>4</td>\n",
       "      <td>1.703125</td>\n",
       "    </tr>\n",
       "    <tr>\n",
       "      <th>4</th>\n",
       "      <td>Melinda</td>\n",
       "      <td>Hadlee</td>\n",
       "      <td>Female</td>\n",
       "      <td>34</td>\n",
       "      <td>1965-09-21</td>\n",
       "      <td>Financial Analyst</td>\n",
       "      <td>Financial Services</td>\n",
       "      <td>Affluent Customer</td>\n",
       "      <td>N</td>\n",
       "      <td>No</td>\n",
       "      <td>...</td>\n",
       "      <td>NSW</td>\n",
       "      <td>Australia</td>\n",
       "      <td>9</td>\n",
       "      <td>0.86</td>\n",
       "      <td>0.8600</td>\n",
       "      <td>1.075000</td>\n",
       "      <td>1.075000</td>\n",
       "      <td>4</td>\n",
       "      <td>4</td>\n",
       "      <td>1.703125</td>\n",
       "    </tr>\n",
       "    <tr>\n",
       "      <th>...</th>\n",
       "      <td>...</td>\n",
       "      <td>...</td>\n",
       "      <td>...</td>\n",
       "      <td>...</td>\n",
       "      <td>...</td>\n",
       "      <td>...</td>\n",
       "      <td>...</td>\n",
       "      <td>...</td>\n",
       "      <td>...</td>\n",
       "      <td>...</td>\n",
       "      <td>...</td>\n",
       "      <td>...</td>\n",
       "      <td>...</td>\n",
       "      <td>...</td>\n",
       "      <td>...</td>\n",
       "      <td>...</td>\n",
       "      <td>...</td>\n",
       "      <td>...</td>\n",
       "      <td>...</td>\n",
       "      <td>...</td>\n",
       "      <td>...</td>\n",
       "    </tr>\n",
       "    <tr>\n",
       "      <th>995</th>\n",
       "      <td>Ferdinand</td>\n",
       "      <td>Romanetti</td>\n",
       "      <td>Male</td>\n",
       "      <td>60</td>\n",
       "      <td>1959-10-07</td>\n",
       "      <td>Paralegal</td>\n",
       "      <td>Financial Services</td>\n",
       "      <td>Affluent Customer</td>\n",
       "      <td>N</td>\n",
       "      <td>No</td>\n",
       "      <td>...</td>\n",
       "      <td>NSW</td>\n",
       "      <td>Australia</td>\n",
       "      <td>7</td>\n",
       "      <td>1.03</td>\n",
       "      <td>1.0300</td>\n",
       "      <td>1.030000</td>\n",
       "      <td>1.030000</td>\n",
       "      <td>996</td>\n",
       "      <td>996</td>\n",
       "      <td>0.374000</td>\n",
       "    </tr>\n",
       "    <tr>\n",
       "      <th>996</th>\n",
       "      <td>Burk</td>\n",
       "      <td>Wortley</td>\n",
       "      <td>Male</td>\n",
       "      <td>22</td>\n",
       "      <td>2001-10-17</td>\n",
       "      <td>Senior Sales Associate</td>\n",
       "      <td>Health</td>\n",
       "      <td>Mass Customer</td>\n",
       "      <td>N</td>\n",
       "      <td>No</td>\n",
       "      <td>...</td>\n",
       "      <td>NSW</td>\n",
       "      <td>Australia</td>\n",
       "      <td>10</td>\n",
       "      <td>1.04</td>\n",
       "      <td>1.0400</td>\n",
       "      <td>1.300000</td>\n",
       "      <td>1.105000</td>\n",
       "      <td>997</td>\n",
       "      <td>997</td>\n",
       "      <td>0.357000</td>\n",
       "    </tr>\n",
       "    <tr>\n",
       "      <th>997</th>\n",
       "      <td>Melloney</td>\n",
       "      <td>Temby</td>\n",
       "      <td>Female</td>\n",
       "      <td>17</td>\n",
       "      <td>1954-10-05</td>\n",
       "      <td>Budget/Accounting Analyst IV</td>\n",
       "      <td>Financial Services</td>\n",
       "      <td>Affluent Customer</td>\n",
       "      <td>N</td>\n",
       "      <td>Yes</td>\n",
       "      <td>...</td>\n",
       "      <td>QLD</td>\n",
       "      <td>Australia</td>\n",
       "      <td>2</td>\n",
       "      <td>0.84</td>\n",
       "      <td>1.0500</td>\n",
       "      <td>1.050000</td>\n",
       "      <td>1.050000</td>\n",
       "      <td>997</td>\n",
       "      <td>997</td>\n",
       "      <td>0.357000</td>\n",
       "    </tr>\n",
       "    <tr>\n",
       "      <th>998</th>\n",
       "      <td>Dickie</td>\n",
       "      <td>Cubbini</td>\n",
       "      <td>Male</td>\n",
       "      <td>30</td>\n",
       "      <td>1952-12-17</td>\n",
       "      <td>Financial Advisor</td>\n",
       "      <td>Financial Services</td>\n",
       "      <td>Mass Customer</td>\n",
       "      <td>N</td>\n",
       "      <td>Yes</td>\n",
       "      <td>...</td>\n",
       "      <td>QLD</td>\n",
       "      <td>Australia</td>\n",
       "      <td>2</td>\n",
       "      <td>0.90</td>\n",
       "      <td>1.1250</td>\n",
       "      <td>1.125000</td>\n",
       "      <td>0.956250</td>\n",
       "      <td>997</td>\n",
       "      <td>997</td>\n",
       "      <td>0.357000</td>\n",
       "    </tr>\n",
       "    <tr>\n",
       "      <th>999</th>\n",
       "      <td>Sylas</td>\n",
       "      <td>Duffill</td>\n",
       "      <td>Male</td>\n",
       "      <td>56</td>\n",
       "      <td>1955-10-02</td>\n",
       "      <td>Staff Accountant IV</td>\n",
       "      <td>Property</td>\n",
       "      <td>Mass Customer</td>\n",
       "      <td>N</td>\n",
       "      <td>Yes</td>\n",
       "      <td>...</td>\n",
       "      <td>NSW</td>\n",
       "      <td>Australia</td>\n",
       "      <td>9</td>\n",
       "      <td>1.01</td>\n",
       "      <td>1.2625</td>\n",
       "      <td>1.578125</td>\n",
       "      <td>1.341406</td>\n",
       "      <td>1000</td>\n",
       "      <td>1000</td>\n",
       "      <td>0.340000</td>\n",
       "    </tr>\n",
       "  </tbody>\n",
       "</table>\n",
       "<p>715 rows × 23 columns</p>\n",
       "</div>"
      ],
      "text/plain": [
       "    first_name  last_name  gender  past_3_years_bike_related_purchases  \\\n",
       "0      Chickie    Brister    Male                                   86   \n",
       "1        Morly     Genery    Male                                   69   \n",
       "2      Ardelis  Forrester  Female                                   10   \n",
       "3       Lucine      Stutt  Female                                   64   \n",
       "4      Melinda     Hadlee  Female                                   34   \n",
       "..         ...        ...     ...                                  ...   \n",
       "995  Ferdinand  Romanetti    Male                                   60   \n",
       "996       Burk    Wortley    Male                                   22   \n",
       "997   Melloney      Temby  Female                                   17   \n",
       "998     Dickie    Cubbini    Male                                   30   \n",
       "999      Sylas    Duffill    Male                                   56   \n",
       "\n",
       "           DOB                     job_title job_industry_category  \\\n",
       "0   1957-07-12               General Manager         Manufacturing   \n",
       "1   1970-03-22           Structural Engineer              Property   \n",
       "2   1974-08-28        Senior Cost Accountant    Financial Services   \n",
       "3   1979-01-28    Account Representative III         Manufacturing   \n",
       "4   1965-09-21             Financial Analyst    Financial Services   \n",
       "..         ...                           ...                   ...   \n",
       "995 1959-10-07                     Paralegal    Financial Services   \n",
       "996 2001-10-17        Senior Sales Associate                Health   \n",
       "997 1954-10-05  Budget/Accounting Analyst IV    Financial Services   \n",
       "998 1952-12-17             Financial Advisor    Financial Services   \n",
       "999 1955-10-02           Staff Accountant IV              Property   \n",
       "\n",
       "        wealth_segment deceased_indicator owns_car  ...  state    country  \\\n",
       "0        Mass Customer                  N      Yes  ...    QLD  Australia   \n",
       "1        Mass Customer                  N       No  ...    NSW  Australia   \n",
       "2    Affluent Customer                  N       No  ...    VIC  Australia   \n",
       "3    Affluent Customer                  N      Yes  ...    QLD  Australia   \n",
       "4    Affluent Customer                  N       No  ...    NSW  Australia   \n",
       "..                 ...                ...      ...  ...    ...        ...   \n",
       "995  Affluent Customer                  N       No  ...    NSW  Australia   \n",
       "996      Mass Customer                  N       No  ...    NSW  Australia   \n",
       "997  Affluent Customer                  N      Yes  ...    QLD  Australia   \n",
       "998      Mass Customer                  N      Yes  ...    QLD  Australia   \n",
       "999      Mass Customer                  N      Yes  ...    NSW  Australia   \n",
       "\n",
       "     property_valuation Unnamed: 16 Unnamed: 17  Unnamed: 18  Unnamed: 19  \\\n",
       "0                     6        0.86      1.0750     1.343750     1.142187   \n",
       "1                    11        0.58      0.5800     0.725000     0.616250   \n",
       "2                     5        0.56      0.5600     0.560000     0.560000   \n",
       "3                     1        1.08      1.3500     1.350000     1.350000   \n",
       "4                     9        0.86      0.8600     1.075000     1.075000   \n",
       "..                  ...         ...         ...          ...          ...   \n",
       "995                   7        1.03      1.0300     1.030000     1.030000   \n",
       "996                  10        1.04      1.0400     1.300000     1.105000   \n",
       "997                   2        0.84      1.0500     1.050000     1.050000   \n",
       "998                   2        0.90      1.1250     1.125000     0.956250   \n",
       "999                   9        1.01      1.2625     1.578125     1.341406   \n",
       "\n",
       "     Unnamed: 20  Rank     Value  \n",
       "0              1     1  1.718750  \n",
       "1              1     1  1.718750  \n",
       "2              1     1  1.718750  \n",
       "3              4     4  1.703125  \n",
       "4              4     4  1.703125  \n",
       "..           ...   ...       ...  \n",
       "995          996   996  0.374000  \n",
       "996          997   997  0.357000  \n",
       "997          997   997  0.357000  \n",
       "998          997   997  0.357000  \n",
       "999         1000  1000  0.340000  \n",
       "\n",
       "[715 rows x 23 columns]"
      ]
     },
     "execution_count": 118,
     "metadata": {},
     "output_type": "execute_result"
    }
   ],
   "source": [
    "data2_clean=data2.dropna()\n",
    "data2_clean"
   ]
  },
  {
   "cell_type": "code",
   "execution_count": 119,
   "metadata": {},
   "outputs": [
    {
     "name": "stderr",
     "output_type": "stream",
     "text": [
      "<ipython-input-119-80866cccb54f>:1: SettingWithCopyWarning: \n",
      "A value is trying to be set on a copy of a slice from a DataFrame.\n",
      "Try using .loc[row_indexer,col_indexer] = value instead\n",
      "\n",
      "See the caveats in the documentation: https://pandas.pydata.org/pandas-docs/stable/user_guide/indexing.html#returning-a-view-versus-a-copy\n",
      "  data2_clean['age']=(dt.datetime.now()-data2['DOB'])/np.timedelta64(1,'Y')\n",
      "<ipython-input-119-80866cccb54f>:2: SettingWithCopyWarning: \n",
      "A value is trying to be set on a copy of a slice from a DataFrame.\n",
      "Try using .loc[row_indexer,col_indexer] = value instead\n",
      "\n",
      "See the caveats in the documentation: https://pandas.pydata.org/pandas-docs/stable/user_guide/indexing.html#returning-a-view-versus-a-copy\n",
      "  data2_clean['age_class']=((round(data2_clean['age']/10))*10).astype(int)\n"
     ]
    },
    {
     "data": {
      "text/html": [
       "<div>\n",
       "<style scoped>\n",
       "    .dataframe tbody tr th:only-of-type {\n",
       "        vertical-align: middle;\n",
       "    }\n",
       "\n",
       "    .dataframe tbody tr th {\n",
       "        vertical-align: top;\n",
       "    }\n",
       "\n",
       "    .dataframe thead th {\n",
       "        text-align: right;\n",
       "    }\n",
       "</style>\n",
       "<table border=\"1\" class=\"dataframe\">\n",
       "  <thead>\n",
       "    <tr style=\"text-align: right;\">\n",
       "      <th></th>\n",
       "      <th>first_name</th>\n",
       "      <th>last_name</th>\n",
       "      <th>gender</th>\n",
       "      <th>past_3_years_bike_related_purchases</th>\n",
       "      <th>DOB</th>\n",
       "      <th>job_title</th>\n",
       "      <th>job_industry_category</th>\n",
       "      <th>wealth_segment</th>\n",
       "      <th>deceased_indicator</th>\n",
       "      <th>owns_car</th>\n",
       "      <th>...</th>\n",
       "      <th>property_valuation</th>\n",
       "      <th>Unnamed: 16</th>\n",
       "      <th>Unnamed: 17</th>\n",
       "      <th>Unnamed: 18</th>\n",
       "      <th>Unnamed: 19</th>\n",
       "      <th>Unnamed: 20</th>\n",
       "      <th>Rank</th>\n",
       "      <th>Value</th>\n",
       "      <th>age</th>\n",
       "      <th>age_class</th>\n",
       "    </tr>\n",
       "  </thead>\n",
       "  <tbody>\n",
       "    <tr>\n",
       "      <th>0</th>\n",
       "      <td>Chickie</td>\n",
       "      <td>Brister</td>\n",
       "      <td>Male</td>\n",
       "      <td>86</td>\n",
       "      <td>1957-07-12</td>\n",
       "      <td>General Manager</td>\n",
       "      <td>Manufacturing</td>\n",
       "      <td>Mass Customer</td>\n",
       "      <td>N</td>\n",
       "      <td>Yes</td>\n",
       "      <td>...</td>\n",
       "      <td>6</td>\n",
       "      <td>0.86</td>\n",
       "      <td>1.075</td>\n",
       "      <td>1.34375</td>\n",
       "      <td>1.142187</td>\n",
       "      <td>1</td>\n",
       "      <td>1</td>\n",
       "      <td>1.718750</td>\n",
       "      <td>64.764943</td>\n",
       "      <td>60</td>\n",
       "    </tr>\n",
       "    <tr>\n",
       "      <th>1</th>\n",
       "      <td>Morly</td>\n",
       "      <td>Genery</td>\n",
       "      <td>Male</td>\n",
       "      <td>69</td>\n",
       "      <td>1970-03-22</td>\n",
       "      <td>Structural Engineer</td>\n",
       "      <td>Property</td>\n",
       "      <td>Mass Customer</td>\n",
       "      <td>N</td>\n",
       "      <td>No</td>\n",
       "      <td>...</td>\n",
       "      <td>11</td>\n",
       "      <td>0.58</td>\n",
       "      <td>0.580</td>\n",
       "      <td>0.72500</td>\n",
       "      <td>0.616250</td>\n",
       "      <td>1</td>\n",
       "      <td>1</td>\n",
       "      <td>1.718750</td>\n",
       "      <td>52.072006</td>\n",
       "      <td>50</td>\n",
       "    </tr>\n",
       "    <tr>\n",
       "      <th>2</th>\n",
       "      <td>Ardelis</td>\n",
       "      <td>Forrester</td>\n",
       "      <td>Female</td>\n",
       "      <td>10</td>\n",
       "      <td>1974-08-28</td>\n",
       "      <td>Senior Cost Accountant</td>\n",
       "      <td>Financial Services</td>\n",
       "      <td>Affluent Customer</td>\n",
       "      <td>N</td>\n",
       "      <td>No</td>\n",
       "      <td>...</td>\n",
       "      <td>5</td>\n",
       "      <td>0.56</td>\n",
       "      <td>0.560</td>\n",
       "      <td>0.56000</td>\n",
       "      <td>0.560000</td>\n",
       "      <td>1</td>\n",
       "      <td>1</td>\n",
       "      <td>1.718750</td>\n",
       "      <td>47.636597</td>\n",
       "      <td>50</td>\n",
       "    </tr>\n",
       "    <tr>\n",
       "      <th>3</th>\n",
       "      <td>Lucine</td>\n",
       "      <td>Stutt</td>\n",
       "      <td>Female</td>\n",
       "      <td>64</td>\n",
       "      <td>1979-01-28</td>\n",
       "      <td>Account Representative III</td>\n",
       "      <td>Manufacturing</td>\n",
       "      <td>Affluent Customer</td>\n",
       "      <td>N</td>\n",
       "      <td>Yes</td>\n",
       "      <td>...</td>\n",
       "      <td>1</td>\n",
       "      <td>1.08</td>\n",
       "      <td>1.350</td>\n",
       "      <td>1.35000</td>\n",
       "      <td>1.350000</td>\n",
       "      <td>4</td>\n",
       "      <td>4</td>\n",
       "      <td>1.703125</td>\n",
       "      <td>43.217615</td>\n",
       "      <td>40</td>\n",
       "    </tr>\n",
       "    <tr>\n",
       "      <th>4</th>\n",
       "      <td>Melinda</td>\n",
       "      <td>Hadlee</td>\n",
       "      <td>Female</td>\n",
       "      <td>34</td>\n",
       "      <td>1965-09-21</td>\n",
       "      <td>Financial Analyst</td>\n",
       "      <td>Financial Services</td>\n",
       "      <td>Affluent Customer</td>\n",
       "      <td>N</td>\n",
       "      <td>No</td>\n",
       "      <td>...</td>\n",
       "      <td>9</td>\n",
       "      <td>0.86</td>\n",
       "      <td>0.860</td>\n",
       "      <td>1.07500</td>\n",
       "      <td>1.075000</td>\n",
       "      <td>4</td>\n",
       "      <td>4</td>\n",
       "      <td>1.703125</td>\n",
       "      <td>56.570388</td>\n",
       "      <td>60</td>\n",
       "    </tr>\n",
       "  </tbody>\n",
       "</table>\n",
       "<p>5 rows × 25 columns</p>\n",
       "</div>"
      ],
      "text/plain": [
       "  first_name  last_name  gender  past_3_years_bike_related_purchases  \\\n",
       "0    Chickie    Brister    Male                                   86   \n",
       "1      Morly     Genery    Male                                   69   \n",
       "2    Ardelis  Forrester  Female                                   10   \n",
       "3     Lucine      Stutt  Female                                   64   \n",
       "4    Melinda     Hadlee  Female                                   34   \n",
       "\n",
       "         DOB                   job_title job_industry_category  \\\n",
       "0 1957-07-12             General Manager         Manufacturing   \n",
       "1 1970-03-22         Structural Engineer              Property   \n",
       "2 1974-08-28      Senior Cost Accountant    Financial Services   \n",
       "3 1979-01-28  Account Representative III         Manufacturing   \n",
       "4 1965-09-21           Financial Analyst    Financial Services   \n",
       "\n",
       "      wealth_segment deceased_indicator owns_car  ...  property_valuation  \\\n",
       "0      Mass Customer                  N      Yes  ...                   6   \n",
       "1      Mass Customer                  N       No  ...                  11   \n",
       "2  Affluent Customer                  N       No  ...                   5   \n",
       "3  Affluent Customer                  N      Yes  ...                   1   \n",
       "4  Affluent Customer                  N       No  ...                   9   \n",
       "\n",
       "  Unnamed: 16  Unnamed: 17 Unnamed: 18 Unnamed: 19  Unnamed: 20  Rank  \\\n",
       "0        0.86        1.075     1.34375    1.142187            1     1   \n",
       "1        0.58        0.580     0.72500    0.616250            1     1   \n",
       "2        0.56        0.560     0.56000    0.560000            1     1   \n",
       "3        1.08        1.350     1.35000    1.350000            4     4   \n",
       "4        0.86        0.860     1.07500    1.075000            4     4   \n",
       "\n",
       "      Value        age  age_class  \n",
       "0  1.718750  64.764943         60  \n",
       "1  1.718750  52.072006         50  \n",
       "2  1.718750  47.636597         50  \n",
       "3  1.703125  43.217615         40  \n",
       "4  1.703125  56.570388         60  \n",
       "\n",
       "[5 rows x 25 columns]"
      ]
     },
     "execution_count": 119,
     "metadata": {},
     "output_type": "execute_result"
    }
   ],
   "source": [
    "data2_clean['age']=(dt.datetime.now()-data2['DOB'])/np.timedelta64(1,'Y')\n",
    "data2_clean['age_class']=((round(data2_clean['age']/10))*10).astype(int)\n",
    "data2_clean.head()"
   ]
  },
  {
   "cell_type": "code",
   "execution_count": 120,
   "metadata": {},
   "outputs": [
    {
     "data": {
      "image/png": "[encoded data removed]",
      "text/plain": [
       "<Figure size 432x288 with 1 Axes>"
      ]
     },
     "metadata": {},
     "output_type": "display_data"
    }
   ],
   "source": [
    "data2_clean.job_industry_category.value_counts().plot.pie(autopct=lambda pct: str(round(pct,2))+'%')\n",
    "plt.title('New Job Industries')\n",
    "plt.ylabel(' ')\n",
    "plt.show()"
   ]
  },
  {
   "cell_type": "code",
   "execution_count": 121,
   "metadata": {},
   "outputs": [
    {
     "data": {
      "image/png": "[encoded data removed]",
      "text/plain": [
       "<Figure size 432x288 with 1 Axes>"
      ]
     },
     "metadata": {
      "needs_background": "light"
     },
     "output_type": "display_data"
    }
   ],
   "source": [
    "data2_clean.groupby('age_class')['state'].value_counts().unstack(level=1).plot.bar(stacked=True,color=['black','coral','brown'])\n",
    "for i,v in enumerate(data2_clean.groupby('age_class').agg({'age':lambda x : len(x)})['age']):\n",
    "    plt.text(i-.25,v+10,int(v),color='black')\n",
    "axes=plt.gca()\n",
    "axes.set_ylim([0,200])\n",
    "plt.title('New Age Distribution with State')\n",
    "plt.show()"
   ]
  },
  {
   "cell_type": "code",
   "execution_count": 122,
   "metadata": {},
   "outputs": [
    {
     "data": {
      "image/png": "[encoded data removed]",
      "text/plain": [
       "<Figure size 432x288 with 1 Axes>"
      ]
     },
     "metadata": {
      "needs_background": "light"
     },
     "output_type": "display_data"
    }
   ],
   "source": [
    "data2_clean.groupby('state')['owns_car'].value_counts().unstack(level=1).plot.bar(stacked=False,color=['black','lightblue'])\n",
    "for i, v in enumerate(data2_clean.groupby('state').agg({'owns_car':lambda x:len(x)})['owns_car']):\n",
    "    plt.text(i-.1,v//2+25,int(v),color='black')\n",
    "axes=plt.gca()\n",
    "axes.set_ylim([0,225])\n",
    "\n",
    "plt.title('New Car Ownership in each State')\n",
    "plt.show()"
   ]
  },
  {
   "cell_type": "code",
   "execution_count": 123,
   "metadata": {},
   "outputs": [
    {
     "data": {
      "image/png": "[encoded data removed]",
      "text/plain": [
       "<Figure size 432x288 with 1 Axes>"
      ]
     },
     "metadata": {
      "needs_background": "light"
     },
     "output_type": "display_data"
    }
   ],
   "source": [
    "data2_clean.groupby('wealth_segment')['gender'].value_counts().unstack(level=1).plot.bar(stacked=False,color=['black','lightblue'])\n",
    "for i,v in enumerate(data2_clean.groupby('wealth_segment').agg({'gender':lambda x:len(x)})['gender']):\n",
    "    plt.text(i-.1,v//2+15,int(v),color='black')\n",
    "axes=plt.gca()\n",
    "axes.set_ylim([0,225])\n",
    "plt.title('New Gender by Wealth Segment')\n",
    "plt.show()"
   ]
  },
  {
   "cell_type": "code",
   "execution_count": 125,
   "metadata": {},
   "outputs": [
    {
     "data": {
      "image/png": "[encoded data removed]",
      "text/plain": [
       "<Figure size 432x288 with 1 Axes>"
      ]
     },
     "metadata": {
      "needs_background": "light"
     },
     "output_type": "display_data"
    }
   ],
   "source": [
    "data2_clean.groupby('job_industry_category')['owns_car'].value_counts().unstack(level=1).plot.barh(stacked=False,color=['black','lightblue'])\n",
    "for i, v in enumerate(data2.groupby('job_industry_category').agg({'owns_car': lambda x: len(x)})['owns_car']):\n",
    "    plt.text(v // 2 + 6, i - .1, int(v), color='black')\n",
    "axes = plt.gca()\n",
    "axes.set_xlim([0,105])\n",
    "plt.title('New Car Ownership by Job Industry')\n",
    "plt.legend(['Does Not Own a Car', 'Owns a Car'], loc='upper right')\n",
    "plt.show()"
   ]
  },
  {
   "cell_type": "code",
   "execution_count": 126,
   "metadata": {},
   "outputs": [
    {
     "data": {
      "image/png": "[encoded data removed]",
      "text/plain": [
       "<Figure size 432x288 with 1 Axes>"
      ]
     },
     "metadata": {
      "needs_background": "light"
     },
     "output_type": "display_data"
    }
   ],
   "source": [
    "\n",
    "data2_clean.groupby('age_class')['gender'].value_counts().unstack(level=1).plot.bar(stacked=True,color=['lightcoral','lightblue'])\n",
    "for i, v in enumerate(data2_clean.groupby('age_class').agg({'gender': lambda x: len(x)})['gender']):\n",
    "    plt.text(i - .1, v + 10, int(v), color='black')\n",
    "axes = plt.gca()\n",
    "axes.set_ylim([0, 175])\n",
    "plt.title('New Gender with Age Distribution')\n",
    "plt.show()"
   ]
  },
  {
   "cell_type": "code",
   "execution_count": 127,
   "metadata": {},
   "outputs": [
    {
     "data": {
      "text/html": [
       "<div>\n",
       "<style scoped>\n",
       "    .dataframe tbody tr th:only-of-type {\n",
       "        vertical-align: middle;\n",
       "    }\n",
       "\n",
       "    .dataframe tbody tr th {\n",
       "        vertical-align: top;\n",
       "    }\n",
       "\n",
       "    .dataframe thead th {\n",
       "        text-align: right;\n",
       "    }\n",
       "</style>\n",
       "<table border=\"1\" class=\"dataframe\">\n",
       "  <thead>\n",
       "    <tr style=\"text-align: right;\">\n",
       "      <th></th>\n",
       "      <th>recency</th>\n",
       "      <th>frequency</th>\n",
       "      <th>monetary_value</th>\n",
       "      <th>r_score</th>\n",
       "      <th>f_score</th>\n",
       "      <th>m_score</th>\n",
       "      <th>rfm_class</th>\n",
       "      <th>total_score</th>\n",
       "      <th>customer_title</th>\n",
       "      <th>customer_id_x</th>\n",
       "      <th>...</th>\n",
       "      <th>tenure</th>\n",
       "      <th>age</th>\n",
       "      <th>age_class</th>\n",
       "      <th>customer_id_y</th>\n",
       "      <th>address</th>\n",
       "      <th>postcode</th>\n",
       "      <th>state</th>\n",
       "      <th>country</th>\n",
       "      <th>property_valuation</th>\n",
       "      <th>customer_segment</th>\n",
       "    </tr>\n",
       "  </thead>\n",
       "  <tbody>\n",
       "    <tr>\n",
       "      <th>1</th>\n",
       "      <td>7.0</td>\n",
       "      <td>11</td>\n",
       "      <td>3018.09</td>\n",
       "      <td>1</td>\n",
       "      <td>1</td>\n",
       "      <td>2</td>\n",
       "      <td>112</td>\n",
       "      <td>4</td>\n",
       "      <td>gold</td>\n",
       "      <td>2</td>\n",
       "      <td>...</td>\n",
       "      <td>16.0</td>\n",
       "      <td>41.333935</td>\n",
       "      <td>40</td>\n",
       "      <td>2</td>\n",
       "      <td>6 Meadow Vale Court</td>\n",
       "      <td>2153</td>\n",
       "      <td>NSW</td>\n",
       "      <td>Australia</td>\n",
       "      <td>10</td>\n",
       "      <td>Very Loyal</td>\n",
       "    </tr>\n",
       "    <tr>\n",
       "      <th>2</th>\n",
       "      <td>128.0</td>\n",
       "      <td>3</td>\n",
       "      <td>2226.26</td>\n",
       "      <td>4</td>\n",
       "      <td>4</td>\n",
       "      <td>3</td>\n",
       "      <td>443</td>\n",
       "      <td>11</td>\n",
       "      <td>None</td>\n",
       "      <td>3</td>\n",
       "      <td>...</td>\n",
       "      <td>15.0</td>\n",
       "      <td>68.239347</td>\n",
       "      <td>70</td>\n",
       "      <td>4</td>\n",
       "      <td>0 Holy Cross Court</td>\n",
       "      <td>4211</td>\n",
       "      <td>QLD</td>\n",
       "      <td>Australia</td>\n",
       "      <td>9</td>\n",
       "      <td>Inactive</td>\n",
       "    </tr>\n",
       "    <tr>\n",
       "      <th>3</th>\n",
       "      <td>102.0</td>\n",
       "      <td>7</td>\n",
       "      <td>3290.21</td>\n",
       "      <td>4</td>\n",
       "      <td>2</td>\n",
       "      <td>2</td>\n",
       "      <td>422</td>\n",
       "      <td>8</td>\n",
       "      <td>None</td>\n",
       "      <td>4</td>\n",
       "      <td>...</td>\n",
       "      <td>7.0</td>\n",
       "      <td>60.537615</td>\n",
       "      <td>60</td>\n",
       "      <td>5</td>\n",
       "      <td>17979 Del Mar Point</td>\n",
       "      <td>2448</td>\n",
       "      <td>NSW</td>\n",
       "      <td>Australia</td>\n",
       "      <td>4</td>\n",
       "      <td>High Risk</td>\n",
       "    </tr>\n",
       "    <tr>\n",
       "      <th>5</th>\n",
       "      <td>16.0</td>\n",
       "      <td>6</td>\n",
       "      <td>2394.94</td>\n",
       "      <td>1</td>\n",
       "      <td>2</td>\n",
       "      <td>3</td>\n",
       "      <td>123</td>\n",
       "      <td>6</td>\n",
       "      <td>gold</td>\n",
       "      <td>6</td>\n",
       "      <td>...</td>\n",
       "      <td>13.0</td>\n",
       "      <td>55.584741</td>\n",
       "      <td>60</td>\n",
       "      <td>7</td>\n",
       "      <td>4 Delaware Trail</td>\n",
       "      <td>2210</td>\n",
       "      <td>NSW</td>\n",
       "      <td>Australia</td>\n",
       "      <td>9</td>\n",
       "      <td>Recent</td>\n",
       "    </tr>\n",
       "    <tr>\n",
       "      <th>6</th>\n",
       "      <td>64.0</td>\n",
       "      <td>5</td>\n",
       "      <td>3946.55</td>\n",
       "      <td>3</td>\n",
       "      <td>3</td>\n",
       "      <td>2</td>\n",
       "      <td>332</td>\n",
       "      <td>8</td>\n",
       "      <td>bronze</td>\n",
       "      <td>7</td>\n",
       "      <td>...</td>\n",
       "      <td>11.0</td>\n",
       "      <td>46.147175</td>\n",
       "      <td>50</td>\n",
       "      <td>8</td>\n",
       "      <td>49 Londonderry Lane</td>\n",
       "      <td>2650</td>\n",
       "      <td>NSW</td>\n",
       "      <td>Australia</td>\n",
       "      <td>4</td>\n",
       "      <td>High Risk</td>\n",
       "    </tr>\n",
       "    <tr>\n",
       "      <th>...</th>\n",
       "      <td>...</td>\n",
       "      <td>...</td>\n",
       "      <td>...</td>\n",
       "      <td>...</td>\n",
       "      <td>...</td>\n",
       "      <td>...</td>\n",
       "      <td>...</td>\n",
       "      <td>...</td>\n",
       "      <td>...</td>\n",
       "      <td>...</td>\n",
       "      <td>...</td>\n",
       "      <td>...</td>\n",
       "      <td>...</td>\n",
       "      <td>...</td>\n",
       "      <td>...</td>\n",
       "      <td>...</td>\n",
       "      <td>...</td>\n",
       "      <td>...</td>\n",
       "      <td>...</td>\n",
       "      <td>...</td>\n",
       "      <td>...</td>\n",
       "    </tr>\n",
       "    <tr>\n",
       "      <th>3496</th>\n",
       "      <td>256.0</td>\n",
       "      <td>4</td>\n",
       "      <td>2045.84</td>\n",
       "      <td>4</td>\n",
       "      <td>4</td>\n",
       "      <td>3</td>\n",
       "      <td>443</td>\n",
       "      <td>11</td>\n",
       "      <td>None</td>\n",
       "      <td>3497</td>\n",
       "      <td>...</td>\n",
       "      <td>18.0</td>\n",
       "      <td>35.956686</td>\n",
       "      <td>40</td>\n",
       "      <td>3501</td>\n",
       "      <td>16 Carberry Pass</td>\n",
       "      <td>2119</td>\n",
       "      <td>NSW</td>\n",
       "      <td>Australia</td>\n",
       "      <td>11</td>\n",
       "      <td>Inactive</td>\n",
       "    </tr>\n",
       "    <tr>\n",
       "      <th>3497</th>\n",
       "      <td>52.0</td>\n",
       "      <td>3</td>\n",
       "      <td>1648.32</td>\n",
       "      <td>3</td>\n",
       "      <td>4</td>\n",
       "      <td>4</td>\n",
       "      <td>344</td>\n",
       "      <td>11</td>\n",
       "      <td>bronze</td>\n",
       "      <td>3498</td>\n",
       "      <td>...</td>\n",
       "      <td>5.0</td>\n",
       "      <td>26.456148</td>\n",
       "      <td>30</td>\n",
       "      <td>3502</td>\n",
       "      <td>12 Elgar Place</td>\n",
       "      <td>2155</td>\n",
       "      <td>NSW</td>\n",
       "      <td>Australia</td>\n",
       "      <td>10</td>\n",
       "      <td>Inactive</td>\n",
       "    </tr>\n",
       "    <tr>\n",
       "      <th>3498</th>\n",
       "      <td>127.0</td>\n",
       "      <td>6</td>\n",
       "      <td>3147.33</td>\n",
       "      <td>4</td>\n",
       "      <td>2</td>\n",
       "      <td>2</td>\n",
       "      <td>422</td>\n",
       "      <td>8</td>\n",
       "      <td>None</td>\n",
       "      <td>3499</td>\n",
       "      <td>...</td>\n",
       "      <td>7.0</td>\n",
       "      <td>42.834308</td>\n",
       "      <td>40</td>\n",
       "      <td>3503</td>\n",
       "      <td>8749 Menomonie Point</td>\n",
       "      <td>2122</td>\n",
       "      <td>NSW</td>\n",
       "      <td>Australia</td>\n",
       "      <td>11</td>\n",
       "      <td>High Risk</td>\n",
       "    </tr>\n",
       "    <tr>\n",
       "      <th>3499</th>\n",
       "      <td>51.0</td>\n",
       "      <td>7</td>\n",
       "      <td>4955.25</td>\n",
       "      <td>3</td>\n",
       "      <td>2</td>\n",
       "      <td>1</td>\n",
       "      <td>321</td>\n",
       "      <td>6</td>\n",
       "      <td>bronze</td>\n",
       "      <td>3500</td>\n",
       "      <td>...</td>\n",
       "      <td>17.0</td>\n",
       "      <td>54.741466</td>\n",
       "      <td>50</td>\n",
       "      <td>3504</td>\n",
       "      <td>18072 American Parkway</td>\n",
       "      <td>3195</td>\n",
       "      <td>VIC</td>\n",
       "      <td>Australia</td>\n",
       "      <td>10</td>\n",
       "      <td>Recent</td>\n",
       "    </tr>\n",
       "    <tr>\n",
       "      <th>3500</th>\n",
       "      <td>144.0</td>\n",
       "      <td>6</td>\n",
       "      <td>1785.86</td>\n",
       "      <td>4</td>\n",
       "      <td>2</td>\n",
       "      <td>4</td>\n",
       "      <td>424</td>\n",
       "      <td>10</td>\n",
       "      <td>None</td>\n",
       "      <td>3501</td>\n",
       "      <td>...</td>\n",
       "      <td>18.0</td>\n",
       "      <td>52.241756</td>\n",
       "      <td>50</td>\n",
       "      <td>3505</td>\n",
       "      <td>5854 Weeping Birch Avenue</td>\n",
       "      <td>2022</td>\n",
       "      <td>NSW</td>\n",
       "      <td>Australia</td>\n",
       "      <td>10</td>\n",
       "      <td>Losing</td>\n",
       "    </tr>\n",
       "  </tbody>\n",
       "</table>\n",
       "<p>2853 rows × 26 columns</p>\n",
       "</div>"
      ],
      "text/plain": [
       "      recency  frequency  monetary_value  r_score  f_score  m_score  \\\n",
       "1         7.0         11         3018.09        1        1        2   \n",
       "2       128.0          3         2226.26        4        4        3   \n",
       "3       102.0          7         3290.21        4        2        2   \n",
       "5        16.0          6         2394.94        1        2        3   \n",
       "6        64.0          5         3946.55        3        3        2   \n",
       "...       ...        ...             ...      ...      ...      ...   \n",
       "3496    256.0          4         2045.84        4        4        3   \n",
       "3497     52.0          3         1648.32        3        4        4   \n",
       "3498    127.0          6         3147.33        4        2        2   \n",
       "3499     51.0          7         4955.25        3        2        1   \n",
       "3500    144.0          6         1785.86        4        2        4   \n",
       "\n",
       "      rfm_class  total_score customer_title  customer_id_x  ... tenure  \\\n",
       "1           112            4           gold              2  ...   16.0   \n",
       "2           443           11           None              3  ...   15.0   \n",
       "3           422            8           None              4  ...    7.0   \n",
       "5           123            6           gold              6  ...   13.0   \n",
       "6           332            8         bronze              7  ...   11.0   \n",
       "...         ...          ...            ...            ...  ...    ...   \n",
       "3496        443           11           None           3497  ...   18.0   \n",
       "3497        344           11         bronze           3498  ...    5.0   \n",
       "3498        422            8           None           3499  ...    7.0   \n",
       "3499        321            6         bronze           3500  ...   17.0   \n",
       "3500        424           10           None           3501  ...   18.0   \n",
       "\n",
       "            age age_class customer_id_y                    address  postcode  \\\n",
       "1     41.333935        40             2        6 Meadow Vale Court      2153   \n",
       "2     68.239347        70             4         0 Holy Cross Court      4211   \n",
       "3     60.537615        60             5        17979 Del Mar Point      2448   \n",
       "5     55.584741        60             7           4 Delaware Trail      2210   \n",
       "6     46.147175        50             8        49 Londonderry Lane      2650   \n",
       "...         ...       ...           ...                        ...       ...   \n",
       "3496  35.956686        40          3501           16 Carberry Pass      2119   \n",
       "3497  26.456148        30          3502             12 Elgar Place      2155   \n",
       "3498  42.834308        40          3503       8749 Menomonie Point      2122   \n",
       "3499  54.741466        50          3504     18072 American Parkway      3195   \n",
       "3500  52.241756        50          3505  5854 Weeping Birch Avenue      2022   \n",
       "\n",
       "      state    country  property_valuation  customer_segment  \n",
       "1       NSW  Australia                  10        Very Loyal  \n",
       "2       QLD  Australia                   9          Inactive  \n",
       "3       NSW  Australia                   4         High Risk  \n",
       "5       NSW  Australia                   9            Recent  \n",
       "6       NSW  Australia                   4         High Risk  \n",
       "...     ...        ...                 ...               ...  \n",
       "3496    NSW  Australia                  11          Inactive  \n",
       "3497    NSW  Australia                  10          Inactive  \n",
       "3498    NSW  Australia                  11         High Risk  \n",
       "3499    VIC  Australia                  10            Recent  \n",
       "3500    NSW  Australia                  10            Losing  \n",
       "\n",
       "[2853 rows x 26 columns]"
      ]
     },
     "execution_count": 127,
     "metadata": {},
     "output_type": "execute_result"
    }
   ],
   "source": [
    "addr_demo['customer_segment'] = addr_demo['total_score'].map({\n",
    "    3: 'Platinum',\n",
    "    4: 'Very Loyal',\n",
    "    5: 'Becoming Loyal',\n",
    "    6: 'Recent',\n",
    "    7: 'Average',\n",
    "    8: 'High Risk',\n",
    "    9: 'Evasive',\n",
    "    10: 'Losing',\n",
    "    11: 'Inactive',\n",
    "    12: 'Lost'\n",
    "})\n",
    "addr_demo"
   ]
  },
  {
   "cell_type": "code",
   "execution_count": 128,
   "metadata": {},
   "outputs": [
    {
     "data": {
      "text/html": [
       "<div>\n",
       "<style scoped>\n",
       "    .dataframe tbody tr th:only-of-type {\n",
       "        vertical-align: middle;\n",
       "    }\n",
       "\n",
       "    .dataframe tbody tr th {\n",
       "        vertical-align: top;\n",
       "    }\n",
       "\n",
       "    .dataframe thead th {\n",
       "        text-align: right;\n",
       "    }\n",
       "</style>\n",
       "<table border=\"1\" class=\"dataframe\">\n",
       "  <thead>\n",
       "    <tr style=\"text-align: right;\">\n",
       "      <th></th>\n",
       "      <th>recency</th>\n",
       "      <th>frequency</th>\n",
       "      <th>monetary_value</th>\n",
       "      <th>r_score</th>\n",
       "      <th>f_score</th>\n",
       "      <th>m_score</th>\n",
       "      <th>rfm_class</th>\n",
       "      <th>total_score</th>\n",
       "      <th>customer_title</th>\n",
       "      <th>customer_id_x</th>\n",
       "      <th>...</th>\n",
       "      <th>tenure</th>\n",
       "      <th>age</th>\n",
       "      <th>age_class</th>\n",
       "      <th>customer_id_y</th>\n",
       "      <th>address</th>\n",
       "      <th>postcode</th>\n",
       "      <th>state</th>\n",
       "      <th>country</th>\n",
       "      <th>property_valuation</th>\n",
       "      <th>customer_segment</th>\n",
       "    </tr>\n",
       "  </thead>\n",
       "  <tbody>\n",
       "    <tr>\n",
       "      <th>1460</th>\n",
       "      <td>12.0</td>\n",
       "      <td>8</td>\n",
       "      <td>10787.60</td>\n",
       "      <td>1</td>\n",
       "      <td>1</td>\n",
       "      <td>1</td>\n",
       "      <td>111</td>\n",
       "      <td>3</td>\n",
       "      <td>platium</td>\n",
       "      <td>1461</td>\n",
       "      <td>...</td>\n",
       "      <td>9.0</td>\n",
       "      <td>65.282407</td>\n",
       "      <td>70</td>\n",
       "      <td>1465</td>\n",
       "      <td>55 Red Cloud Pass</td>\n",
       "      <td>2536</td>\n",
       "      <td>NSW</td>\n",
       "      <td>Australia</td>\n",
       "      <td>5</td>\n",
       "      <td>Platinum</td>\n",
       "    </tr>\n",
       "    <tr>\n",
       "      <th>739</th>\n",
       "      <td>1.0</td>\n",
       "      <td>10</td>\n",
       "      <td>4842.20</td>\n",
       "      <td>1</td>\n",
       "      <td>1</td>\n",
       "      <td>1</td>\n",
       "      <td>111</td>\n",
       "      <td>3</td>\n",
       "      <td>platium</td>\n",
       "      <td>740</td>\n",
       "      <td>...</td>\n",
       "      <td>6.0</td>\n",
       "      <td>27.663565</td>\n",
       "      <td>30</td>\n",
       "      <td>744</td>\n",
       "      <td>2 North Crossing</td>\n",
       "      <td>3111</td>\n",
       "      <td>VIC</td>\n",
       "      <td>Australia</td>\n",
       "      <td>11</td>\n",
       "      <td>Platinum</td>\n",
       "    </tr>\n",
       "    <tr>\n",
       "      <th>725</th>\n",
       "      <td>3.0</td>\n",
       "      <td>11</td>\n",
       "      <td>7321.50</td>\n",
       "      <td>1</td>\n",
       "      <td>1</td>\n",
       "      <td>1</td>\n",
       "      <td>111</td>\n",
       "      <td>3</td>\n",
       "      <td>platium</td>\n",
       "      <td>726</td>\n",
       "      <td>...</td>\n",
       "      <td>10.0</td>\n",
       "      <td>44.181358</td>\n",
       "      <td>40</td>\n",
       "      <td>730</td>\n",
       "      <td>2249 Havey Hill</td>\n",
       "      <td>3183</td>\n",
       "      <td>VIC</td>\n",
       "      <td>Australia</td>\n",
       "      <td>10</td>\n",
       "      <td>Platinum</td>\n",
       "    </tr>\n",
       "    <tr>\n",
       "      <th>719</th>\n",
       "      <td>11.0</td>\n",
       "      <td>8</td>\n",
       "      <td>4227.84</td>\n",
       "      <td>1</td>\n",
       "      <td>1</td>\n",
       "      <td>1</td>\n",
       "      <td>111</td>\n",
       "      <td>3</td>\n",
       "      <td>platium</td>\n",
       "      <td>720</td>\n",
       "      <td>...</td>\n",
       "      <td>6.0</td>\n",
       "      <td>90.484841</td>\n",
       "      <td>90</td>\n",
       "      <td>724</td>\n",
       "      <td>09 Bartelt Lane</td>\n",
       "      <td>2190</td>\n",
       "      <td>NSW</td>\n",
       "      <td>Australia</td>\n",
       "      <td>8</td>\n",
       "      <td>Platinum</td>\n",
       "    </tr>\n",
       "    <tr>\n",
       "      <th>2465</th>\n",
       "      <td>11.0</td>\n",
       "      <td>9</td>\n",
       "      <td>4384.09</td>\n",
       "      <td>1</td>\n",
       "      <td>1</td>\n",
       "      <td>1</td>\n",
       "      <td>111</td>\n",
       "      <td>3</td>\n",
       "      <td>platium</td>\n",
       "      <td>2466</td>\n",
       "      <td>...</td>\n",
       "      <td>16.0</td>\n",
       "      <td>41.533802</td>\n",
       "      <td>40</td>\n",
       "      <td>2470</td>\n",
       "      <td>6247 Crest Line Terrace</td>\n",
       "      <td>2250</td>\n",
       "      <td>NSW</td>\n",
       "      <td>Australia</td>\n",
       "      <td>8</td>\n",
       "      <td>Platinum</td>\n",
       "    </tr>\n",
       "    <tr>\n",
       "      <th>...</th>\n",
       "      <td>...</td>\n",
       "      <td>...</td>\n",
       "      <td>...</td>\n",
       "      <td>...</td>\n",
       "      <td>...</td>\n",
       "      <td>...</td>\n",
       "      <td>...</td>\n",
       "      <td>...</td>\n",
       "      <td>...</td>\n",
       "      <td>...</td>\n",
       "      <td>...</td>\n",
       "      <td>...</td>\n",
       "      <td>...</td>\n",
       "      <td>...</td>\n",
       "      <td>...</td>\n",
       "      <td>...</td>\n",
       "      <td>...</td>\n",
       "      <td>...</td>\n",
       "      <td>...</td>\n",
       "      <td>...</td>\n",
       "      <td>...</td>\n",
       "    </tr>\n",
       "    <tr>\n",
       "      <th>507</th>\n",
       "      <td>36.0</td>\n",
       "      <td>7</td>\n",
       "      <td>4290.77</td>\n",
       "      <td>2</td>\n",
       "      <td>2</td>\n",
       "      <td>1</td>\n",
       "      <td>221</td>\n",
       "      <td>5</td>\n",
       "      <td>silver</td>\n",
       "      <td>508</td>\n",
       "      <td>...</td>\n",
       "      <td>11.0</td>\n",
       "      <td>51.245158</td>\n",
       "      <td>50</td>\n",
       "      <td>512</td>\n",
       "      <td>089 Old Shore Point</td>\n",
       "      <td>3156</td>\n",
       "      <td>VIC</td>\n",
       "      <td>Australia</td>\n",
       "      <td>8</td>\n",
       "      <td>Becoming Loyal</td>\n",
       "    </tr>\n",
       "    <tr>\n",
       "      <th>2847</th>\n",
       "      <td>44.0</td>\n",
       "      <td>7</td>\n",
       "      <td>4509.11</td>\n",
       "      <td>2</td>\n",
       "      <td>2</td>\n",
       "      <td>1</td>\n",
       "      <td>221</td>\n",
       "      <td>5</td>\n",
       "      <td>silver</td>\n",
       "      <td>2848</td>\n",
       "      <td>...</td>\n",
       "      <td>13.0</td>\n",
       "      <td>55.247978</td>\n",
       "      <td>60</td>\n",
       "      <td>2852</td>\n",
       "      <td>35 Eastwood Plaza</td>\n",
       "      <td>3163</td>\n",
       "      <td>VIC</td>\n",
       "      <td>Australia</td>\n",
       "      <td>9</td>\n",
       "      <td>Becoming Loyal</td>\n",
       "    </tr>\n",
       "    <tr>\n",
       "      <th>1714</th>\n",
       "      <td>38.0</td>\n",
       "      <td>6</td>\n",
       "      <td>3372.13</td>\n",
       "      <td>2</td>\n",
       "      <td>2</td>\n",
       "      <td>2</td>\n",
       "      <td>222</td>\n",
       "      <td>6</td>\n",
       "      <td>silver</td>\n",
       "      <td>1715</td>\n",
       "      <td>...</td>\n",
       "      <td>12.0</td>\n",
       "      <td>33.875876</td>\n",
       "      <td>30</td>\n",
       "      <td>1719</td>\n",
       "      <td>03 Lillian Street</td>\n",
       "      <td>3071</td>\n",
       "      <td>VIC</td>\n",
       "      <td>Australia</td>\n",
       "      <td>8</td>\n",
       "      <td>Recent</td>\n",
       "    </tr>\n",
       "    <tr>\n",
       "      <th>1785</th>\n",
       "      <td>34.0</td>\n",
       "      <td>6</td>\n",
       "      <td>2827.73</td>\n",
       "      <td>2</td>\n",
       "      <td>2</td>\n",
       "      <td>2</td>\n",
       "      <td>222</td>\n",
       "      <td>6</td>\n",
       "      <td>silver</td>\n",
       "      <td>1786</td>\n",
       "      <td>...</td>\n",
       "      <td>11.0</td>\n",
       "      <td>60.077646</td>\n",
       "      <td>60</td>\n",
       "      <td>1790</td>\n",
       "      <td>4092 Brentwood Trail</td>\n",
       "      <td>2147</td>\n",
       "      <td>NSW</td>\n",
       "      <td>Australia</td>\n",
       "      <td>10</td>\n",
       "      <td>Recent</td>\n",
       "    </tr>\n",
       "    <tr>\n",
       "      <th>2447</th>\n",
       "      <td>39.0</td>\n",
       "      <td>7</td>\n",
       "      <td>3068.18</td>\n",
       "      <td>2</td>\n",
       "      <td>2</td>\n",
       "      <td>2</td>\n",
       "      <td>222</td>\n",
       "      <td>6</td>\n",
       "      <td>silver</td>\n",
       "      <td>2448</td>\n",
       "      <td>...</td>\n",
       "      <td>10.0</td>\n",
       "      <td>29.328213</td>\n",
       "      <td>30</td>\n",
       "      <td>2452</td>\n",
       "      <td>4898 Buell Terrace</td>\n",
       "      <td>3043</td>\n",
       "      <td>VIC</td>\n",
       "      <td>Australia</td>\n",
       "      <td>7</td>\n",
       "      <td>Recent</td>\n",
       "    </tr>\n",
       "  </tbody>\n",
       "</table>\n",
       "<p>1000 rows × 26 columns</p>\n",
       "</div>"
      ],
      "text/plain": [
       "      recency  frequency  monetary_value  r_score  f_score  m_score  \\\n",
       "1460     12.0          8        10787.60        1        1        1   \n",
       "739       1.0         10         4842.20        1        1        1   \n",
       "725       3.0         11         7321.50        1        1        1   \n",
       "719      11.0          8         4227.84        1        1        1   \n",
       "2465     11.0          9         4384.09        1        1        1   \n",
       "...       ...        ...             ...      ...      ...      ...   \n",
       "507      36.0          7         4290.77        2        2        1   \n",
       "2847     44.0          7         4509.11        2        2        1   \n",
       "1714     38.0          6         3372.13        2        2        2   \n",
       "1785     34.0          6         2827.73        2        2        2   \n",
       "2447     39.0          7         3068.18        2        2        2   \n",
       "\n",
       "      rfm_class  total_score customer_title  customer_id_x  ... tenure  \\\n",
       "1460        111            3        platium           1461  ...    9.0   \n",
       "739         111            3        platium            740  ...    6.0   \n",
       "725         111            3        platium            726  ...   10.0   \n",
       "719         111            3        platium            720  ...    6.0   \n",
       "2465        111            3        platium           2466  ...   16.0   \n",
       "...         ...          ...            ...            ...  ...    ...   \n",
       "507         221            5         silver            508  ...   11.0   \n",
       "2847        221            5         silver           2848  ...   13.0   \n",
       "1714        222            6         silver           1715  ...   12.0   \n",
       "1785        222            6         silver           1786  ...   11.0   \n",
       "2447        222            6         silver           2448  ...   10.0   \n",
       "\n",
       "            age age_class customer_id_y                  address  postcode  \\\n",
       "1460  65.282407        70          1465        55 Red Cloud Pass      2536   \n",
       "739   27.663565        30           744         2 North Crossing      3111   \n",
       "725   44.181358        40           730          2249 Havey Hill      3183   \n",
       "719   90.484841        90           724          09 Bartelt Lane      2190   \n",
       "2465  41.533802        40          2470  6247 Crest Line Terrace      2250   \n",
       "...         ...       ...           ...                      ...       ...   \n",
       "507   51.245158        50           512      089 Old Shore Point      3156   \n",
       "2847  55.247978        60          2852        35 Eastwood Plaza      3163   \n",
       "1714  33.875876        30          1719        03 Lillian Street      3071   \n",
       "1785  60.077646        60          1790     4092 Brentwood Trail      2147   \n",
       "2447  29.328213        30          2452       4898 Buell Terrace      3043   \n",
       "\n",
       "      state    country  property_valuation  customer_segment  \n",
       "1460    NSW  Australia                   5          Platinum  \n",
       "739     VIC  Australia                  11          Platinum  \n",
       "725     VIC  Australia                  10          Platinum  \n",
       "719     NSW  Australia                   8          Platinum  \n",
       "2465    NSW  Australia                   8          Platinum  \n",
       "...     ...        ...                 ...               ...  \n",
       "507     VIC  Australia                   8    Becoming Loyal  \n",
       "2847    VIC  Australia                   9    Becoming Loyal  \n",
       "1714    VIC  Australia                   8            Recent  \n",
       "1785    NSW  Australia                  10            Recent  \n",
       "2447    VIC  Australia                   7            Recent  \n",
       "\n",
       "[1000 rows x 26 columns]"
      ]
     },
     "execution_count": 128,
     "metadata": {},
     "output_type": "execute_result"
    }
   ],
   "source": [
    "top_1000 = addr_demo.sort_values('rfm_class').head(1000)\n",
    "top_1000"
   ]
  },
  {
   "cell_type": "code",
   "execution_count": 129,
   "metadata": {},
   "outputs": [
    {
     "name": "stderr",
     "output_type": "stream",
     "text": [
      "C:\\Users\\zipzi\\anaconda3\\lib\\site-packages\\xlsxwriter\\workbook.py:329: UserWarning: Calling close() on already closed file.\n",
      "  warn(\"Calling close() on already closed file.\")\n"
     ]
    }
   ],
   "source": [
    "writer=pd.ExcelWriter('kpmg_cleaned_data.xlsx',engine='xlsxwriter')\n",
    "addr_demo.to_excel(writer,sheet_name='Dataset')\n",
    "top_1000.to_excel(writer,sheet_name='Top 1000')\n",
    "writer.save()\n",
    "writer.close()"
   ]
  },
  {
   "cell_type": "code",
   "execution_count": null,
   "metadata": {},
   "outputs": [],
   "source": []
  }
 ],
 "metadata": {
  "kernelspec": {
   "display_name": "Python 3",
   "language": "python",
   "name": "python3"
  },
  "language_info": {
   "codemirror_mode": {
    "name": "ipython",
    "version": 3
   },
   "file_extension": ".py",
   "mimetype": "text/x-python",
   "name": "python",
   "nbconvert_exporter": "python",
   "pygments_lexer": "ipython3",
   "version": "3.8.5"
  }
 },
 "nbformat": 4,
 "nbformat_minor": 4
}
